{
 "cells": [
  {
   "cell_type": "code",
   "execution_count": 1,
   "id": "b5ca9d43",
   "metadata": {},
   "outputs": [
    {
     "name": "stderr",
     "output_type": "stream",
     "text": [
      "2025-05-15 15:46:07.771047: I tensorflow/core/util/port.cc:153] oneDNN custom operations are on. You may see slightly different numerical results due to floating-point round-off errors from different computation orders. To turn them off, set the environment variable `TF_ENABLE_ONEDNN_OPTS=0`.\n",
      "2025-05-15 15:46:07.779144: E external/local_xla/xla/stream_executor/cuda/cuda_fft.cc:467] Unable to register cuFFT factory: Attempting to register factory for plugin cuFFT when one has already been registered\n",
      "WARNING: All log messages before absl::InitializeLog() is called are written to STDERR\n",
      "E0000 00:00:1747349167.787753  343478 cuda_dnn.cc:8579] Unable to register cuDNN factory: Attempting to register factory for plugin cuDNN when one has already been registered\n",
      "E0000 00:00:1747349167.790366  343478 cuda_blas.cc:1407] Unable to register cuBLAS factory: Attempting to register factory for plugin cuBLAS when one has already been registered\n",
      "W0000 00:00:1747349167.797382  343478 computation_placer.cc:177] computation placer already registered. Please check linkage and avoid linking the same target more than once.\n",
      "W0000 00:00:1747349167.797394  343478 computation_placer.cc:177] computation placer already registered. Please check linkage and avoid linking the same target more than once.\n",
      "W0000 00:00:1747349167.797394  343478 computation_placer.cc:177] computation placer already registered. Please check linkage and avoid linking the same target more than once.\n",
      "W0000 00:00:1747349167.797395  343478 computation_placer.cc:177] computation placer already registered. Please check linkage and avoid linking the same target more than once.\n",
      "2025-05-15 15:46:07.799695: I tensorflow/core/platform/cpu_feature_guard.cc:210] This TensorFlow binary is optimized to use available CPU instructions in performance-critical operations.\n",
      "To enable the following instructions: AVX2 AVX_VNNI FMA, in other operations, rebuild TensorFlow with the appropriate compiler flags.\n"
     ]
    }
   ],
   "source": [
    "import os\n",
    "import logging\n",
    "from datetime import datetime\n",
    "import json\n",
    "\n",
    "import numpy as np\n",
    "from csbdeep.models import Config\n",
    "import onnxruntime as ort\n",
    "import onnx\n",
    "\n",
    "from flame import FLAMEImage\n",
    "from flame.utils import min_max_norm\n",
    "from flame.error import FLAMEImageError"
   ]
  },
  {
   "cell_type": "code",
   "execution_count": 2,
   "id": "c6c134e2",
   "metadata": {},
   "outputs": [],
   "source": [
    "assert 'CUDAExecutionProvider' in ort.get_available_providers()"
   ]
  },
  {
   "cell_type": "code",
   "execution_count": 3,
   "id": "0ae31990",
   "metadata": {},
   "outputs": [],
   "source": [
    "INFERENCE_DATA_DIR = \"/mnt/d/data/raw/0013_250514_HS6307_CAREtest_NA\"\n",
    "DATASET_DIRECTORY = \"/mnt/d/code/Balu_CARE/datasets\"\n",
    "DATASET_NAME = \"20250513_40I_denoising_7to40F\"\n",
    "DATASET_JSON = os.path.join(DATASET_DIRECTORY, f\"{DATASET_NAME}.json\")\n",
    "MODEL_DIRECTORY = \"/mnt/d/models/CARE/test_model\"\n",
    "MODEL_NAME = os.path.basename(MODEL_DIRECTORY)\n",
    "ONNX_PATH = os.path.join(MODEL_DIRECTORY, f\"{MODEL_NAME}.onnx\")\n",
    "JSON_PATH = os.path.join(MODEL_DIRECTORY, f\"config.json\")\n",
    "\n",
    "for f in [DATASET_JSON, ONNX_PATH, JSON_PATH]:\n",
    "    assert os.path.isfile(f)"
   ]
  },
  {
   "cell_type": "markdown",
   "id": "4fff1633",
   "metadata": {},
   "source": [
    "### Loading Images"
   ]
  },
  {
   "cell_type": "code",
   "execution_count": 4,
   "id": "251fd2ff",
   "metadata": {},
   "outputs": [],
   "source": [
    "images = []\n",
    "for root, dirs, files in os.walk(INFERENCE_DATA_DIR):\n",
    "    for f in files:\n",
    "        if \"tif\" in f or \"tiff\" in f:\n",
    "            try:\n",
    "                this_image = FLAMEImage(\n",
    "                    impath = os.path.join(root, f),\n",
    "                    jsonext = \"tileData.txt\",\n",
    "                    overrideNFrames = 1,\n",
    "                    checkFrames = False,\n",
    "                    checkZs = True\n",
    "                )\n",
    "            except FLAMEImageError as e:\n",
    "                continue\n",
    "            images.append(this_image)"
   ]
  },
  {
   "cell_type": "code",
   "execution_count": 5,
   "id": "9dd02391",
   "metadata": {},
   "outputs": [
    {
     "data": {
      "text/plain": [
       "'ZCYX'"
      ]
     },
     "execution_count": 5,
     "metadata": {},
     "output_type": "execute_result"
    }
   ],
   "source": [
    "images[0].axes_shape"
   ]
  },
  {
   "cell_type": "code",
   "execution_count": 27,
   "id": "fd33bab6",
   "metadata": {},
   "outputs": [],
   "source": [
    "test_output_dir = \"/mnt/c/Users/BaluLab/Desktop/test\"\n",
    "os.makedirs(test_output_dir, exist_ok=True)"
   ]
  },
  {
   "cell_type": "code",
   "execution_count": 6,
   "id": "dd7db562",
   "metadata": {},
   "outputs": [],
   "source": [
    "images[0].openImage()"
   ]
  },
  {
   "cell_type": "code",
   "execution_count": null,
   "id": "39ceb45c",
   "metadata": {},
   "outputs": [],
   "source": [
    "for idx in range(images[0].imShape[0]):\n",
    "    tiff.imwrite(os.path.join(test_output_dir, f\"{idx}.tiff\"), images[0].raw()[idx,...].transpose(1, 2, 0).astype(np.uint8))"
   ]
  },
  {
   "cell_type": "code",
   "execution_count": 5,
   "id": "362b85b1",
   "metadata": {},
   "outputs": [],
   "source": [
    "model_config_dict = json.load(open(JSON_PATH, 'r'))\n",
    "dataset_config_dict = json.load(open(DATASET_JSON, 'r'))"
   ]
  },
  {
   "cell_type": "code",
   "execution_count": 6,
   "id": "cd7c0ed1",
   "metadata": {},
   "outputs": [
    {
     "ename": "SyntaxError",
     "evalue": "invalid syntax (2034356163.py, line 1)",
     "output_type": "error",
     "traceback": [
      "\u001b[0;36m  Cell \u001b[0;32mIn[6], line 1\u001b[0;36m\u001b[0m\n\u001b[0;31m    dataset_config_dict['FLAME_Dataset'][]\u001b[0m\n\u001b[0m                                         ^\u001b[0m\n\u001b[0;31mSyntaxError\u001b[0m\u001b[0;31m:\u001b[0m invalid syntax\n"
     ]
    }
   ],
   "source": [
    "dataset_config_dict['FLAME_Dataset'][]"
   ]
  },
  {
   "cell_type": "markdown",
   "id": "0086f519",
   "metadata": {},
   "source": [
    "### Loading ONNX"
   ]
  },
  {
   "cell_type": "code",
   "execution_count": null,
   "id": "55eabb7a",
   "metadata": {},
   "outputs": [],
   "source": [
    "onnx_model = onnx.load(ONNX_PATH)\n",
    "onnx.checker.check_model(onnx_model)"
   ]
  },
  {
   "cell_type": "code",
   "execution_count": null,
   "id": "ea1a2f92",
   "metadata": {},
   "outputs": [
    {
     "name": "stderr",
     "output_type": "stream",
     "text": [
      "\u001b[0;93m2025-05-15 11:31:27.123088841 [W:onnxruntime:, session_state.cc:1280 VerifyEachNodeIsAssignedToAnEp] Some nodes were not assigned to the preferred execution providers which may or may not have an negative impact on performance. e.g. ORT explicitly assigns shape related ops to CPU to improve perf.\u001b[m\n",
      "\u001b[0;93m2025-05-15 11:31:27.123117107 [W:onnxruntime:, session_state.cc:1282 VerifyEachNodeIsAssignedToAnEp] Rerunning with verbose output on a non-minimal build will show node assignments.\u001b[m\n"
     ]
    }
   ],
   "source": [
    "ort_session = ort.InferenceSession(\n",
    "    ONNX_PATH,\n",
    "    providers=['CUDAExecutionProvider']\n",
    ")"
   ]
  },
  {
   "cell_type": "code",
   "execution_count": null,
   "id": "b5c4590f",
   "metadata": {},
   "outputs": [
    {
     "name": "stdout",
     "output_type": "stream",
     "text": [
      "Input Tensor\n",
      "Name: patch\n",
      "Shape: ['unk__193', 128, 128, 3]\n",
      "Type: tensor(float)\n"
     ]
    }
   ],
   "source": [
    "input_tensor = ort_session.get_inputs()[0]\n",
    "input_name, input_shape, input_type = input_tensor.name, input_tensor.shape, input_tensor.type\n",
    "print(f\"Input Tensor\\nName: {input_name}\\nShape: {input_shape}\\nType: {input_type}\")"
   ]
  },
  {
   "cell_type": "code",
   "execution_count": null,
   "id": "7ef090b2",
   "metadata": {},
   "outputs": [],
   "source": []
  }
 ],
 "metadata": {
  "kernelspec": {
   "display_name": "care",
   "language": "python",
   "name": "python3"
  },
  "language_info": {
   "codemirror_mode": {
    "name": "ipython",
    "version": 3
   },
   "file_extension": ".py",
   "mimetype": "text/x-python",
   "name": "python",
   "nbconvert_exporter": "python",
   "pygments_lexer": "ipython3",
   "version": "3.12.0"
  }
 },
 "nbformat": 4,
 "nbformat_minor": 5
}
