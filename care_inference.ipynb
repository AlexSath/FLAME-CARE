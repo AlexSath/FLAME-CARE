{
 "cells": [
  {
   "cell_type": "code",
   "execution_count": null,
   "id": "b5ca9d43",
   "metadata": {},
   "outputs": [
    {
     "name": "stderr",
     "output_type": "stream",
     "text": [
      "2025-05-16 08:53:15.269744: I tensorflow/core/util/port.cc:153] oneDNN custom operations are on. You may see slightly different numerical results due to floating-point round-off errors from different computation orders. To turn them off, set the environment variable `TF_ENABLE_ONEDNN_OPTS=0`.\n",
      "2025-05-16 08:53:15.280559: E external/local_xla/xla/stream_executor/cuda/cuda_fft.cc:467] Unable to register cuFFT factory: Attempting to register factory for plugin cuFFT when one has already been registered\n",
      "WARNING: All log messages before absl::InitializeLog() is called are written to STDERR\n",
      "E0000 00:00:1747410795.291554  523230 cuda_dnn.cc:8579] Unable to register cuDNN factory: Attempting to register factory for plugin cuDNN when one has already been registered\n",
      "E0000 00:00:1747410795.294489  523230 cuda_blas.cc:1407] Unable to register cuBLAS factory: Attempting to register factory for plugin cuBLAS when one has already been registered\n",
      "W0000 00:00:1747410795.302380  523230 computation_placer.cc:177] computation placer already registered. Please check linkage and avoid linking the same target more than once.\n",
      "W0000 00:00:1747410795.302389  523230 computation_placer.cc:177] computation placer already registered. Please check linkage and avoid linking the same target more than once.\n",
      "W0000 00:00:1747410795.302390  523230 computation_placer.cc:177] computation placer already registered. Please check linkage and avoid linking the same target more than once.\n",
      "W0000 00:00:1747410795.302391  523230 computation_placer.cc:177] computation placer already registered. Please check linkage and avoid linking the same target more than once.\n",
      "2025-05-16 08:53:15.304996: I tensorflow/core/platform/cpu_feature_guard.cc:210] This TensorFlow binary is optimized to use available CPU instructions in performance-critical operations.\n",
      "To enable the following instructions: AVX2 AVX_VNNI FMA, in other operations, rebuild TensorFlow with the appropriate compiler flags.\n"
     ]
    }
   ],
   "source": [
    "import os\n",
    "import logging\n",
    "from datetime import datetime\n",
    "import json\n",
    "\n",
    "import numpy as np\n",
    "from csbdeep.models import Config\n",
    "import onnxruntime as ort\n",
    "import onnx\n",
    "\n",
    "from flame import FLAMEImage, CAREInferenceSession\n",
    "from flame.utils import min_max_norm\n",
    "from flame.error import FLAMEImageError"
   ]
  },
  {
   "cell_type": "code",
   "execution_count": 3,
   "id": "0ae31990",
   "metadata": {},
   "outputs": [],
   "source": [
    "INFERENCE_DATA_DIR = \"/mnt/d/data/raw/0013_250514_HS6307_CAREtest_NA\"\n",
    "DATASET_DIRECTORY = \"/mnt/d/code/Balu_CARE/datasets\"\n",
    "DATASET_NAME = \"20250513_40I_denoising_7to40F\"\n",
    "DATASET_JSON = os.path.join(DATASET_DIRECTORY, f\"{DATASET_NAME}.json\")\n",
    "MODEL_DIRECTORY = \"/mnt/d/models/CARE/test_model\"\n",
    "MODEL_NAME = os.path.basename(MODEL_DIRECTORY)\n",
    "ONNX_PATH = os.path.join(MODEL_DIRECTORY, f\"{MODEL_NAME}.onnx\")\n",
    "JSON_PATH = os.path.join(MODEL_DIRECTORY, f\"config.json\")\n",
    "\n",
    "for f in [DATASET_JSON, ONNX_PATH, JSON_PATH]:\n",
    "    assert os.path.isfile(f)"
   ]
  },
  {
   "cell_type": "markdown",
   "id": "4fff1633",
   "metadata": {},
   "source": [
    "### Loading Images"
   ]
  },
  {
   "cell_type": "code",
   "execution_count": null,
   "id": "251fd2ff",
   "metadata": {},
   "outputs": [],
   "source": [
    "images = []\n",
    "for root, dirs, files in os.walk(INFERENCE_DATA_DIR):\n",
    "    for f in files:\n",
    "        if \"tif\" in f or \"tiff\" in f:\n",
    "            try:\n",
    "                this_image = FLAMEImage(\n",
    "                    impath = os.path.join(root, f),\n",
    "                    jsonext = \"tileData.txt\",\n",
    "                    overrideNFrames = 1,\n",
    "                    checkFrames = False,\n",
    "                    checkZs = True\n",
    "                )\n",
    "            except FLAMEImageError as e:\n",
    "                continue\n",
    "            images.append(this_image)"
   ]
  },
  {
   "cell_type": "markdown",
   "id": "0086f519",
   "metadata": {},
   "source": [
    "### Loading ONNX"
   ]
  },
  {
   "cell_type": "code",
   "execution_count": null,
   "id": "b5c4590f",
   "metadata": {},
   "outputs": [],
   "source": [
    "session = CAREInferenceSession(\n",
    "    model_path = ONNX_PATH,\n",
    "    model_config_path = JSON_PATH,\n",
    "    dataset_config_path = DATASET_JSON,\n",
    "    inference_images = images,\n",
    "    cpu_ok = False\n",
    ")"
   ]
  },
  {
   "cell_type": "code",
   "execution_count": null,
   "id": "7ef090b2",
   "metadata": {},
   "outputs": [],
   "source": []
  }
 ],
 "metadata": {
  "kernelspec": {
   "display_name": "care",
   "language": "python",
   "name": "python3"
  },
  "language_info": {
   "codemirror_mode": {
    "name": "ipython",
    "version": 3
   },
   "file_extension": ".py",
   "mimetype": "text/x-python",
   "name": "python",
   "nbconvert_exporter": "python",
   "pygments_lexer": "ipython3",
   "version": "3.12.0"
  }
 },
 "nbformat": 4,
 "nbformat_minor": 5
}
