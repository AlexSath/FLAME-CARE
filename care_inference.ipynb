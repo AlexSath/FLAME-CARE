{
 "cells": [
  {
   "cell_type": "code",
   "execution_count": 21,
   "id": "b5ca9d43",
   "metadata": {},
   "outputs": [],
   "source": [
    "import os\n",
    "import logging\n",
    "from datetime import datetime\n",
    "import json\n",
    "\n",
    "from csbdeep.models import Config\n",
    "import onnxruntime as ort\n",
    "import onnx\n",
    "\n",
    "from flame import FLAMEImage"
   ]
  },
  {
   "cell_type": "code",
   "execution_count": 4,
   "id": "c6c134e2",
   "metadata": {},
   "outputs": [],
   "source": [
    "assert 'CUDAExecutionProvider' in ort.get_available_providers()"
   ]
  },
  {
   "cell_type": "code",
   "execution_count": 26,
   "id": "0ae31990",
   "metadata": {},
   "outputs": [],
   "source": [
    "DATASET_DIRECTORY = \"/mnt/d/code/Balu_CARE/datasets\"\n",
    "DATASET_NAME = \"20250513_40I_denoising_7to40F\"\n",
    "DATASET_JSON = os.path.join(DATASET_DIRECTORY, f\"{DATASET_NAME}.json\")\n",
    "MODEL_DIRECTORY = \"/mnt/d/models/CARE/test_model\"\n",
    "MODEL_NAME = os.path.basename(MODEL_DIRECTORY)\n",
    "ONNX_PATH = os.path.join(MODEL_DIRECTORY, f\"{MODEL_NAME}.onnx\")\n",
    "JSON_PATH = os.path.join(MODEL_DIRECTORY, f\"config.json\")\n",
    "\n",
    "for f in [DATASET_JSON, ONNX_PATH, JSON_PATH]:\n",
    "    assert os.path.isfile(f)"
   ]
  },
  {
   "cell_type": "markdown",
   "id": "4fff1633",
   "metadata": {},
   "source": [
    "### Loading Images"
   ]
  },
  {
   "cell_type": "code",
   "execution_count": 27,
   "id": "362b85b1",
   "metadata": {},
   "outputs": [],
   "source": [
    "model_config_dict = json.load(open(JSON_PATH, 'r'))\n",
    "dataset_config_dict = json.load(open(DATASET_JSON, 'r'))"
   ]
  },
  {
   "cell_type": "code",
   "execution_count": 28,
   "id": "cd7c0ed1",
   "metadata": {},
   "outputs": [
    {
     "data": {
      "text/plain": [
       "{'name': '20250513_40I_denoising_7to40F',\n",
       " 'type': 'denoising',\n",
       " 'input': {'n_frames': 7,\n",
       "  'pixel_mean': 482.47699672453706,\n",
       "  'pixel_min': 0,\n",
       "  'pixel_max': 15400,\n",
       "  'pixel_p1pct': [0, 0, 0],\n",
       "  'pixel_1pct': [0, 0, 0],\n",
       "  'pixel_5pct': [0, 0, 0],\n",
       "  'pixel_95pct': [800, 1000, 1875],\n",
       "  'pixel_99pct': [1165, 1424, 2831],\n",
       "  'pixel_99p9pct': [3164, 4250, 4664],\n",
       "  'pixel_std': 515.7695874822199},\n",
       " 'output': {'frames': 40,\n",
       "  'pixel_mean': 2756.5133061342594,\n",
       "  'pixel_min': 0,\n",
       "  'pixel_max': 81200,\n",
       "  'pixel_p1pct': [0, 0, 0],\n",
       "  'pixel_1pct': [0, 0, 400],\n",
       "  'pixel_5pct': [200, 284, 1000],\n",
       "  'pixel_95pct': [3200, 4400, 9547],\n",
       "  'pixel_99pct': [4653, 6405, 15200],\n",
       "  'pixel_99p9pct': [17400, 24200, 25488],\n",
       "  'pixel_std': 2561.295601730073},\n",
       " 'image_ids': [11,\n",
       "  12,\n",
       "  13,\n",
       "  14,\n",
       "  15,\n",
       "  16,\n",
       "  17,\n",
       "  18,\n",
       "  19,\n",
       "  20,\n",
       "  21,\n",
       "  22,\n",
       "  23,\n",
       "  24,\n",
       "  25,\n",
       "  26,\n",
       "  57,\n",
       "  58,\n",
       "  59,\n",
       "  60,\n",
       "  61,\n",
       "  62,\n",
       "  63,\n",
       "  64,\n",
       "  65,\n",
       "  66,\n",
       "  67,\n",
       "  68,\n",
       "  69,\n",
       "  70,\n",
       "  71,\n",
       "  72,\n",
       "  73,\n",
       "  74,\n",
       "  75,\n",
       "  76,\n",
       "  77,\n",
       "  78,\n",
       "  79,\n",
       "  80]}"
      ]
     },
     "execution_count": 28,
     "metadata": {},
     "output_type": "execute_result"
    }
   ],
   "source": [
    "dataset_config_dict['FLAME_Dataset']"
   ]
  },
  {
   "cell_type": "markdown",
   "id": "0086f519",
   "metadata": {},
   "source": [
    "### Loading ONNX"
   ]
  },
  {
   "cell_type": "code",
   "execution_count": 8,
   "id": "55eabb7a",
   "metadata": {},
   "outputs": [],
   "source": [
    "onnx_model = onnx.load(ONNX_PATH)\n",
    "onnx.checker.check_model(onnx_model)"
   ]
  },
  {
   "cell_type": "code",
   "execution_count": 10,
   "id": "ea1a2f92",
   "metadata": {},
   "outputs": [
    {
     "name": "stderr",
     "output_type": "stream",
     "text": [
      "\u001b[0;93m2025-05-15 11:31:27.123088841 [W:onnxruntime:, session_state.cc:1280 VerifyEachNodeIsAssignedToAnEp] Some nodes were not assigned to the preferred execution providers which may or may not have an negative impact on performance. e.g. ORT explicitly assigns shape related ops to CPU to improve perf.\u001b[m\n",
      "\u001b[0;93m2025-05-15 11:31:27.123117107 [W:onnxruntime:, session_state.cc:1282 VerifyEachNodeIsAssignedToAnEp] Rerunning with verbose output on a non-minimal build will show node assignments.\u001b[m\n"
     ]
    }
   ],
   "source": [
    "ort_session = ort.InferenceSession(\n",
    "    ONNX_PATH,\n",
    "    providers=['CUDAExecutionProvider']\n",
    ")"
   ]
  },
  {
   "cell_type": "code",
   "execution_count": 19,
   "id": "b5c4590f",
   "metadata": {},
   "outputs": [
    {
     "name": "stdout",
     "output_type": "stream",
     "text": [
      "Input Tensor\n",
      "Name: patch\n",
      "Shape: ['unk__193', 128, 128, 3]\n",
      "Type: tensor(float)\n"
     ]
    }
   ],
   "source": [
    "input_tensor = ort_session.get_inputs()[0]\n",
    "input_name, input_shape, input_type = input_tensor.name, input_tensor.shape, input_tensor.type\n",
    "print(f\"Input Tensor\\nName: {input_name}\\nShape: {input_shape}\\nType: {input_type}\")"
   ]
  },
  {
   "cell_type": "code",
   "execution_count": null,
   "id": "7ef090b2",
   "metadata": {},
   "outputs": [],
   "source": []
  }
 ],
 "metadata": {
  "kernelspec": {
   "display_name": "care",
   "language": "python",
   "name": "python3"
  },
  "language_info": {
   "codemirror_mode": {
    "name": "ipython",
    "version": 3
   },
   "file_extension": ".py",
   "mimetype": "text/x-python",
   "name": "python",
   "nbconvert_exporter": "python",
   "pygments_lexer": "ipython3",
   "version": "3.12.0"
  }
 },
 "nbformat": 4,
 "nbformat_minor": 5
}
