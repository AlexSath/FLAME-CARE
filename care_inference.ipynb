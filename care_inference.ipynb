{
 "cells": [
  {
   "cell_type": "code",
   "execution_count": null,
   "id": "b5ca9d43",
   "metadata": {},
   "outputs": [],
   "source": [
    "import os\n",
    "import logging\n",
    "from datetime import datetime\n",
    "import json\n",
    "\n",
    "import numpy as np\n",
    "from csbdeep.models import Config\n",
    "import onnxruntime as ort\n",
    "import onnx\n",
    "\n",
    "from flame import FLAMEImage\n",
    "from flame.utils import min_max_norm\n",
    "from flame.error import FLAMEImageError"
   ]
  },
  {
   "cell_type": "code",
   "execution_count": null,
   "id": "c6c134e2",
   "metadata": {},
   "outputs": [],
   "source": [
    "assert 'CUDAExecutionProvider' in ort.get_available_providers()"
   ]
  },
  {
   "cell_type": "code",
   "execution_count": null,
   "id": "0ae31990",
   "metadata": {},
   "outputs": [],
   "source": [
    "INFERENCE_DATA_DIR = \"/mnt/d/data/raw/0013_250514_HS6307_CAREtest_NA\"\n",
    "DATASET_DIRECTORY = \"/mnt/d/code/Balu_CARE/datasets\"\n",
    "DATASET_NAME = \"20250513_40I_denoising_7to40F\"\n",
    "DATASET_JSON = os.path.join(DATASET_DIRECTORY, f\"{DATASET_NAME}.json\")\n",
    "MODEL_DIRECTORY = \"/mnt/d/models/CARE/test_model\"\n",
    "MODEL_NAME = os.path.basename(MODEL_DIRECTORY)\n",
    "ONNX_PATH = os.path.join(MODEL_DIRECTORY, f\"{MODEL_NAME}.onnx\")\n",
    "JSON_PATH = os.path.join(MODEL_DIRECTORY, f\"config.json\")\n",
    "\n",
    "for f in [DATASET_JSON, ONNX_PATH, JSON_PATH]:\n",
    "    assert os.path.isfile(f)"
   ]
  },
  {
   "cell_type": "markdown",
   "id": "4fff1633",
   "metadata": {},
   "source": [
    "### Loading Images"
   ]
  },
  {
   "cell_type": "code",
   "execution_count": null,
   "id": "251fd2ff",
   "metadata": {},
   "outputs": [],
   "source": [
    "images = []\n",
    "for root, dirs, files in os.walk(INFERENCE_DATA_DIR):\n",
    "    for f in files:\n",
    "        if \"tif\" in f or \"tiff\" in f:\n",
    "            try:\n",
    "                this_image = FLAMEImage(\n",
    "                    impath = os.path.join(root, f),\n",
    "                    jsonext = \"tileData.txt\",\n",
    "                    overrideNFrames = 1,\n",
    "                    checkFrames = False,\n",
    "                    checkZs = True\n",
    "                )\n",
    "            except FLAMEImageError as e:\n",
    "                continue\n",
    "            images.append(this_image)"
   ]
  },
  {
   "cell_type": "code",
   "execution_count": null,
   "id": "9dd02391",
   "metadata": {},
   "outputs": [],
   "source": [
    "images[0].axes_shape"
   ]
  },
  {
   "cell_type": "code",
   "execution_count": null,
   "id": "fd33bab6",
   "metadata": {},
   "outputs": [],
   "source": [
    "test_output_dir = \"/mnt/c/Users/BaluLab/Desktop/test\"\n",
    "os.makedirs(test_output_dir, exist_ok=True)"
   ]
  },
  {
   "cell_type": "code",
   "execution_count": null,
   "id": "16c1cb4d",
   "metadata": {},
   "outputs": [],
   "source": [
    "import tifffile as tiff"
   ]
  },
  {
   "cell_type": "code",
   "execution_count": null,
   "id": "dd7db562",
   "metadata": {},
   "outputs": [],
   "source": [
    "images[0].openImage()"
   ]
  },
  {
   "cell_type": "code",
   "execution_count": null,
   "id": "39ceb45c",
   "metadata": {},
   "outputs": [],
   "source": [
    "for idx in range(images[0].imShape[0]):\n",
    "    tiff.imwrite(os.path.join(test_output_dir, f\"{idx}.tiff\"), images[0].raw()[idx,...].transpose(1, 2, 0).astype(np.uint8))"
   ]
  },
  {
   "cell_type": "code",
   "execution_count": null,
   "id": "50c43aea",
   "metadata": {},
   "outputs": [],
   "source": [
    "images[0].closeImage()"
   ]
  },
  {
   "cell_type": "code",
   "execution_count": null,
   "id": "362b85b1",
   "metadata": {},
   "outputs": [],
   "source": [
    "model_config_dict = json.load(open(JSON_PATH, 'r'))\n",
    "dataset_config_dict = json.load(open(DATASET_JSON, 'r'))"
   ]
  },
  {
   "cell_type": "code",
   "execution_count": null,
   "id": "cd7c0ed1",
   "metadata": {},
   "outputs": [],
   "source": [
    "dataset_config_dict['FLAME_Dataset'][]"
   ]
  },
  {
   "cell_type": "markdown",
   "id": "0086f519",
   "metadata": {},
   "source": [
    "### Loading ONNX"
   ]
  },
  {
   "cell_type": "code",
   "execution_count": null,
   "id": "55eabb7a",
   "metadata": {},
   "outputs": [],
   "source": [
    "onnx_model = onnx.load(ONNX_PATH)\n",
    "onnx.checker.check_model(onnx_model)"
   ]
  },
  {
   "cell_type": "code",
   "execution_count": null,
   "id": "ea1a2f92",
   "metadata": {},
   "outputs": [],
   "source": [
    "ort_session = ort.InferenceSession(\n",
    "    ONNX_PATH,\n",
    "    providers=['CUDAExecutionProvider']\n",
    ")"
   ]
  },
  {
   "cell_type": "code",
   "execution_count": null,
   "id": "b5c4590f",
   "metadata": {},
   "outputs": [],
   "source": [
    "input_tensor = ort_session.get_inputs()[0]\n",
    "input_name, input_shape, input_type = input_tensor.name, input_tensor.shape, input_tensor.type\n",
    "print(f\"Input Tensor\\nName: {input_name}\\nShape: {input_shape}\\nType: {input_type}\")"
   ]
  },
  {
   "cell_type": "code",
   "execution_count": null,
   "id": "7ef090b2",
   "metadata": {},
   "outputs": [],
   "source": []
  }
 ],
 "metadata": {
  "kernelspec": {
   "display_name": "care",
   "language": "python",
   "name": "python3"
  },
  "language_info": {
   "codemirror_mode": {
    "name": "ipython",
    "version": 3
   },
   "file_extension": ".py",
   "mimetype": "text/x-python",
   "name": "python",
   "nbconvert_exporter": "python",
   "pygments_lexer": "ipython3",
   "version": "3.12.0"
  }
 },
 "nbformat": 4,
 "nbformat_minor": 5
}
