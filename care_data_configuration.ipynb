{
 "cells": [
  {
   "cell_type": "code",
   "execution_count": null,
   "id": "4812d33c",
   "metadata": {},
   "outputs": [],
   "source": [
    "import os\n",
    "import logging\n",
    "import json\n",
    "from datetime import datetime\n",
    "\n",
    "import tensorflow as tf\n",
    "from csbdeep.models import CARE\n",
    "from csbdeep.data import RawData, create_patches, no_background_patches\n",
    "from csbdeep.utils import plot_some\n",
    "from natsort import natsorted\n",
    "import tifffile as tiff\n",
    "import numpy as np\n",
    "from matplotlib import pyplot as plt\n",
    "\n",
    "from flame.utils import min_max_norm"
   ]
  },
  {
   "cell_type": "code",
   "execution_count": null,
   "id": "1b9bb316",
   "metadata": {},
   "outputs": [],
   "source": [
    "assert len(tf.config.list_physical_devices(\"GPU\")) > 0"
   ]
  },
  {
   "cell_type": "code",
   "execution_count": null,
   "id": "15653f98",
   "metadata": {},
   "outputs": [],
   "source": [
    "DATASET_NAME = \"20250513_40I_denoising_7to40F\"\n",
    "DATASET_DIREC = \"/mnt/d/code/Balu_CARE/datasets\"\n",
    "DATASET_JSON_PATH = os.path.join(DATASET_DIREC, f\"{DATASET_NAME}.json\")\n",
    "INPUT_DATA_DIREC = os.path.join(\"/mnt/d/data/processed/\", DATASET_NAME)\n",
    "TRAIN_DATA_DIREC = os.path.join(INPUT_DATA_DIREC, \"train\")\n",
    "FRAMES_LOW = 7\n",
    "FRAMES_GT = 40\n",
    "PATCH_SIZE = 128\n",
    "PATCH_MULTIPLE = 4"
   ]
  },
  {
   "cell_type": "code",
   "execution_count": null,
   "id": "c494eb3e",
   "metadata": {},
   "outputs": [],
   "source": [
    "low_paths = []\n",
    "GT_paths = []\n",
    "for root, dirs, files in os.walk(TRAIN_DATA_DIREC):\n",
    "    for f in files:\n",
    "        if f\"frames{FRAMES_LOW}\" in f:\n",
    "            low_paths.append(os.path.join(root, f))\n",
    "        elif f\"frames{FRAMES_GT}\" in f:\n",
    "            GT_paths.append(os.path.join(root, f))\n",
    "\n",
    "low_paths = natsorted(low_paths)\n",
    "GT_paths = natsorted(GT_paths)"
   ]
  },
  {
   "cell_type": "code",
   "execution_count": null,
   "id": "a71e30fa",
   "metadata": {},
   "outputs": [],
   "source": [
    "for f1, f2 in zip(low_paths, GT_paths):\n",
    "    id1 = os.path.basename(f1).split('_')[0]\n",
    "    id2 = os.path.basename(f2).split('_')[0]\n",
    "    assert id1 == id2\n"
   ]
  },
  {
   "cell_type": "code",
   "execution_count": null,
   "id": "0142195d",
   "metadata": {},
   "outputs": [],
   "source": [
    "ds_config = json.load(open(DATASET_JSON_PATH, 'r'))\n",
    "input_config = ds_config['FLAME_Dataset']['input']\n",
    "output_config = ds_config['FLAME_Dataset']['output']"
   ]
  },
  {
   "cell_type": "code",
   "execution_count": null,
   "id": "88e02d3c",
   "metadata": {},
   "outputs": [],
   "source": [
    "input_1pct, input_99pct = np.array(input_config['pixel_1pct']), np.array(input_config['pixel_99pct'])\n",
    "output_1pct, output_99pct = np.array(output_config['pixel_1pct']), np.array(output_config['pixel_99pct'])"
   ]
  },
  {
   "cell_type": "code",
   "execution_count": null,
   "id": "5f6f38b3",
   "metadata": {},
   "outputs": [],
   "source": [
    "low = [min_max_norm(\n",
    "    tiff.imread(path).transpose(1, 2, 0).astype(np.float64), \n",
    "    input_1pct, input_99pct\n",
    ") for path in low_paths]\n",
    "\n",
    "GT = [min_max_norm(\n",
    "    tiff.imread(path).transpose(1, 2, 0).astype(np.float64), \n",
    "    output_1pct, output_99pct\n",
    ") for path in GT_paths]"
   ]
  },
  {
   "cell_type": "code",
   "execution_count": null,
   "id": "acec201d",
   "metadata": {},
   "outputs": [],
   "source": [
    "low = np.stack(low, axis=-1).astype(np.float32).transpose(3, 2, 0, 1)\n",
    "GT = np.stack(GT, axis=-1).astype(np.float32).transpose(3, 2, 0, 1)"
   ]
  },
  {
   "cell_type": "code",
   "execution_count": null,
   "id": "51f05cef",
   "metadata": {},
   "outputs": [],
   "source": [
    "print(f\"Frame7: {low.shape}, {low.dtype}\")\n",
    "print(f\"Frame40: {GT.shape}, {GT.dtype}\")"
   ]
  },
  {
   "cell_type": "code",
   "execution_count": null,
   "id": "567d2dba",
   "metadata": {},
   "outputs": [],
   "source": [
    "raw_data = RawData.from_arrays(\n",
    "    X=low,\n",
    "    Y=GT,\n",
    "    axes=\"SCYX\"\n",
    ")"
   ]
  },
  {
   "cell_type": "code",
   "execution_count": null,
   "id": "e3eda637",
   "metadata": {},
   "outputs": [],
   "source": [
    "n_patch_per_im = low.shape[-1] // PATCH_SIZE * 2\n",
    "\n",
    "X, Y, XY_axes = create_patches(\n",
    "    raw_data=raw_data,\n",
    "    patch_size=(low.shape[1], PATCH_SIZE, PATCH_SIZE),\n",
    "    patch_axes=\"CYX\",\n",
    "    patch_filter=no_background_patches(0),\n",
    "    n_patches_per_image=low.shape[-1] // PATCH_SIZE * PATCH_MULTIPLE,\n",
    "    normalization=None,\n",
    "    save_file=os.path.join(INPUT_DATA_DIREC, f\"{DATASET_NAME}_patch{PATCH_SIZE}_{n_patch_per_im}PpI.npz\")\n",
    ")"
   ]
  },
  {
   "cell_type": "code",
   "execution_count": null,
   "id": "ac136319",
   "metadata": {},
   "outputs": [],
   "source": [
    "# from: https://nbviewer.org/url/csbdeep.bioimagecomputing.com/examples/denoising2D/1_datagen.ipynb\n",
    "for i in range(2):\n",
    "    plt.figure(figsize=(16,4))\n",
    "    sl = slice(8*i, 8*(i+1)), 0\n",
    "    plot_some(\n",
    "        X[sl],\n",
    "        Y[sl],\n",
    "        title_list=[np.arange(sl[0].start,sl[0].stop)],\n",
    "    )\n",
    "    plt.show()\n",
    "None;"
   ]
  }
 ],
 "metadata": {
  "kernelspec": {
   "display_name": "care",
   "language": "python",
   "name": "python3"
  },
  "language_info": {
   "codemirror_mode": {
    "name": "ipython",
    "version": 3
   },
   "file_extension": ".py",
   "mimetype": "text/x-python",
   "name": "python",
   "nbconvert_exporter": "python",
   "pygments_lexer": "ipython3",
   "version": "3.12.0"
  }
 },
 "nbformat": 4,
 "nbformat_minor": 5
}
