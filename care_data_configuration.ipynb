{
 "cells": [
  {
   "cell_type": "code",
   "execution_count": null,
   "id": "4812d33c",
   "metadata": {},
   "outputs": [],
   "source": [
    "import os\n",
    "import logging\n",
    "import json\n",
    "from datetime import datetime\n",
    "import gc\n",
    "\n",
    "import tensorflow as tf\n",
    "from csbdeep.data import RawData, create_patches, no_background_patches\n",
    "from csbdeep.utils import plot_some\n",
    "from natsort import natsorted\n",
    "import tifffile as tiff\n",
    "import numpy as np\n",
    "from matplotlib import pyplot as plt\n",
    "from tqdm.notebook import tqdm\n",
    "\n",
    "from flame.utils import min_max_norm\n",
    "from flame import FLAMEImage"
   ]
  },
  {
   "cell_type": "code",
   "execution_count": null,
   "id": "1b9bb316",
   "metadata": {},
   "outputs": [],
   "source": [
    "assert len(tf.config.list_physical_devices(\"GPU\")) > 0"
   ]
  },
  {
   "cell_type": "markdown",
   "id": "14a535c4",
   "metadata": {},
   "source": [
    "### WARNING: This Notebook may not work if processed dataset images are not YXC format."
   ]
  },
  {
   "cell_type": "code",
   "execution_count": null,
   "id": "15653f98",
   "metadata": {},
   "outputs": [],
   "source": [
    "DATASET_NAME = \"20250527_112I_denoising_5to40F\" # processed dataset directory (created by 'create_care_dataset.ipynb')\n",
    "DATASET_DIREC = \"/mnt/d/code/Balu_CARE/datasets\"\n",
    "DATASET_JSON_PATH = os.path.join(DATASET_DIREC, f\"{DATASET_NAME}.json\")\n",
    "INPUT_DATA_DIREC = os.path.join(\"/mnt/d/data/processed/\", DATASET_NAME)\n",
    "assert os.path.isdir(INPUT_DATA_DIREC), f\"Directory not found: {INPUT_DATA_DIREC}\"\n",
    "TRAIN_DATA_DIREC = os.path.join(INPUT_DATA_DIREC, \"train\")\n",
    "assert os.path.isdir(TRAIN_DATA_DIREC), f\"Directory not found: {TRAIN_DATA_DIREC}\"\n",
    "FRAMES_LOW = 5\n",
    "FRAMES_GT = 40\n",
    "PATCH_SIZE = 128\n",
    "PATCH_MULTIPLE = 4"
   ]
  },
  {
   "cell_type": "code",
   "execution_count": null,
   "id": "f847bba1",
   "metadata": {},
   "outputs": [],
   "source": [
    "logger = logging.getLogger(\"main\")\n",
    "logging.basicConfig(\n",
    "    filename=f\"{datetime.now().strftime('%Y%m%d-%H%M%S')}_logger.log\",\n",
    "    encoding=\"utf-8\",\n",
    "    level=logging.DEBUG\n",
    ")"
   ]
  },
  {
   "cell_type": "code",
   "execution_count": null,
   "id": "a32cb307",
   "metadata": {},
   "outputs": [],
   "source": [
    "logger.info(f\"Using {TRAIN_DATA_DIREC} to construct the CARE training data .npz\")"
   ]
  },
  {
   "cell_type": "markdown",
   "id": "0b4b1de6",
   "metadata": {},
   "source": [
    "### Getting paths of Low Frame and Ground Truth Frame Accumulations"
   ]
  },
  {
   "cell_type": "code",
   "execution_count": null,
   "id": "c494eb3e",
   "metadata": {},
   "outputs": [],
   "source": [
    "low_paths = []\n",
    "GT_paths = []\n",
    "for root, dirs, files in os.walk(TRAIN_DATA_DIREC):\n",
    "    for f in files:\n",
    "        if f\"frames{FRAMES_LOW}\" in f:\n",
    "            low_paths.append(os.path.join(root, f))\n",
    "        elif f\"frames{FRAMES_GT}\" in f:\n",
    "            GT_paths.append(os.path.join(root, f))\n",
    "\n",
    "low_paths = natsorted(low_paths)\n",
    "GT_paths = natsorted(GT_paths)"
   ]
  },
  {
   "cell_type": "code",
   "execution_count": null,
   "id": "c5edb61f",
   "metadata": {},
   "outputs": [],
   "source": [
    "print(f\"Found {len(low_paths)} low- and high-frame accumulation images for this dataset\")\n",
    "logger.info(f\"Found {len(low_paths)} low- and high-frame accumulation images for this dataset\")"
   ]
  },
  {
   "cell_type": "code",
   "execution_count": null,
   "id": "a71e30fa",
   "metadata": {},
   "outputs": [],
   "source": [
    "for f1, f2 in zip(low_paths, GT_paths):\n",
    "    id1 = os.path.basename(f1).split('_')[0]\n",
    "    id2 = os.path.basename(f2).split('_')[0]\n",
    "    assert id1 == id2\n"
   ]
  },
  {
   "cell_type": "code",
   "execution_count": null,
   "id": "0142195d",
   "metadata": {},
   "outputs": [],
   "source": [
    "ds_config = json.load(open(DATASET_JSON_PATH, 'r'))\n",
    "input_config = ds_config['FLAME_Dataset']['input']\n",
    "output_config = ds_config['FLAME_Dataset']['output']"
   ]
  },
  {
   "cell_type": "code",
   "execution_count": null,
   "id": "88e02d3c",
   "metadata": {},
   "outputs": [],
   "source": [
    "input_1pct, input_99pct = np.array(input_config['pixel_1pct']), np.array(input_config['pixel_99pct'])\n",
    "output_1pct, output_99pct = np.array(output_config['pixel_1pct']), np.array(output_config['pixel_99pct'])"
   ]
  },
  {
   "cell_type": "markdown",
   "id": "49aae07d",
   "metadata": {},
   "source": [
    "### Min-max norm of images"
   ]
  },
  {
   "cell_type": "code",
   "execution_count": null,
   "id": "e87b5566",
   "metadata": {},
   "outputs": [],
   "source": [
    "# get largest shape\n",
    "largest_x = 0\n",
    "largest_y = 0\n",
    "for shape in ds_config['FLAME_Dataset']['image_shapes']:\n",
    "    this_y = shape[1]\n",
    "    this_x = shape[2]\n",
    "    if this_x > largest_x: largest_x = this_x\n",
    "    if this_y > largest_y: largest_y = this_y"
   ]
  },
  {
   "cell_type": "code",
   "execution_count": null,
   "id": "5f6f38b3",
   "metadata": {},
   "outputs": [],
   "source": [
    "low = []\n",
    "GT = []\n",
    "# Assumes that all image shapes are XYC format\n",
    "for low_path, GT_path in tqdm(\n",
    "        zip(low_paths, GT_paths),\n",
    "        ascii=True,\n",
    "        unit=\"image\",\n",
    "        total=len(low_paths)\n",
    "    ):\n",
    "\n",
    "    # default tiff.imread behavior is to read CYX (even if the tif is not written that way), so transpose to YXC\n",
    "    # also convert to float 32 to allow for full range during min-max normalization\n",
    "    this_low = tiff.imread(low_path).transpose(1,2,0).astype(np.float32)\n",
    "    this_GT = tiff.imread(GT_path).transpose(1,2,0).astype(np.float32)\n",
    "\n",
    "    imshape = this_low.shape\n",
    "    this_y, this_x, this_c = imshape[0], imshape[1], imshape[2]\n",
    "\n",
    "    # if the shape of the current input image is not correct, frame it insize the largest x-y possible\n",
    "    if largest_x != this_x or largest_y != this_y:\n",
    "        low_zeroes = np.zeros(shape=(largest_y, largest_x, this_c))\n",
    "        GT_zeroes = low_zeroes.copy()\n",
    "        low_zeroes[:this_y, :this_x, :] = this_low\n",
    "        GT_zeroes[:this_y, :this_x, :] = this_GT\n",
    "        # delete what is currently in this_low and this_GT, since it will be overwritten\n",
    "        del this_low\n",
    "        del this_GT\n",
    "        this_low = low_zeroes\n",
    "        this_GT = GT_zeroes\n",
    "    \n",
    "    low.append(np.clip(min_max_norm(this_low, input_1pct, input_99pct), 0, 1))\n",
    "    GT.append(np.clip(min_max_norm(this_GT, output_1pct, output_99pct), 0, 1))\n",
    "    # delete now-useless pointers and collect garbage for memory management\n",
    "    del this_low\n",
    "    del this_GT\n",
    "    gc.collect()"
   ]
  },
  {
   "cell_type": "markdown",
   "id": "4a8aa8dc",
   "metadata": {},
   "source": [
    "### Removing channel dimension"
   ]
  },
  {
   "cell_type": "code",
   "execution_count": null,
   "id": "acec201d",
   "metadata": {},
   "outputs": [],
   "source": [
    "low = np.stack(low, axis=-1).astype(np.float32).transpose(2, 3, 0, 1)\n",
    "GT = np.stack(GT, axis=-1).astype(np.float32).transpose(2, 3, 0, 1)"
   ]
  },
  {
   "cell_type": "code",
   "execution_count": null,
   "id": "51f05cef",
   "metadata": {},
   "outputs": [],
   "source": [
    "print(f\"Frame{FRAMES_LOW}: {low.shape}, {low.dtype}\")\n",
    "print(f\"Frame{FRAMES_GT}: {GT.shape}, {GT.dtype}\")"
   ]
  },
  {
   "cell_type": "code",
   "execution_count": null,
   "id": "755fffbd",
   "metadata": {},
   "outputs": [],
   "source": [
    "C_x_S = np.cumprod(np.array(low.shape[0:2]))[1]\n",
    "Y = low.shape[2]\n",
    "X = low.shape[3]\n",
    "print(C_x_S)\n",
    "low = np.reshape(low, (C_x_S,Y,X))\n",
    "GT = np.reshape(GT, (C_x_S,Y,X))"
   ]
  },
  {
   "cell_type": "code",
   "execution_count": null,
   "id": "67c043c9",
   "metadata": {},
   "outputs": [],
   "source": [
    "print(f\"Frame{FRAMES_LOW} (no channels): {low.shape}, {low.dtype}\")\n",
    "print(f\"Frame{FRAMES_GT} (no channels): {GT.shape}, {GT.dtype}\")"
   ]
  },
  {
   "cell_type": "markdown",
   "id": "9a6f2969",
   "metadata": {},
   "source": [
    "### Adding channel dimension of 1"
   ]
  },
  {
   "cell_type": "code",
   "execution_count": null,
   "id": "8a82d307",
   "metadata": {},
   "outputs": [],
   "source": [
    "low = np.expand_dims(low, axis=-1)\n",
    "GT = np.expand_dims(GT, axis=-1)"
   ]
  },
  {
   "cell_type": "code",
   "execution_count": null,
   "id": "d1093e52",
   "metadata": {},
   "outputs": [],
   "source": [
    "print(f\"Frame{FRAMES_LOW} (expanded dims): {low.shape}, {low.dtype}\")\n",
    "print(f\"Frame{FRAMES_GT} (expanded dims): {GT.shape}, {GT.dtype}\")"
   ]
  },
  {
   "cell_type": "code",
   "execution_count": null,
   "id": "567d2dba",
   "metadata": {},
   "outputs": [],
   "source": [
    "raw_data = RawData.from_arrays(\n",
    "    X=low,\n",
    "    Y=GT,\n",
    "    axes=\"SYXC\"\n",
    ")"
   ]
  },
  {
   "cell_type": "code",
   "execution_count": null,
   "id": "e3eda637",
   "metadata": {},
   "outputs": [],
   "source": [
    "n_patch_per_im = low.shape[0] // PATCH_SIZE * PATCH_MULTIPLE\n",
    "\n",
    "X, Y, XY_axes = create_patches(\n",
    "    raw_data=raw_data,\n",
    "    patch_size=(PATCH_SIZE, PATCH_SIZE, 1),\n",
    "    patch_axes=\"YXC\",\n",
    "    patch_filter=no_background_patches(0),\n",
    "    n_patches_per_image=n_patch_per_im,\n",
    "    normalization=None,\n",
    "    save_file=os.path.join(INPUT_DATA_DIREC, f\"{DATASET_NAME}_patch{PATCH_SIZE}_{n_patch_per_im}PpI.npz\")\n",
    ")"
   ]
  },
  {
   "cell_type": "code",
   "execution_count": null,
   "id": "ac136319",
   "metadata": {},
   "outputs": [],
   "source": [
    "# from: https://nbviewer.org/url/csbdeep.bioimagecomputing.com/examples/denoising2D/1_datagen.ipynb\n",
    "for i in range(2):\n",
    "    plt.figure(figsize=(16,4))\n",
    "    sl = slice(8*i, 8*(i+1)), 0\n",
    "    plot_some(\n",
    "        X[sl],\n",
    "        Y[sl],\n",
    "        title_list=[np.arange(sl[0].start,sl[0].stop)],\n",
    "    )\n",
    "    plt.show()\n",
    "None;"
   ]
  }
 ],
 "metadata": {
  "kernelspec": {
   "display_name": "care",
   "language": "python",
   "name": "python3"
  },
  "language_info": {
   "codemirror_mode": {
    "name": "ipython",
    "version": 3
   },
   "file_extension": ".py",
   "mimetype": "text/x-python",
   "name": "python",
   "nbconvert_exporter": "python",
   "pygments_lexer": "ipython3",
   "version": "3.12.0"
  }
 },
 "nbformat": 4,
 "nbformat_minor": 5
}
