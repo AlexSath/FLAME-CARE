{
 "cells": [
  {
   "cell_type": "code",
   "execution_count": 1,
   "id": "4812d33c",
   "metadata": {},
   "outputs": [
    {
     "name": "stderr",
     "output_type": "stream",
     "text": [
      "2025-05-23 09:53:38.859287: I tensorflow/core/util/port.cc:153] oneDNN custom operations are on. You may see slightly different numerical results due to floating-point round-off errors from different computation orders. To turn them off, set the environment variable `TF_ENABLE_ONEDNN_OPTS=0`.\n",
      "2025-05-23 09:53:41.808487: E external/local_xla/xla/stream_executor/cuda/cuda_fft.cc:467] Unable to register cuFFT factory: Attempting to register factory for plugin cuFFT when one has already been registered\n",
      "WARNING: All log messages before absl::InitializeLog() is called are written to STDERR\n",
      "E0000 00:00:1748019222.433881 1614179 cuda_dnn.cc:8579] Unable to register cuDNN factory: Attempting to register factory for plugin cuDNN when one has already been registered\n",
      "E0000 00:00:1748019222.596107 1614179 cuda_blas.cc:1407] Unable to register cuBLAS factory: Attempting to register factory for plugin cuBLAS when one has already been registered\n",
      "W0000 00:00:1748019224.982801 1614179 computation_placer.cc:177] computation placer already registered. Please check linkage and avoid linking the same target more than once.\n",
      "W0000 00:00:1748019224.983104 1614179 computation_placer.cc:177] computation placer already registered. Please check linkage and avoid linking the same target more than once.\n",
      "W0000 00:00:1748019224.983108 1614179 computation_placer.cc:177] computation placer already registered. Please check linkage and avoid linking the same target more than once.\n",
      "W0000 00:00:1748019224.983110 1614179 computation_placer.cc:177] computation placer already registered. Please check linkage and avoid linking the same target more than once.\n",
      "2025-05-23 09:53:45.410912: I tensorflow/core/platform/cpu_feature_guard.cc:210] This TensorFlow binary is optimized to use available CPU instructions in performance-critical operations.\n",
      "To enable the following instructions: AVX2 AVX_VNNI FMA, in other operations, rebuild TensorFlow with the appropriate compiler flags.\n"
     ]
    }
   ],
   "source": [
    "import os\n",
    "import logging\n",
    "import json\n",
    "from datetime import datetime\n",
    "\n",
    "import tensorflow as tf\n",
    "from csbdeep.models import CARE\n",
    "from csbdeep.data import RawData, create_patches, no_background_patches\n",
    "from csbdeep.utils import plot_some\n",
    "from natsort import natsorted\n",
    "import tifffile as tiff\n",
    "import numpy as np\n",
    "from matplotlib import pyplot as plt\n",
    "\n",
    "from flame.utils import min_max_norm"
   ]
  },
  {
   "cell_type": "code",
   "execution_count": 2,
   "id": "1b9bb316",
   "metadata": {},
   "outputs": [],
   "source": [
    "assert len(tf.config.list_physical_devices(\"GPU\")) > 0"
   ]
  },
  {
   "cell_type": "code",
   "execution_count": null,
   "id": "15653f98",
   "metadata": {},
   "outputs": [
    {
     "ename": "AssertionError",
     "evalue": "",
     "output_type": "error",
     "traceback": [
      "\u001b[0;31m---------------------------------------------------------------------------\u001b[0m",
      "\u001b[0;31mAssertionError\u001b[0m                            Traceback (most recent call last)",
      "Cell \u001b[0;32mIn[22], line 7\u001b[0m\n\u001b[1;32m      5\u001b[0m \u001b[38;5;28;01massert\u001b[39;00m os\u001b[38;5;241m.\u001b[39mpath\u001b[38;5;241m.\u001b[39misdir(INPUT_DATA_DIREC)\n\u001b[1;32m      6\u001b[0m TRAIN_DATA_DIREC \u001b[38;5;241m=\u001b[39m os\u001b[38;5;241m.\u001b[39mpath\u001b[38;5;241m.\u001b[39mjoin(INPUT_DATA_DIREC, \u001b[38;5;124m\"\u001b[39m\u001b[38;5;124mtrain\u001b[39m\u001b[38;5;124m\"\u001b[39m)\n\u001b[0;32m----> 7\u001b[0m \u001b[38;5;28;01massert\u001b[39;00m os\u001b[38;5;241m.\u001b[39mpath\u001b[38;5;241m.\u001b[39misdir(TRAIN_DATA_DIREC)\n\u001b[1;32m      8\u001b[0m FRAMES_LOW \u001b[38;5;241m=\u001b[39m \u001b[38;5;241m5\u001b[39m\n\u001b[1;32m      9\u001b[0m FRAMES_GT \u001b[38;5;241m=\u001b[39m \u001b[38;5;241m40\u001b[39m\n",
      "\u001b[0;31mAssertionError\u001b[0m: "
     ]
    }
   ],
   "source": [
    "DATASET_NAME = \"20250522_192I_denoising_5to40F\"\n",
    "DATASET_DIREC = \"/mnt/d/code/Balu_CARE/datasets\"\n",
    "DATASET_JSON_PATH = os.path.join(DATASET_DIREC, f\"{DATASET_NAME}.json\")\n",
    "INPUT_DATA_DIREC = os.path.join(\"/mnt/d/data/processed/\", DATASET_NAME)\n",
    "assert os.path.isdir(INPUT_DATA_DIREC), f\"Directory not found: {INPUT_DATA_DIREC}\"\n",
    "TRAIN_DATA_DIREC = os.path.join(INPUT_DATA_DIREC, \"train\")\n",
    "assert os.path.isdir(TRAIN_DATA_DIREC), f\"Directory not found: {TRAIN_DATA_DIREC}\"\n",
    "FRAMES_LOW = 5\n",
    "FRAMES_GT = 40\n",
    "PATCH_SIZE = 128\n",
    "PATCH_MULTIPLE = 4"
   ]
  },
  {
   "cell_type": "code",
   "execution_count": 17,
   "id": "f847bba1",
   "metadata": {},
   "outputs": [],
   "source": [
    "logger = logging.getLogger(\"main\")\n",
    "logging.basicConfig(\n",
    "    filename=f\"{datetime.now().strftime('%Y%m%d-%H%M%S')}_logger.log\",\n",
    "    encoding=\"utf-8\",\n",
    "    level=logging.DEBUG\n",
    ")"
   ]
  },
  {
   "cell_type": "markdown",
   "id": "0b4b1de6",
   "metadata": {},
   "source": [
    "### Getting paths of Low Frame and Ground Truth Frame Accumulations"
   ]
  },
  {
   "cell_type": "code",
   "execution_count": 18,
   "id": "c494eb3e",
   "metadata": {},
   "outputs": [],
   "source": [
    "low_paths = []\n",
    "GT_paths = []\n",
    "for root, dirs, files in os.walk(TRAIN_DATA_DIREC):\n",
    "    for f in files:\n",
    "        if f\"frames{FRAMES_LOW}\" in f:\n",
    "            low_paths.append(os.path.join(root, f))\n",
    "        elif f\"frames{FRAMES_GT}\" in f:\n",
    "            GT_paths.append(os.path.join(root, f))\n",
    "\n",
    "low_paths = natsorted(low_paths)\n",
    "GT_paths = natsorted(GT_paths)"
   ]
  },
  {
   "cell_type": "code",
   "execution_count": 20,
   "id": "c5edb61f",
   "metadata": {},
   "outputs": [
    {
     "name": "stdout",
     "output_type": "stream",
     "text": [
      "Found 0 low- and high-frame accumulation images for this dataset\n"
     ]
    }
   ],
   "source": [
    "print(f\"Found {len(low_paths)} low- and high-frame accumulation images for this dataset\")\n",
    "logger.info(f\"Found {len(low_paths)} low- and high-frame accumulation images for this dataset\")"
   ]
  },
  {
   "cell_type": "code",
   "execution_count": 9,
   "id": "a71e30fa",
   "metadata": {},
   "outputs": [],
   "source": [
    "for f1, f2 in zip(low_paths, GT_paths):\n",
    "    id1 = os.path.basename(f1).split('_')[0]\n",
    "    id2 = os.path.basename(f2).split('_')[0]\n",
    "    assert id1 == id2\n"
   ]
  },
  {
   "cell_type": "code",
   "execution_count": 10,
   "id": "0142195d",
   "metadata": {},
   "outputs": [],
   "source": [
    "ds_config = json.load(open(DATASET_JSON_PATH, 'r'))\n",
    "input_config = ds_config['FLAME_Dataset']['input']\n",
    "output_config = ds_config['FLAME_Dataset']['output']"
   ]
  },
  {
   "cell_type": "code",
   "execution_count": 11,
   "id": "88e02d3c",
   "metadata": {},
   "outputs": [],
   "source": [
    "input_1pct, input_99pct = np.array(input_config['pixel_1pct']), np.array(input_config['pixel_99pct'])\n",
    "output_1pct, output_99pct = np.array(output_config['pixel_1pct']), np.array(output_config['pixel_99pct'])"
   ]
  },
  {
   "cell_type": "code",
   "execution_count": 12,
   "id": "5f6f38b3",
   "metadata": {},
   "outputs": [],
   "source": [
    "low = [min_max_norm(\n",
    "    tiff.imread(path).transpose(1, 2, 0).astype(np.float64), \n",
    "    input_1pct, input_99pct\n",
    ") for path in low_paths]\n",
    "\n",
    "GT = [min_max_norm(\n",
    "    tiff.imread(path).transpose(1, 2, 0).astype(np.float64), \n",
    "    output_1pct, output_99pct\n",
    ") for path in GT_paths]"
   ]
  },
  {
   "cell_type": "code",
   "execution_count": null,
   "id": "acec201d",
   "metadata": {},
   "outputs": [],
   "source": [
    "low = np.stack(low, axis=-1).astype(np.float32).transpose(3, 2, 0, 1)\n",
    "GT = np.stack(GT, axis=-1).astype(np.float32).transpose(3, 2, 0, 1)"
   ]
  },
  {
   "cell_type": "code",
   "execution_count": null,
   "id": "51f05cef",
   "metadata": {},
   "outputs": [],
   "source": [
    "print(f\"Frame7: {low.shape}, {low.dtype}\")\n",
    "print(f\"Frame40: {GT.shape}, {GT.dtype}\")"
   ]
  },
  {
   "cell_type": "code",
   "execution_count": null,
   "id": "567d2dba",
   "metadata": {},
   "outputs": [],
   "source": [
    "raw_data = RawData.from_arrays(\n",
    "    X=low,\n",
    "    Y=GT,\n",
    "    axes=\"SCYX\"\n",
    ")"
   ]
  },
  {
   "cell_type": "code",
   "execution_count": null,
   "id": "e3eda637",
   "metadata": {},
   "outputs": [],
   "source": [
    "n_patch_per_im = low.shape[-1] // PATCH_SIZE * 2\n",
    "\n",
    "X, Y, XY_axes = create_patches(\n",
    "    raw_data=raw_data,\n",
    "    patch_size=(low.shape[1], PATCH_SIZE, PATCH_SIZE),\n",
    "    patch_axes=\"CYX\",\n",
    "    patch_filter=no_background_patches(0),\n",
    "    n_patches_per_image=low.shape[-1] // PATCH_SIZE * PATCH_MULTIPLE,\n",
    "    normalization=None,\n",
    "    save_file=os.path.join(INPUT_DATA_DIREC, f\"{DATASET_NAME}_patch{PATCH_SIZE}_{n_patch_per_im}PpI.npz\")\n",
    ")"
   ]
  },
  {
   "cell_type": "code",
   "execution_count": null,
   "id": "ac136319",
   "metadata": {},
   "outputs": [],
   "source": [
    "# from: https://nbviewer.org/url/csbdeep.bioimagecomputing.com/examples/denoising2D/1_datagen.ipynb\n",
    "for i in range(2):\n",
    "    plt.figure(figsize=(16,4))\n",
    "    sl = slice(8*i, 8*(i+1)), 0\n",
    "    plot_some(\n",
    "        X[sl],\n",
    "        Y[sl],\n",
    "        title_list=[np.arange(sl[0].start,sl[0].stop)],\n",
    "    )\n",
    "    plt.show()\n",
    "None;"
   ]
  }
 ],
 "metadata": {
  "kernelspec": {
   "display_name": "care",
   "language": "python",
   "name": "python3"
  },
  "language_info": {
   "codemirror_mode": {
    "name": "ipython",
    "version": 3
   },
   "file_extension": ".py",
   "mimetype": "text/x-python",
   "name": "python",
   "nbconvert_exporter": "python",
   "pygments_lexer": "ipython3",
   "version": "3.12.0"
  }
 },
 "nbformat": 4,
 "nbformat_minor": 5
}
