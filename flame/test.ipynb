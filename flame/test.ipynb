{
 "cells": [
  {
   "cell_type": "code",
   "execution_count": 28,
   "id": "4672ebbf",
   "metadata": {},
   "outputs": [],
   "source": [
    "from typing import Union\n",
    "from numpy.typing import NDArray\n",
    "import numpy as np"
   ]
  },
  {
   "cell_type": "code",
   "execution_count": 34,
   "id": "e0286268",
   "metadata": {},
   "outputs": [],
   "source": [
    "def _apply_bidirectional_correction(img: NDArray, corr: Union[np.integer, int]):\n",
    "    if corr < 0: # shift leftwards\n",
    "        img[...,::2,np.abs(corr):] = img[...,::2,:corr]\n",
    "        img = img[...,np.abs(corr):]\n",
    "    elif corr > 0: # shift rightwards\n",
    "        img[...,::2,:-1*corr] = img[...,::2,corr:]\n",
    "        img = img[...,:-1*corr] # crop image\n",
    "    else: # case where correction is equal to 0; don't to anything.\n",
    "        pass\n",
    "    return img"
   ]
  },
  {
   "cell_type": "code",
   "execution_count": 35,
   "id": "84ab9d8e",
   "metadata": {},
   "outputs": [
    {
     "data": {
      "text/plain": [
       "array([[8, 1],\n",
       "       [5, 7],\n",
       "       [4, 9]])"
      ]
     },
     "execution_count": 35,
     "metadata": {},
     "output_type": "execute_result"
    }
   ],
   "source": [
    "arr = np.array([[8,1,6],[3,5,7],[4,9,2]])\n",
    "_apply_bidirectional_correction(arr, -1)"
   ]
  },
  {
   "cell_type": "code",
   "execution_count": 36,
   "id": "e9835a3d",
   "metadata": {},
   "outputs": [
    {
     "data": {
      "text/plain": [
       "array([[8, 1],\n",
       "       [3, 5],\n",
       "       [4, 9]])"
      ]
     },
     "execution_count": 36,
     "metadata": {},
     "output_type": "execute_result"
    }
   ],
   "source": [
    "_apply_bidirectional_correction(arr, 1)"
   ]
  },
  {
   "cell_type": "code",
   "execution_count": null,
   "id": "086c1082",
   "metadata": {},
   "outputs": [],
   "source": []
  }
 ],
 "metadata": {
  "kernelspec": {
   "display_name": "care",
   "language": "python",
   "name": "python3"
  },
  "language_info": {
   "codemirror_mode": {
    "name": "ipython",
    "version": 3
   },
   "file_extension": ".py",
   "mimetype": "text/x-python",
   "name": "python",
   "nbconvert_exporter": "python",
   "pygments_lexer": "ipython3",
   "version": "3.12.0"
  }
 },
 "nbformat": 4,
 "nbformat_minor": 5
}
