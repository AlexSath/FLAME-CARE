{
 "cells": [
  {
   "cell_type": "code",
   "execution_count": null,
   "id": "a99584ff",
   "metadata": {},
   "outputs": [],
   "source": [
    "import os\n",
    "import json\n",
    "import numpy as np\n",
    "\n",
    "from csbdeep.models import Config, CARE\n",
    "from matplotlib import pyplot as plt\n",
    "import tifffile as tiff\n",
    "\n",
    "from flame.engine import CAREInferenceSession\n",
    "from flame import FLAMEImage\n",
    "from flame.error import FLAMEImageError\n",
    "from flame.utils import min_max_norm"
   ]
  },
  {
   "cell_type": "code",
   "execution_count": null,
   "id": "a6e18bde",
   "metadata": {},
   "outputs": [],
   "source": [
    "INFERENCE_DATA_DIR = \"/mnt/d/data/raw/0013_250514_HS6307_CAREtest_NA\"\n",
    "INFERENCE_OUTPUT = \"/mnt/d/data/output/0013_250514_HS6307_CAREtest_NA\"\n",
    "DATASET_DIRECTORY = \"/mnt/d/code/Balu_CARE/datasets\"\n",
    "DATASET_NAME = \"20250513_40I_denoising_7to40F\"\n",
    "DATASET_JSON = os.path.join(DATASET_DIRECTORY, f\"{DATASET_NAME}.json\")\n",
    "MODEL_DIRECTORY = \"/mnt/d/models/CARE/test_model\"\n",
    "MODEL_NAME = os.path.basename(MODEL_DIRECTORY)\n",
    "INFERENCE_OUTPUT_DIRECTORY = os.path.join(INFERENCE_OUTPUT, MODEL_NAME)\n",
    "\n",
    "ONNX_PATH = os.path.join(MODEL_DIRECTORY, f\"{MODEL_NAME}.onnx\")\n",
    "JSON_PATH = os.path.join(MODEL_DIRECTORY, f\"model_config.json\")\n",
    "\n",
    "for f in [DATASET_JSON, ONNX_PATH, JSON_PATH]:\n",
    "    assert os.path.isfile(f)"
   ]
  },
  {
   "cell_type": "code",
   "execution_count": null,
   "id": "e3c47659",
   "metadata": {},
   "outputs": [],
   "source": [
    "os.makedirs(INFERENCE_OUTPUT_DIRECTORY, exist_ok = True)"
   ]
  },
  {
   "cell_type": "code",
   "execution_count": null,
   "id": "fa7fad71",
   "metadata": {},
   "outputs": [],
   "source": [
    "images = []\n",
    "for root, dirs, files in os.walk(INFERENCE_DATA_DIR):\n",
    "    for f in files:\n",
    "        if \"tif\" in f or \"tiff\" in f:\n",
    "            try:\n",
    "                this_image = FLAMEImage(\n",
    "                    impath = os.path.join(root, f),\n",
    "                    jsonext = \"tileData.txt\",\n",
    "                    overrideNFrames = 1,\n",
    "                    checkFrames = False,\n",
    "                    checkZs = True\n",
    "                )\n",
    "            except FLAMEImageError as e:\n",
    "                continue\n",
    "            images.append(this_image)"
   ]
  },
  {
   "cell_type": "code",
   "execution_count": null,
   "id": "220c61b0",
   "metadata": {},
   "outputs": [],
   "source": [
    "len(images)"
   ]
  },
  {
   "cell_type": "code",
   "execution_count": null,
   "id": "3a55d7b3",
   "metadata": {},
   "outputs": [],
   "source": [
    "# model = CARE(config=None, name=MODEL_DIRECTORY)\n",
    "engine = CAREInferenceSession(\n",
    "    model_path=ONNX_PATH,\n",
    "    model_config_path=JSON_PATH,\n",
    "    dataset_config_path=JSON_PATH,\n",
    ")"
   ]
  },
  {
   "cell_type": "code",
   "execution_count": null,
   "id": "af7232c0",
   "metadata": {},
   "outputs": [],
   "source": [
    "test_im = images[0].raw()[0,...].transpose(1,2,0)"
   ]
  },
  {
   "cell_type": "code",
   "execution_count": null,
   "id": "97219cfe",
   "metadata": {},
   "outputs": [],
   "source": [
    "plt.imshow(test_im)"
   ]
  },
  {
   "cell_type": "code",
   "execution_count": null,
   "id": "c60dae57",
   "metadata": {},
   "outputs": [],
   "source": [
    "patches = engine._get_patches(test_im)"
   ]
  },
  {
   "cell_type": "code",
   "execution_count": null,
   "id": "6358d516",
   "metadata": {},
   "outputs": [],
   "source": [
    "patches.shape"
   ]
  },
  {
   "cell_type": "code",
   "execution_count": null,
   "id": "4e0a7330",
   "metadata": {},
   "outputs": [],
   "source": [
    "images[0].imShape"
   ]
  },
  {
   "cell_type": "code",
   "execution_count": null,
   "id": "9f5cbe31",
   "metadata": {},
   "outputs": [],
   "source": [
    "figure = plt.figure(figsize=(10, 10))\n",
    "for pdx, patch in enumerate(patches):\n",
    "    ax = figure.add_subplot(10, 10, pdx+1)\n",
    "    ax.imshow(patch)\n",
    "    ax.set_axis_off()\n"
   ]
  },
  {
   "cell_type": "code",
   "execution_count": null,
   "id": "ba434db7",
   "metadata": {},
   "outputs": [],
   "source": [
    "restitched = engine._stitch_patches(patches, (1200,1200,3))"
   ]
  },
  {
   "cell_type": "code",
   "execution_count": null,
   "id": "7e331d53",
   "metadata": {},
   "outputs": [],
   "source": [
    "np.all((test_im == restitched))"
   ]
  },
  {
   "cell_type": "code",
   "execution_count": null,
   "id": "53123b58",
   "metadata": {},
   "outputs": [],
   "source": [
    "dataset_dict = json.load(open(DATASET_JSON, 'r'))"
   ]
  },
  {
   "cell_type": "code",
   "execution_count": null,
   "id": "b77e6ab0",
   "metadata": {},
   "outputs": [],
   "source": [
    "input_min = np.array(dataset_dict['FLAME_Dataset']['input']['pixel_1pct'])\n",
    "input_max = np.array(dataset_dict['FLAME_Dataset']['input']['pixel_99pct'])\n",
    "output_min = np.array(dataset_dict['FLAME_Dataset']['output']['pixel_1pct'])\n",
    "output_max = np.array(dataset_dict['FLAME_Dataset']['output']['pixel_99pct'])"
   ]
  },
  {
   "cell_type": "code",
   "execution_count": null,
   "id": "794c8f09",
   "metadata": {},
   "outputs": [],
   "source": []
  },
  {
   "cell_type": "code",
   "execution_count": null,
   "id": "318eaac2",
   "metadata": {},
   "outputs": [],
   "source": [
    "for image in images:\n",
    "    image.openImage()\n",
    "    model_input = image.imageData.copy()\n",
    "    image.closeImage()\n",
    "    model_input = model_input.transpose(0, 2, 3, 1)\n",
    "    model_input = np.clip(model_input, input_min, input_max)\n",
    "    model_input = min_max_norm(model_input, input_min, input_max, dtype=np.float32)\n",
    "    outputs = []\n",
    "    for zdx in range(model_input.shape[0]):\n",
    "        outputs.append(model.predict(model_input[zdx,...], axes='YXC'))\n",
    "    outputs = np.stack(outputs, axis = -1).transpose(3, 0, 1, 2)\n",
    "    outputs = (outputs * (output_max - output_min + 1e-20)) + output_min\n",
    "    outputs[...,0] *= 4/3\n",
    "    outputs[...,2] *= 2/3\n",
    "    imname = \"_\".join(image.impath.split(os.path.sep)[4:])\n",
    "    os.makedirs(os.path.join(INFERENCE_OUTPUT_DIRECTORY, os.path.splitext(imname)[0]))\n",
    "    tiff.imwrite(os.path.join(INFERENCE_OUTPUT_DIRECTORY, imname), outputs)"
   ]
  },
  {
   "cell_type": "code",
   "execution_count": null,
   "id": "02d649a2",
   "metadata": {},
   "outputs": [],
   "source": [
    "DIR = \"/mnt/c/Users/BaluLab/Desktop/raw_vis\"\n",
    "os.makedirs(DIR)"
   ]
  },
  {
   "cell_type": "code",
   "execution_count": null,
   "id": "85ef5459",
   "metadata": {},
   "outputs": [],
   "source": [
    "for idx, image in enumerate(images):\n",
    "    image.openImage()\n",
    "    raw = image.imageData.copy()\n",
    "    image.closeImage()\n",
    "    raw = raw.transpose(0, 2, 3, 1).astype(np.float32)\n",
    "    raw[...,0] *= 4/3\n",
    "    raw[...,2] *= 2/3\n",
    "    raw = min_max_norm(raw, np.min(raw), np.max(raw), dtype=np.float32)\n",
    "    raw = (raw * 255).astype(np.uint8)\n",
    "    for zdx in [0, 4, 9]:\n",
    "        impath = os.path.join(DIR, f\"im_i{idx}_z{zdx}.tif\")\n",
    "        tiff.imwrite(os.path.join(impath), raw[zdx,...])\n"
   ]
  },
  {
   "cell_type": "code",
   "execution_count": null,
   "id": "7ff470d6",
   "metadata": {},
   "outputs": [],
   "source": []
  }
 ],
 "metadata": {
  "kernelspec": {
   "display_name": "care",
   "language": "python",
   "name": "python3"
  },
  "language_info": {
   "codemirror_mode": {
    "name": "ipython",
    "version": 3
   },
   "file_extension": ".py",
   "mimetype": "text/x-python",
   "name": "python",
   "nbconvert_exporter": "python",
   "pygments_lexer": "ipython3",
   "version": "3.12.0"
  }
 },
 "nbformat": 4,
 "nbformat_minor": 5
}
