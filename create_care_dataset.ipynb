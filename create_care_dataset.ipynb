{
 "cells": [
  {
   "cell_type": "code",
   "execution_count": 1,
   "id": "9ff7c999",
   "metadata": {},
   "outputs": [],
   "source": [
    "import os\n",
    "from datetime import datetime\n",
    "import logging\n",
    "import json\n",
    "\n",
    "import pandas as pd\n",
    "import tifffile as tiff\n",
    "\n",
    "from flame import FLAMEImage\n",
    "from flame.error import FLAMEImageError"
   ]
  },
  {
   "cell_type": "code",
   "execution_count": 2,
   "id": "9dc0ae51",
   "metadata": {},
   "outputs": [],
   "source": [
    "INPUT_DIREC = \"/mnt/d/data/raw\"\n",
    "OUTPUT_DIREC = \"/mnt/d/data/processed\"\n",
    "DATASET_DIREC = os.path.join(os.getcwd(), \"datasets\")\n",
    "DS_TYPE = \"denoising\"\n",
    "INPUT_N_FRAMES = 7\n",
    "OUTPUT_N_FRAMES = 40"
   ]
  },
  {
   "cell_type": "code",
   "execution_count": 3,
   "id": "b3c0daf3",
   "metadata": {},
   "outputs": [],
   "source": [
    "logger = logging.getLogger(\"main\")\n",
    "logging.basicConfig(\n",
    "    filename=f\"{datetime.now().strftime('%Y%m%d-%H%M%S')}_logger.log\",\n",
    "    encoding=\"utf-8\",\n",
    "    level=logging.DEBUG\n",
    ")"
   ]
  },
  {
   "cell_type": "markdown",
   "id": "bfb1543c",
   "metadata": {},
   "source": [
    "### Find images to be used in the dataset"
   ]
  },
  {
   "cell_type": "code",
   "execution_count": 4,
   "id": "f58f5829",
   "metadata": {},
   "outputs": [
    {
     "data": {
      "text/html": [
       "<div>\n",
       "<style scoped>\n",
       "    .dataframe tbody tr th:only-of-type {\n",
       "        vertical-align: middle;\n",
       "    }\n",
       "\n",
       "    .dataframe tbody tr th {\n",
       "        vertical-align: top;\n",
       "    }\n",
       "\n",
       "    .dataframe thead th {\n",
       "        text-align: right;\n",
       "    }\n",
       "</style>\n",
       "<table border=\"1\" class=\"dataframe\">\n",
       "  <thead>\n",
       "    <tr style=\"text-align: right;\">\n",
       "      <th></th>\n",
       "      <th>id</th>\n",
       "      <th>image</th>\n",
       "    </tr>\n",
       "  </thead>\n",
       "  <tbody>\n",
       "    <tr>\n",
       "      <th>0</th>\n",
       "      <td>0</td>\n",
       "      <td>S268_250409_CAREtraining_PL/CAREtraining_ExViv...</td>\n",
       "    </tr>\n",
       "    <tr>\n",
       "      <th>1</th>\n",
       "      <td>1</td>\n",
       "      <td>S268_250409_CAREtraining_PL/CAREtraining_ExViv...</td>\n",
       "    </tr>\n",
       "    <tr>\n",
       "      <th>2</th>\n",
       "      <td>2</td>\n",
       "      <td>S268_250409_CAREtraining_PL/CAREtraining_ExViv...</td>\n",
       "    </tr>\n",
       "    <tr>\n",
       "      <th>3</th>\n",
       "      <td>3</td>\n",
       "      <td>S268_250409_CAREtraining_PL/CAREtraining_ExViv...</td>\n",
       "    </tr>\n",
       "    <tr>\n",
       "      <th>4</th>\n",
       "      <td>4</td>\n",
       "      <td>S268_250409_CAREtraining_PL/CAREtraining_ExViv...</td>\n",
       "    </tr>\n",
       "  </tbody>\n",
       "</table>\n",
       "</div>"
      ],
      "text/plain": [
       "   id                                              image\n",
       "0   0  S268_250409_CAREtraining_PL/CAREtraining_ExViv...\n",
       "1   1  S268_250409_CAREtraining_PL/CAREtraining_ExViv...\n",
       "2   2  S268_250409_CAREtraining_PL/CAREtraining_ExViv...\n",
       "3   3  S268_250409_CAREtraining_PL/CAREtraining_ExViv...\n",
       "4   4  S268_250409_CAREtraining_PL/CAREtraining_ExViv..."
      ]
     },
     "execution_count": 4,
     "metadata": {},
     "output_type": "execute_result"
    }
   ],
   "source": [
    "IMAGE_INDEX = pd.read_csv(os.path.join(DATASET_DIREC, \"raw_image_index.csv\"))\n",
    "IMAGE_INDEX.head()"
   ]
  },
  {
   "cell_type": "code",
   "execution_count": 5,
   "id": "af657550",
   "metadata": {},
   "outputs": [],
   "source": [
    "this_ds = {}\n",
    "for idx, relpath in zip(IMAGE_INDEX['id'], IMAGE_INDEX['image']):\n",
    "    this_impath = os.path.join(INPUT_DIREC, relpath)\n",
    "    if os.path.isfile(this_impath):\n",
    "        logger.info(f\"Found image of id {idx} at {this_impath}\")\n",
    "        try:\n",
    "            this_image = FLAMEImage(this_impath, \"tileData.txt\")\n",
    "        except FLAMEImageError as e:\n",
    "            logger.error(f\"Could not initialize image of id {idx} at {this_impath}\")\n",
    "            continue\n",
    "        this_ds[idx] = this_impath\n",
    "    else:\n",
    "        logger.error(f\"Could not find image of id {idx} at {this_impath}\")"
   ]
  },
  {
   "cell_type": "code",
   "execution_count": 6,
   "id": "14ad5717",
   "metadata": {},
   "outputs": [
    {
     "name": "stdout",
     "output_type": "stream",
     "text": [
      "Found 3 images for dataset\n"
     ]
    }
   ],
   "source": [
    "logger.info(f\"Found {len(this_ds)} images for dataset\")\n",
    "print(f\"Found {len(this_ds)} images for dataset\")\n",
    "if len(this_ds) < 1:\n",
    "    logger.error(f\"No valid images were found in {INPUT_DIREC}\")\n",
    "    raise Exception(f\"No valid images were found in {INPUT_DIREC}\")"
   ]
  },
  {
   "cell_type": "markdown",
   "id": "f22bd624",
   "metadata": {},
   "source": [
    "### Documenting Dataset"
   ]
  },
  {
   "cell_type": "code",
   "execution_count": 7,
   "id": "f4dacb9e",
   "metadata": {},
   "outputs": [],
   "source": [
    "DS_NAME = f\"{datetime.now().strftime('%Y%m%d')}_{len(this_ds)}I_{DS_TYPE}_{INPUT_N_FRAMES}to{OUTPUT_N_FRAMES}F\""
   ]
  },
  {
   "cell_type": "code",
   "execution_count": 8,
   "id": "6748cacc",
   "metadata": {},
   "outputs": [],
   "source": [
    "dataset_json = {\n",
    "    \"FLAME_Dataset\": {\n",
    "        \"name\": DS_NAME,\n",
    "        \"type\": DS_TYPE,\n",
    "        \"input_frames\": INPUT_N_FRAMES,\n",
    "        \"output_frames\": OUTPUT_N_FRAMES,\n",
    "        \"image_ids\": list(this_ds.keys())\n",
    "    }\n",
    "}"
   ]
  },
  {
   "cell_type": "code",
   "execution_count": 9,
   "id": "2dc0daf0",
   "metadata": {},
   "outputs": [],
   "source": [
    "json_path = os.path.join(DATASET_DIREC, f\"{DS_NAME}.json\")\n",
    "json.dump(dataset_json, open(json_path, \"w+\"))\n",
    "logger.info(f\"Saving dataset config JSON to {json_path}\")"
   ]
  },
  {
   "cell_type": "markdown",
   "id": "792d46c3",
   "metadata": {},
   "source": [
    "### Creating Dataset"
   ]
  },
  {
   "cell_type": "code",
   "execution_count": 10,
   "id": "5615d393",
   "metadata": {},
   "outputs": [],
   "source": [
    "DS_OUTPUT_DIREC = os.path.join(OUTPUT_DIREC, DS_NAME)\n",
    "os.makedirs(DS_OUTPUT_DIREC, exist_ok=True)\n",
    "logger.info(f\"Created dataset output directory at {DS_OUTPUT_DIREC}\")"
   ]
  },
  {
   "cell_type": "code",
   "execution_count": 11,
   "id": "07fce6f3",
   "metadata": {},
   "outputs": [],
   "source": [
    "FLAME_Images = []\n",
    "for idx, impath in this_ds.items():\n",
    "    this_image = FLAMEImage(impath, \"tileData.txt\")\n",
    "    this_image.openImage() # load image data into memory first\n",
    "\n",
    "    input_frames_path = os.path.join(DS_OUTPUT_DIREC, f\"id{idx}_frames{INPUT_N_FRAMES}.tif\")\n",
    "    input_frames = this_image.get_frames(0, INPUT_N_FRAMES)\n",
    "    logger.info(f\"Saving {input_frames_path}...\")\n",
    "    tiff.imwrite(input_frames_path, input_frames)\n",
    "    \n",
    "    output_frames_path = os.path.join(DS_OUTPUT_DIREC, f\"id{idx}_frames{OUTPUT_N_FRAMES}.tif\")\n",
    "    output_frames = this_image.get_frames(0, OUTPUT_N_FRAMES)\n",
    "    logger.info(f\"Saving {output_frames_path}...\")\n",
    "    tiff.imwrite(output_frames_path, output_frames)\n",
    "\n",
    "    this_image.closeImage() # close image and force garbage collection for memory management\n",
    "    FLAME_Images.append(this_image)"
   ]
  },
  {
   "cell_type": "code",
   "execution_count": 12,
   "id": "461d1738",
   "metadata": {},
   "outputs": [],
   "source": [
    "an_image = FLAME_Images[0]\n",
    "an_image.openImage()"
   ]
  },
  {
   "cell_type": "code",
   "execution_count": 13,
   "id": "72ef8628",
   "metadata": {},
   "outputs": [
    {
     "data": {
      "text/plain": [
       "1"
      ]
     },
     "execution_count": 13,
     "metadata": {},
     "output_type": "execute_result"
    }
   ],
   "source": [
    "an_image.tileData.framesPerTile"
   ]
  },
  {
   "cell_type": "code",
   "execution_count": 14,
   "id": "6b0f0698",
   "metadata": {},
   "outputs": [
    {
     "data": {
      "text/plain": [
       "'/mnt/d/data/raw/S268_250409_CAREtraining_PL/CAREtraining_ExVivo_scalp/Mosaic02_1x7_FOV1100_z65_3Ch/Im_00007.tif'"
      ]
     },
     "execution_count": 14,
     "metadata": {},
     "output_type": "execute_result"
    }
   ],
   "source": [
    "an_image.impath"
   ]
  },
  {
   "cell_type": "code",
   "execution_count": null,
   "id": "3a80907b",
   "metadata": {},
   "outputs": [],
   "source": []
  }
 ],
 "metadata": {
  "kernelspec": {
   "display_name": "care",
   "language": "python",
   "name": "python3"
  },
  "language_info": {
   "codemirror_mode": {
    "name": "ipython",
    "version": 3
   },
   "file_extension": ".py",
   "mimetype": "text/x-python",
   "name": "python",
   "nbconvert_exporter": "python",
   "pygments_lexer": "ipython3",
   "version": "3.12.0"
  }
 },
 "nbformat": 4,
 "nbformat_minor": 5
}
