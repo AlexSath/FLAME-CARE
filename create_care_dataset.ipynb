{
 "cells": [
  {
   "cell_type": "code",
   "execution_count": 43,
   "id": "9ff7c999",
   "metadata": {},
   "outputs": [],
   "source": [
    "import os\n",
    "from datetime import datetime\n",
    "import logging\n",
    "import json\n",
    "\n",
    "import pandas as pd\n",
    "import tifffile as tiff\n",
    "\n",
    "from flame import FLAMEImage"
   ]
  },
  {
   "cell_type": "code",
   "execution_count": 37,
   "id": "9dc0ae51",
   "metadata": {},
   "outputs": [],
   "source": [
    "INPUT_DIREC = \"/mnt/d/data/raw\"\n",
    "OUTPUT_DIREC = \"/mnt/d/data/processed\"\n",
    "DATASET_DIREC = os.path.join(os.getcwd(), \"datasets\")\n",
    "DS_TYPE = \"denoising\"\n",
    "INPUT_N_FRAMES = 7\n",
    "OUTPUT_N_FRAMES = 40"
   ]
  },
  {
   "cell_type": "code",
   "execution_count": 10,
   "id": "b3c0daf3",
   "metadata": {},
   "outputs": [],
   "source": [
    "logger = logging.getLogger(\"main\")\n",
    "logging.basicConfig(\n",
    "    filename=f\"{datetime.now().strftime('%Y%m%d-%H%M%S')}_logger.log\",\n",
    "    encoding=\"utf-8\",\n",
    "    level=logging.DEBUG\n",
    ")"
   ]
  },
  {
   "cell_type": "markdown",
   "id": "bfb1543c",
   "metadata": {},
   "source": [
    "### Find images to be used in the dataset"
   ]
  },
  {
   "cell_type": "code",
   "execution_count": 15,
   "id": "f58f5829",
   "metadata": {},
   "outputs": [
    {
     "data": {
      "text/html": [
       "<div>\n",
       "<style scoped>\n",
       "    .dataframe tbody tr th:only-of-type {\n",
       "        vertical-align: middle;\n",
       "    }\n",
       "\n",
       "    .dataframe tbody tr th {\n",
       "        vertical-align: top;\n",
       "    }\n",
       "\n",
       "    .dataframe thead th {\n",
       "        text-align: right;\n",
       "    }\n",
       "</style>\n",
       "<table border=\"1\" class=\"dataframe\">\n",
       "  <thead>\n",
       "    <tr style=\"text-align: right;\">\n",
       "      <th></th>\n",
       "      <th>id</th>\n",
       "      <th>image</th>\n",
       "    </tr>\n",
       "  </thead>\n",
       "  <tbody>\n",
       "    <tr>\n",
       "      <th>0</th>\n",
       "      <td>0</td>\n",
       "      <td>S268_250409_CAREtraining_PL/CAREtraining_ExViv...</td>\n",
       "    </tr>\n",
       "    <tr>\n",
       "      <th>1</th>\n",
       "      <td>1</td>\n",
       "      <td>S268_250409_CAREtraining_PL/CAREtraining_ExViv...</td>\n",
       "    </tr>\n",
       "    <tr>\n",
       "      <th>2</th>\n",
       "      <td>2</td>\n",
       "      <td>S268_250409_CAREtraining_PL/CAREtraining_ExViv...</td>\n",
       "    </tr>\n",
       "    <tr>\n",
       "      <th>3</th>\n",
       "      <td>3</td>\n",
       "      <td>S268_250409_CAREtraining_PL/CAREtraining_ExViv...</td>\n",
       "    </tr>\n",
       "    <tr>\n",
       "      <th>4</th>\n",
       "      <td>4</td>\n",
       "      <td>S268_250409_CAREtraining_PL/CAREtraining_ExViv...</td>\n",
       "    </tr>\n",
       "  </tbody>\n",
       "</table>\n",
       "</div>"
      ],
      "text/plain": [
       "   id                                              image\n",
       "0   0  S268_250409_CAREtraining_PL/CAREtraining_ExViv...\n",
       "1   1  S268_250409_CAREtraining_PL/CAREtraining_ExViv...\n",
       "2   2  S268_250409_CAREtraining_PL/CAREtraining_ExViv...\n",
       "3   3  S268_250409_CAREtraining_PL/CAREtraining_ExViv...\n",
       "4   4  S268_250409_CAREtraining_PL/CAREtraining_ExViv..."
      ]
     },
     "execution_count": 15,
     "metadata": {},
     "output_type": "execute_result"
    }
   ],
   "source": [
    "IMAGE_INDEX = pd.read_csv(os.path.join(DATASET_DIREC, \"raw_image_index.csv\"))\n",
    "IMAGE_INDEX.head()"
   ]
  },
  {
   "cell_type": "code",
   "execution_count": 16,
   "id": "af657550",
   "metadata": {},
   "outputs": [],
   "source": [
    "this_ds = {}\n",
    "for idx, relpath in zip(IMAGE_INDEX['id'], IMAGE_INDEX['image']):\n",
    "    this_impath = os.path.join(INPUT_DIREC, relpath)\n",
    "    if os.path.isfile(this_impath):\n",
    "        logger.info(f\"Found image of id {idx} at {this_impath}\")\n",
    "        this_ds[idx] = this_impath\n",
    "    else:\n",
    "        logger.info(f\"Could not find image of id {idx} at {this_impath}\")"
   ]
  },
  {
   "cell_type": "markdown",
   "id": "f22bd624",
   "metadata": {},
   "source": [
    "### Documenting Dataset"
   ]
  },
  {
   "cell_type": "code",
   "execution_count": null,
   "id": "f4dacb9e",
   "metadata": {},
   "outputs": [],
   "source": [
    "DS_NAME = f\"{datetime.now().strftime('%Y%m%d')}_{len(this_ds)}I_{DS_TYPE}_{INPUT_N_FRAMES}to{OUTPUT_N_FRAMES}F\""
   ]
  },
  {
   "cell_type": "code",
   "execution_count": 38,
   "id": "6748cacc",
   "metadata": {},
   "outputs": [],
   "source": [
    "dataset_json = {\n",
    "    \"FLAME_Dataset\": {\n",
    "        \"name\": DS_NAME,\n",
    "        \"type\": DS_TYPE,\n",
    "        \"input_frames\": INPUT_N_FRAMES,\n",
    "        \"output_frames\": OUTPUT_N_FRAMES,\n",
    "        \"image_ids\": list(this_ds.keys())\n",
    "    }\n",
    "}"
   ]
  },
  {
   "cell_type": "code",
   "execution_count": 40,
   "id": "2dc0daf0",
   "metadata": {},
   "outputs": [],
   "source": [
    "json_path = os.path.join(DATASET_DIREC, f\"{DS_NAME}.json\")\n",
    "json.dump(dataset_json, open(json_path, \"w+\"))\n",
    "logger.info(f\"Saving dataset config JSON to {json_path}\")"
   ]
  },
  {
   "cell_type": "markdown",
   "id": "792d46c3",
   "metadata": {},
   "source": [
    "### Creating Dataset"
   ]
  },
  {
   "cell_type": "code",
   "execution_count": null,
   "id": "5615d393",
   "metadata": {},
   "outputs": [],
   "source": [
    "DS_OUTPUT_DIREC = os.path.join(OUTPUT_DIREC, DS_NAME)\n",
    "os.makedirs(DS_OUTPUT_DIREC, exist_ok=True)\n",
    "logger.info(f\"Created dataset output directory at {DS_OUTPUT_DIREC}\")"
   ]
  },
  {
   "cell_type": "code",
   "execution_count": 44,
   "id": "07fce6f3",
   "metadata": {},
   "outputs": [
    {
     "ename": "RuntimeError",
     "evalue": "No active exception to reraise",
     "output_type": "error",
     "traceback": [
      "\u001b[0;31m---------------------------------------------------------------------------\u001b[0m",
      "\u001b[0;31mRuntimeError\u001b[0m                              Traceback (most recent call last)",
      "Cell \u001b[0;32mIn[44], line 2\u001b[0m\n\u001b[1;32m      1\u001b[0m \u001b[38;5;28;01mfor\u001b[39;00m idx, impath \u001b[38;5;129;01min\u001b[39;00m this_ds\u001b[38;5;241m.\u001b[39mitems():\n\u001b[0;32m----> 2\u001b[0m     this_image \u001b[38;5;241m=\u001b[39m \u001b[43mFLAMEImage\u001b[49m\u001b[43m(\u001b[49m\u001b[43mimpath\u001b[49m\u001b[43m,\u001b[49m\u001b[43m \u001b[49m\u001b[38;5;124;43m\"\u001b[39;49m\u001b[38;5;124;43mtileData.txt\u001b[39;49m\u001b[38;5;124;43m\"\u001b[39;49m\u001b[43m)\u001b[49m\n\u001b[1;32m      4\u001b[0m     input_frames_path \u001b[38;5;241m=\u001b[39m os\u001b[38;5;241m.\u001b[39mpath\u001b[38;5;241m.\u001b[39mjoin(DS_OUTPUT_DIREC, \u001b[38;5;124mf\u001b[39m\u001b[38;5;124m\"\u001b[39m\u001b[38;5;124mid\u001b[39m\u001b[38;5;132;01m{\u001b[39;00midx\u001b[38;5;132;01m}\u001b[39;00m\u001b[38;5;124m_frames\u001b[39m\u001b[38;5;132;01m{\u001b[39;00mINPUT_N_FRAMES\u001b[38;5;132;01m}\u001b[39;00m\u001b[38;5;124m.tif\u001b[39m\u001b[38;5;124m\"\u001b[39m)\n\u001b[1;32m      5\u001b[0m     input_frames \u001b[38;5;241m=\u001b[39m this_image\u001b[38;5;241m.\u001b[39mget_frames(\u001b[38;5;241m0\u001b[39m, INPUT_N_FRAMES)\n",
      "File \u001b[0;32m/mnt/d/code/Balu_CARE/flame/image.py:17\u001b[0m, in \u001b[0;36mFLAMEImage.__init__\u001b[0;34m(self, impath, jsonext)\u001b[0m\n\u001b[1;32m     14\u001b[0m \u001b[38;5;28mself\u001b[39m\u001b[38;5;241m.\u001b[39mlogger\u001b[38;5;241m.\u001b[39minfo(\u001b[38;5;124mf\u001b[39m\u001b[38;5;124m\"\u001b[39m\u001b[38;5;124mLoading FLAME Image from \u001b[39m\u001b[38;5;132;01m{\u001b[39;00mimpath\u001b[38;5;132;01m}\u001b[39;00m\u001b[38;5;124m\"\u001b[39m)\n\u001b[1;32m     16\u001b[0m \u001b[38;5;28;01mtry\u001b[39;00m:\n\u001b[0;32m---> 17\u001b[0m     \u001b[38;5;28mself\u001b[39m\u001b[38;5;241m.\u001b[39mjsonpath \u001b[38;5;241m=\u001b[39m \u001b[38;5;28;43mself\u001b[39;49m\u001b[38;5;241;43m.\u001b[39;49m\u001b[43mget_json_path\u001b[49m\u001b[43m(\u001b[49m\u001b[43mjsonext\u001b[49m\u001b[43m)\u001b[49m\n\u001b[1;32m     18\u001b[0m     \u001b[38;5;28mself\u001b[39m\u001b[38;5;241m.\u001b[39mtileData \u001b[38;5;241m=\u001b[39m TileData(\u001b[38;5;28mself\u001b[39m\u001b[38;5;241m.\u001b[39mjsonpath)\n\u001b[1;32m     19\u001b[0m \u001b[38;5;28;01mexcept\u001b[39;00m \u001b[38;5;167;01mException\u001b[39;00m \u001b[38;5;28;01mas\u001b[39;00m e:\n",
      "File \u001b[0;32m/mnt/d/code/Balu_CARE/flame/image.py:32\u001b[0m, in \u001b[0;36mFLAMEImage.get_json_path\u001b[0;34m(self, ext)\u001b[0m\n\u001b[1;32m     30\u001b[0m \u001b[38;5;28;01melse\u001b[39;00m:\n\u001b[1;32m     31\u001b[0m     \u001b[38;5;28mself\u001b[39m\u001b[38;5;241m.\u001b[39mlogger\u001b[38;5;241m.\u001b[39mexception(\u001b[38;5;124mf\u001b[39m\u001b[38;5;124m\"\u001b[39m\u001b[38;5;124mCould not find JSON associated with the image \u001b[39m\u001b[38;5;132;01m{\u001b[39;00mimname\u001b[38;5;132;01m}\u001b[39;00m\u001b[38;5;124m (\u001b[39m\u001b[38;5;132;01m{\u001b[39;00mext\u001b[38;5;132;01m}\u001b[39;00m\u001b[38;5;124m was provided as JSON extention)\u001b[39m\u001b[38;5;124m\"\u001b[39m)\n\u001b[0;32m---> 32\u001b[0m     \u001b[38;5;28;01mraise\u001b[39;00m\n",
      "\u001b[0;31mRuntimeError\u001b[0m: No active exception to reraise"
     ]
    }
   ],
   "source": [
    "for idx, impath in this_ds.items():\n",
    "    this_image = FLAMEImage(impath, \"tileData.txt\")\n",
    "\n",
    "    input_frames_path = os.path.join(DS_OUTPUT_DIREC, f\"id{idx}_frames{INPUT_N_FRAMES}.tif\")\n",
    "    input_frames = this_image.get_frames(0, INPUT_N_FRAMES)\n",
    "    logger.info(f\"Saving {input_frames_path}...\")\n",
    "    tiff.imwrite(input_frames_path, input_frames)\n",
    "    \n",
    "    output_frames_path = os.path.join(DS_OUTPUT_DIREC, f\"id{idx}_frames{OUTPUT_N_FRAMES}.tif\")\n",
    "    output_frames = this_image.get_frames(0, OUTPUT_N_FRAMES)\n",
    "    logger.info(f\"Saving {output_frames_path}...\")\n",
    "    tiff.imwrite(output_frames_path, output_frames)"
   ]
  },
  {
   "cell_type": "code",
   "execution_count": null,
   "id": "b306f2f7",
   "metadata": {},
   "outputs": [],
   "source": []
  }
 ],
 "metadata": {
  "kernelspec": {
   "display_name": "care",
   "language": "python",
   "name": "python3"
  },
  "language_info": {
   "codemirror_mode": {
    "name": "ipython",
    "version": 3
   },
   "file_extension": ".py",
   "mimetype": "text/x-python",
   "name": "python",
   "nbconvert_exporter": "python",
   "pygments_lexer": "ipython3",
   "version": "3.12.0"
  }
 },
 "nbformat": 4,
 "nbformat_minor": 5
}
