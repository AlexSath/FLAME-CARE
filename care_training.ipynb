{
 "cells": [
  {
   "cell_type": "code",
   "execution_count": 1,
   "id": "4cb1ebb3",
   "metadata": {},
   "outputs": [
    {
     "name": "stderr",
     "output_type": "stream",
     "text": [
      "2025-06-19 03:40:49.841855: I tensorflow/core/util/port.cc:153] oneDNN custom operations are on. You may see slightly different numerical results due to floating-point round-off errors from different computation orders. To turn them off, set the environment variable `TF_ENABLE_ONEDNN_OPTS=0`.\n",
      "2025-06-19 03:40:49.854133: E external/local_xla/xla/stream_executor/cuda/cuda_fft.cc:467] Unable to register cuFFT factory: Attempting to register factory for plugin cuFFT when one has already been registered\n",
      "WARNING: All log messages before absl::InitializeLog() is called are written to STDERR\n",
      "E0000 00:00:1750329649.862331 2028509 cuda_dnn.cc:8579] Unable to register cuDNN factory: Attempting to register factory for plugin cuDNN when one has already been registered\n",
      "E0000 00:00:1750329649.864740 2028509 cuda_blas.cc:1407] Unable to register cuBLAS factory: Attempting to register factory for plugin cuBLAS when one has already been registered\n",
      "W0000 00:00:1750329649.871048 2028509 computation_placer.cc:177] computation placer already registered. Please check linkage and avoid linking the same target more than once.\n",
      "W0000 00:00:1750329649.871056 2028509 computation_placer.cc:177] computation placer already registered. Please check linkage and avoid linking the same target more than once.\n",
      "W0000 00:00:1750329649.871057 2028509 computation_placer.cc:177] computation placer already registered. Please check linkage and avoid linking the same target more than once.\n",
      "W0000 00:00:1750329649.871058 2028509 computation_placer.cc:177] computation placer already registered. Please check linkage and avoid linking the same target more than once.\n",
      "2025-06-19 03:40:49.873385: I tensorflow/core/platform/cpu_feature_guard.cc:210] This TensorFlow binary is optimized to use available CPU instructions in performance-critical operations.\n",
      "To enable the following instructions: AVX2 AVX_VNNI FMA, in other operations, rebuild TensorFlow with the appropriate compiler flags.\n"
     ]
    }
   ],
   "source": [
    "import os\n",
    "from datetime import datetime\n",
    "import json\n",
    "import logging\n",
    "\n",
    "from csbdeep.io import load_training_data\n",
    "from csbdeep.models import Config, CARE\n",
    "from csbdeep.utils import axes_dict, plot_history, plot_some\n",
    "\n",
    "from matplotlib import pyplot as plt\n",
    "import tensorflow as tf\n",
    "import tf2onnx\n",
    "import onnx\n",
    "import numpy as np\n",
    "\n",
    "import mlflow\n",
    "from mlflow.models import infer_signature\n",
    "from mlflow.pyfunc import log_model as pyfunc_log_model\n",
    "from mlflow.onnx import log_model as onnx_log_model\n",
    "\n",
    "from flame.error import CAREInferenceError\n",
    "from flame.utils import _compress_dict_fields"
   ]
  },
  {
   "cell_type": "code",
   "execution_count": 2,
   "id": "f8f8fc54",
   "metadata": {},
   "outputs": [],
   "source": [
    "tf.config.run_functions_eagerly(False)"
   ]
  },
  {
   "cell_type": "code",
   "execution_count": 3,
   "id": "7fa8623c",
   "metadata": {},
   "outputs": [
    {
     "data": {
      "text/plain": [
       "<Experiment: artifact_location='mlflow-artifacts:/859033271774544446', creation_time=1748986871785, experiment_id='859033271774544446', last_update_time=1748986871785, lifecycle_stage='active', name='CARE Denoising 1 Channel', tags={}>"
      ]
     },
     "execution_count": 3,
     "metadata": {},
     "output_type": "execute_result"
    }
   ],
   "source": [
    "mlflow.set_tracking_uri(uri=\"http://127.0.0.1:5050\")\n",
    "EXPERIMENT_NAME = \"CARE Denoising 1 Channel\"\n",
    "mlflow.set_experiment(EXPERIMENT_NAME)"
   ]
  },
  {
   "cell_type": "code",
   "execution_count": 4,
   "id": "fcb1f4f3",
   "metadata": {},
   "outputs": [],
   "source": [
    "DATA_DIREC = \"/mnt/d/data/processed/20250618_224I_denoising_5to40F\"\n",
    "PATCH_CONFIG_JSON = os.path.join(DATA_DIREC, \"patch_config.json\")\n",
    "SAVE_DIREC = \"/mnt/d/models/\"\n",
    "UNET_KERN_SIZE = 3\n",
    "TRAIN_BATCH_SIZE = 16\n",
    "INFER_BATCH_SIZE = 1\n",
    "RANDOM_STATE = 8888"
   ]
  },
  {
   "cell_type": "code",
   "execution_count": 5,
   "id": "a738a34e",
   "metadata": {},
   "outputs": [],
   "source": [
    "logger = logging.getLogger(\"main\")\n",
    "logging.basicConfig(\n",
    "    filename=os.path.join(os.getcwd(), \"logs\", f\"{datetime.now().strftime('%Y%m%d-%H%M%S')}_logger.log\"),\n",
    "    encoding=\"utf-8\",\n",
    "    level=logging.DEBUG\n",
    ")"
   ]
  },
  {
   "cell_type": "code",
   "execution_count": 6,
   "id": "4646abf6",
   "metadata": {},
   "outputs": [],
   "source": [
    "# ensure that data directory and patch config json paths are valid\n",
    "assert os.path.isdir(DATA_DIREC)\n",
    "assert os.path.isfile(PATCH_CONFIG_JSON)"
   ]
  },
  {
   "cell_type": "markdown",
   "id": "a9a05b84",
   "metadata": {},
   "source": [
    "### Creating training config by building on patch_config"
   ]
  },
  {
   "cell_type": "code",
   "execution_count": 7,
   "id": "9dd56970",
   "metadata": {},
   "outputs": [],
   "source": [
    "try:\n",
    "    config_json = json.load(open(PATCH_CONFIG_JSON, 'r'))\n",
    "    logger.info(f\"Successfully loaded patch config from {PATCH_CONFIG_JSON}\")\n",
    "except Exception as e:\n",
    "    logger.error(f\"Could not load patch config json from {PATCH_CONFIG_JSON}.\\nERROR: {e}\")\n",
    "    raise CAREInferenceError(f\"Could not load patch config json from {PATCH_CONFIG_JSON}.\\nERROR: {e}\")"
   ]
  },
  {
   "cell_type": "code",
   "execution_count": null,
   "id": "a0a5e714",
   "metadata": {},
   "outputs": [],
   "source": [
    "try:\n",
    "    MODEL_NAME = f\"FLAME_CARE_\" \\\n",
    "        + f\"{config_json['FLAME_Dataset']['input']['n_frames']}\" \\\n",
    "        + f\"to\" \\\n",
    "        + f\"{config_json[\"FLAME_Dataset\"]['output']['n_frames']}F\"\n",
    "    logger.info(f\"Training a model with NAME: '{MODEL_NAME}'...\")\n",
    "except Exception as e:\n",
    "    logger.error(f\"Failed to dynamically load model name.\\nERROR: {e}\")\n",
    "    raise CAREInferenceError(f\"Failed to dynamically load model name.\\nERROR: {e}\")\n"
   ]
  },
  {
   "cell_type": "code",
   "execution_count": 9,
   "id": "8bdb2702",
   "metadata": {},
   "outputs": [],
   "source": [
    "try:\n",
    "    RUN_ID = mlflow.search_runs().shape[0]\n",
    "    MODEL_DIREC = os.path.join(SAVE_DIREC, MODEL_NAME, str(RUN_ID))\n",
    "    # exist_ok being True *SHOULD* (?) be fine because RUN_ID will not iterate upwards unless training either started or finished.\n",
    "    os.makedirs(MODEL_DIREC, exist_ok = True)\n",
    "    logger.info(f\"Training run id is {RUN_ID}.\")\n",
    "    logger.info(f\"Model saving to {MODEL_DIREC}\")\n",
    "except Exception as e:\n",
    "    logger.error(f\"Failed to load run id and/or set up model save directory.\\nERROR: {e}\")\n",
    "    raise CAREInferenceError(f\"Failed to load run id and/or set up model save directory.\\nERROR: {e}\")"
   ]
  },
  {
   "cell_type": "code",
   "execution_count": 10,
   "id": "f21cc713",
   "metadata": {},
   "outputs": [],
   "source": [
    "config_json['Train_Config'] = {\n",
    "    'npz_path': os.path.join(DATA_DIREC, config_json['Patch_Config']['name']),\n",
    "    'name': MODEL_NAME,\n",
    "    'model_direc': MODEL_DIREC,\n",
    "    'unet_kern_size': UNET_KERN_SIZE,\n",
    "    'train_batch_size': TRAIN_BATCH_SIZE,\n",
    "    'random_state': RANDOM_STATE,\n",
    "}"
   ]
  },
  {
   "cell_type": "code",
   "execution_count": 11,
   "id": "94fe2162",
   "metadata": {},
   "outputs": [
    {
     "data": {
      "text/plain": [
       "{'FLAME_Dataset': {'name': '20250618_224I_denoising_5to40F',\n",
       "  'type': 'denoising',\n",
       "  'image_shapes': [[1, 3, 1200, 1200], [1, 3, 1200, 1196]],\n",
       "  'input': {'n_frames': 5,\n",
       "   'pixel_mean': 378.72098887921106,\n",
       "   'pixel_min': 0,\n",
       "   'pixel_max': 28400,\n",
       "   'pixel_p1pct': [0.0, 0.0, 0.0],\n",
       "   'pixel_1pct': [0.0, 0.0, 0.0],\n",
       "   'pixel_5pct': [0.0, 0.0, 0.0],\n",
       "   'pixel_95pct': [832.0, 1000.0, 1400.0],\n",
       "   'pixel_99pct': [1400.0, 1800.0, 2200.0],\n",
       "   'pixel_99p9pct': [2400.0, 3141.0, 4165.0],\n",
       "   'pixel_std': 420.2389718127719},\n",
       "  'output': {'n_frames': 40,\n",
       "   'pixel_mean': 3022.801186980542,\n",
       "   'pixel_min': 0,\n",
       "   'pixel_max': 206600,\n",
       "   'pixel_p1pct': [0.0, 0.0, 0.0],\n",
       "   'pixel_1pct': [0.0, 0.0, 200.0],\n",
       "   'pixel_5pct': [200.0, 375.0, 710.0],\n",
       "   'pixel_95pct': [5800.0, 7545.0, 9653.0],\n",
       "   'pixel_99pct': [9000.0, 12600.0, 15400.0],\n",
       "   'pixel_99p9pct': [17200.0, 22555.0, 31400.0],\n",
       "   'pixel_std': 2790.1654790982434},\n",
       "  'image_ids': [11,\n",
       "   12,\n",
       "   13,\n",
       "   14,\n",
       "   15,\n",
       "   16,\n",
       "   17,\n",
       "   18,\n",
       "   19,\n",
       "   20,\n",
       "   21,\n",
       "   22,\n",
       "   23,\n",
       "   24,\n",
       "   25,\n",
       "   26,\n",
       "   57,\n",
       "   58,\n",
       "   59,\n",
       "   60,\n",
       "   61,\n",
       "   62,\n",
       "   63,\n",
       "   64,\n",
       "   65,\n",
       "   66,\n",
       "   67,\n",
       "   68,\n",
       "   69,\n",
       "   70,\n",
       "   71,\n",
       "   72,\n",
       "   73,\n",
       "   74,\n",
       "   75,\n",
       "   76,\n",
       "   77,\n",
       "   78,\n",
       "   79,\n",
       "   80,\n",
       "   110,\n",
       "   111,\n",
       "   112,\n",
       "   113,\n",
       "   114,\n",
       "   115,\n",
       "   116,\n",
       "   117,\n",
       "   118,\n",
       "   119,\n",
       "   120,\n",
       "   121,\n",
       "   122,\n",
       "   123,\n",
       "   124,\n",
       "   125,\n",
       "   126,\n",
       "   127,\n",
       "   128,\n",
       "   129,\n",
       "   130,\n",
       "   131,\n",
       "   132,\n",
       "   133,\n",
       "   134,\n",
       "   135,\n",
       "   136,\n",
       "   137,\n",
       "   138,\n",
       "   139,\n",
       "   140,\n",
       "   141,\n",
       "   142,\n",
       "   143,\n",
       "   144,\n",
       "   145,\n",
       "   155,\n",
       "   156,\n",
       "   157,\n",
       "   158,\n",
       "   159,\n",
       "   160,\n",
       "   161,\n",
       "   162,\n",
       "   163,\n",
       "   164,\n",
       "   165,\n",
       "   166,\n",
       "   167,\n",
       "   168,\n",
       "   169,\n",
       "   170,\n",
       "   171,\n",
       "   172,\n",
       "   173,\n",
       "   174,\n",
       "   175,\n",
       "   176,\n",
       "   177,\n",
       "   178,\n",
       "   179,\n",
       "   180,\n",
       "   181,\n",
       "   182,\n",
       "   183,\n",
       "   184,\n",
       "   185,\n",
       "   186,\n",
       "   187,\n",
       "   188,\n",
       "   189,\n",
       "   190,\n",
       "   200,\n",
       "   201,\n",
       "   202,\n",
       "   203,\n",
       "   204,\n",
       "   205,\n",
       "   206,\n",
       "   207,\n",
       "   208,\n",
       "   209,\n",
       "   210,\n",
       "   211,\n",
       "   212,\n",
       "   213,\n",
       "   214,\n",
       "   215,\n",
       "   216,\n",
       "   217,\n",
       "   218,\n",
       "   219,\n",
       "   220,\n",
       "   221,\n",
       "   222,\n",
       "   223,\n",
       "   224,\n",
       "   225,\n",
       "   226,\n",
       "   227,\n",
       "   228,\n",
       "   229,\n",
       "   230,\n",
       "   231,\n",
       "   232,\n",
       "   233,\n",
       "   234,\n",
       "   235,\n",
       "   236,\n",
       "   237,\n",
       "   238,\n",
       "   239,\n",
       "   240,\n",
       "   241,\n",
       "   242,\n",
       "   243,\n",
       "   244,\n",
       "   245,\n",
       "   246,\n",
       "   247,\n",
       "   248,\n",
       "   249,\n",
       "   250,\n",
       "   251,\n",
       "   252,\n",
       "   253,\n",
       "   254,\n",
       "   255,\n",
       "   335,\n",
       "   336,\n",
       "   337,\n",
       "   338,\n",
       "   339,\n",
       "   340,\n",
       "   341,\n",
       "   342,\n",
       "   343,\n",
       "   344,\n",
       "   345,\n",
       "   346,\n",
       "   347,\n",
       "   348,\n",
       "   349,\n",
       "   350,\n",
       "   351,\n",
       "   352,\n",
       "   353,\n",
       "   354,\n",
       "   355,\n",
       "   356,\n",
       "   357,\n",
       "   358,\n",
       "   359,\n",
       "   360,\n",
       "   361,\n",
       "   362,\n",
       "   363,\n",
       "   364,\n",
       "   365,\n",
       "   366,\n",
       "   367,\n",
       "   368,\n",
       "   369,\n",
       "   370,\n",
       "   371,\n",
       "   372,\n",
       "   373,\n",
       "   374,\n",
       "   375,\n",
       "   376,\n",
       "   377,\n",
       "   378,\n",
       "   379,\n",
       "   380,\n",
       "   381,\n",
       "   382,\n",
       "   383,\n",
       "   384,\n",
       "   385,\n",
       "   386,\n",
       "   387,\n",
       "   388,\n",
       "   389,\n",
       "   390],\n",
       "  'test_ids': [61,\n",
       "   244,\n",
       "   114,\n",
       "   383,\n",
       "   348,\n",
       "   237,\n",
       "   353,\n",
       "   12,\n",
       "   367,\n",
       "   124,\n",
       "   343,\n",
       "   68,\n",
       "   72,\n",
       "   201,\n",
       "   160,\n",
       "   387,\n",
       "   351,\n",
       "   126,\n",
       "   212,\n",
       "   163,\n",
       "   225,\n",
       "   57]},\n",
       " 'Patch_Config': {'name': '20250618_224I_denoising_5to40F_patch128_16PpI.npz',\n",
       "  'n_patches': 9696,\n",
       "  'patch_size': 128,\n",
       "  'patch_axes': 'SCYX',\n",
       "  'patch_shape': [128, 128, 1],\n",
       "  'patch_multiple': 4,\n",
       "  'n_patch_per_im': 16,\n",
       "  'background_patch_threshold': 0.5},\n",
       " 'Train_Config': {'npz_path': '/mnt/d/data/processed/20250618_224I_denoising_5to40F/20250618_224I_denoising_5to40F_patch128_16PpI.npz',\n",
       "  'name': 'FLAME_CARE_5F-40F',\n",
       "  'model_direc': '/mnt/d/models/FLAME_CARE_5F-40F/9',\n",
       "  'unet_kern_size': 3,\n",
       "  'train_batch_size': 16,\n",
       "  'random_state': 8888}}"
      ]
     },
     "execution_count": 11,
     "metadata": {},
     "output_type": "execute_result"
    }
   ],
   "source": [
    "config_json"
   ]
  },
  {
   "cell_type": "code",
   "execution_count": null,
   "id": "5983b9ba",
   "metadata": {},
   "outputs": [],
   "source": [
    "# verifying npz path...\n",
    "NPZ_PATH = config_json['Train_Config']['npz_path']\n",
    "assert os.path.isfile(config_json['Train_Config']['npz_path']), f\"NPZ path {NPZ_PATH} is not a file\""
   ]
  },
  {
   "cell_type": "markdown",
   "id": "ef19c947",
   "metadata": {},
   "source": [
    "### Training and Validation Data"
   ]
  },
  {
   "cell_type": "code",
   "execution_count": null,
   "id": "aeda2899",
   "metadata": {},
   "outputs": [],
   "source": [
    "(X, Y), (X_val, Y_val), axes = load_training_data(\n",
    "    NPZ_PATH,\n",
    "    validation_split=0.1,\n",
    "    verbose=True\n",
    ")"
   ]
  },
  {
   "cell_type": "code",
   "execution_count": null,
   "id": "1c079508",
   "metadata": {},
   "outputs": [],
   "source": [
    "c = axes_dict(axes)['C']\n",
    "channels_in, channels_out = X.shape[c], Y.shape[c]"
   ]
  },
  {
   "cell_type": "markdown",
   "id": "3f87ae3f",
   "metadata": {},
   "source": [
    "### CARE Model"
   ]
  },
  {
   "cell_type": "code",
   "execution_count": null,
   "id": "e54f4a6e",
   "metadata": {},
   "outputs": [],
   "source": [
    "config_json['CARE_Model'] = {\n",
    "    'name': MODEL_NAME,\n",
    "    'experiment_name': EXPERIMENT_NAME,\n",
    "    'run_id': RUN_ID,\n",
    "    'base_dir': SAVE_DIREC,\n",
    "    'run_dir': MODEL_DIREC\n",
    "}\n",
    "config_json['CARE_Model']['CSBDeep_Config'] = {\n",
    "    'axes': axes,\n",
    "    'n_channel_in': channels_in,\n",
    "    'n_channel_out': channels_out,\n",
    "    'probabilistic': False, # default from CSBDeep\n",
    "    'allow_new_parameters': False, # default from CSBDeep\n",
    "    'unet_kern_size': UNET_KERN_SIZE,\n",
    "    'train_batch_size': TRAIN_BATCH_SIZE,\n",
    "    'unet_input_shape': tuple(config_json['Patch_Config']['patch_shape']),\n",
    "    'allow_new_parameters': True\n",
    "}"
   ]
  },
  {
   "cell_type": "code",
   "execution_count": null,
   "id": "7e795296",
   "metadata": {},
   "outputs": [],
   "source": [
    "config = Config(\n",
    "    **config_json['CARE_Model']['CSBDeep_Config']\n",
    ")\n",
    "\n",
    "config_json['CARE_Model']['Model_Arch'] = vars(config)"
   ]
  },
  {
   "cell_type": "code",
   "execution_count": null,
   "id": "5b28e3bc",
   "metadata": {},
   "outputs": [],
   "source": [
    "JSON_CONFIG_PATH = os.path.join(MODEL_DIREC, \"model_config.json\")\n",
    "json.dump(config_json, open(JSON_CONFIG_PATH, 'w+'))"
   ]
  },
  {
   "cell_type": "markdown",
   "id": "ad079a6a",
   "metadata": {},
   "source": [
    "### Training the Model"
   ]
  },
  {
   "cell_type": "code",
   "execution_count": null,
   "id": "e32b52fc",
   "metadata": {},
   "outputs": [],
   "source": [
    "model = CARE(\n",
    "    config,\n",
    "    str(RUN_ID),\n",
    "    basedir=os.path.join(SAVE_DIREC, MODEL_NAME)\n",
    ")"
   ]
  },
  {
   "cell_type": "code",
   "execution_count": null,
   "id": "7ba47e2e",
   "metadata": {},
   "outputs": [],
   "source": [
    "history = model.train(X, Y, validation_data=(X_val, Y_val))"
   ]
  },
  {
   "cell_type": "code",
   "execution_count": null,
   "id": "d8be4eb5",
   "metadata": {},
   "outputs": [],
   "source": [
    "# model.keras_model.save(os.path.join(MODEL_DIREC, 'saved_model.keras'))"
   ]
  },
  {
   "cell_type": "markdown",
   "id": "036682b2",
   "metadata": {},
   "source": [
    "### Some quick visualizations"
   ]
  },
  {
   "cell_type": "code",
   "execution_count": null,
   "id": "360aa849",
   "metadata": {},
   "outputs": [],
   "source": [
    "print(sorted(list(history.history.keys())))\n",
    "plt.figure(figsize=(16,5))\n",
    "plot_history(history,['loss','val_loss'],['mse','val_mse','mae','val_mae']);\n",
    "plt.savefig(os.path.join(MODEL_DIREC, \"training_history.png\"))"
   ]
  },
  {
   "cell_type": "markdown",
   "id": "03298d60",
   "metadata": {},
   "source": [
    "### Model Evaluation from Validation Set"
   ]
  },
  {
   "cell_type": "code",
   "execution_count": null,
   "id": "4d59bbc6",
   "metadata": {},
   "outputs": [],
   "source": [
    "_P = model.keras_model.predict(X_val[:5])"
   ]
  },
  {
   "cell_type": "code",
   "execution_count": null,
   "id": "5b9166c5",
   "metadata": {},
   "outputs": [],
   "source": [
    "plt.figure(figsize=(20,12))\n",
    "if config.probabilistic:\n",
    "    _P = _P[...,:(_P.shape[-1]//2)]\n",
    "plot_some(X_val[:5],Y_val[:5],_P,pmax=99.5)\n",
    "plt.suptitle('5 example validation patches\\n'      \n",
    "             'top row: input (source),  '          \n",
    "             'middle row: target (ground truth),  '\n",
    "             'bottom row: predicted from source');\n",
    "\n",
    "plt.savefig(os.path.join(MODEL_DIREC, \"val_set_predict_sample.png\"))"
   ]
  },
  {
   "cell_type": "markdown",
   "id": "ab698314",
   "metadata": {},
   "source": [
    "### Logging Model in MLFlow Database"
   ]
  },
  {
   "cell_type": "code",
   "execution_count": null,
   "id": "f0e355d5",
   "metadata": {},
   "outputs": [],
   "source": [
    "val_loss = np.min(history.history['val_loss'])\n",
    "idx = history.history['val_loss'].index(val_loss)\n",
    "val_mae = history.history['val_mae'][idx]\n",
    "val_mse = history.history['val_mse'][idx]"
   ]
  },
  {
   "cell_type": "code",
   "execution_count": null,
   "id": "a4408765",
   "metadata": {},
   "outputs": [],
   "source": [
    "# # with mlflow.start_run():\n",
    "\n",
    "# mlflow.start_run()\n",
    "\n",
    "# logger.info(f\"Run started\")\n",
    "# print(\"Run started\")\n",
    "\n",
    "# # Log the hyperparameters\n",
    "# mlflow.log_params(config_json)\n",
    "\n",
    "# # Log the validation performance metrics\n",
    "# mlflow.log_metric(\"val_loss\", np.min(val_loss))\n",
    "# mlflow.log_metric(\"val_mae\", np.min(val_mae))\n",
    "# mlflow.log_metric(\"val_mse\", np.min(val_mse))\n",
    "\n",
    "# # infer the model signature\n",
    "# signature = infer_signature(X, pyfunc_model.predict(X))\n",
    "\n",
    "# # Log the model\n",
    "# model_info = pyfunc_log_model(\n",
    "#     artifact_path='care model',\n",
    "#     python_model=pyfunc_model,\n",
    "#     # model_code_path=os.path.join(os.getcwd(), \"flame\", \"model.py\"),\n",
    "#     code_paths=[\n",
    "#         os.path.join(os.getcwd(), \"flame\", \"__init__.py\"),\n",
    "#         os.path.join(os.getcwd(), \"flame\", \"mlflow_pyfunc.py\"),\n",
    "#         os.path.join(MODEL_DIREC, \"model_config.json\"),\n",
    "#         os.path.join(MODEL_DIREC, \"config.json\")\n",
    "#     ],\n",
    "#     conda_env=os.path.join(os.getcwd(), \"environment.yml\"),\n",
    "#     signature=signature,\n",
    "#     input_example=X\n",
    "# )\n",
    "    \n",
    "# logger.info(f\"Run finished.\")\n",
    "# print(\"Run finished.\")\n",
    "# mlflow.end_run()"
   ]
  },
  {
   "cell_type": "markdown",
   "id": "c6f38224",
   "metadata": {},
   "source": [
    "### Export to ONNX"
   ]
  },
  {
   "cell_type": "code",
   "execution_count": null,
   "id": "568ac914",
   "metadata": {},
   "outputs": [],
   "source": [
    "input_shape = list(X.shape)\n",
    "batch_dim = axes_dict(axes)['S']\n",
    "input_shape[batch_dim] = None\n",
    "print(input_shape)"
   ]
  },
  {
   "cell_type": "code",
   "execution_count": null,
   "id": "7a76477e",
   "metadata": {},
   "outputs": [],
   "source": [
    "input_signature = [\n",
    "    tf.TensorSpec(\n",
    "        input_shape, \n",
    "        tf.float32, \n",
    "        name='patch'\n",
    "    )\n",
    "]"
   ]
  },
  {
   "cell_type": "code",
   "execution_count": null,
   "id": "aa217f78",
   "metadata": {},
   "outputs": [],
   "source": [
    "onnx_model, _ = tf2onnx.convert.from_keras(\n",
    "    model.keras_model,\n",
    "    input_signature,\n",
    "    opset=13\n",
    ")"
   ]
  },
  {
   "cell_type": "code",
   "execution_count": null,
   "id": "41eec729",
   "metadata": {},
   "outputs": [],
   "source": [
    "ONNX_PATH = os.path.join(MODEL_DIREC, f\"{MODEL_NAME}.onnx\")\n",
    "onnx.save(onnx_model, ONNX_PATH)"
   ]
  },
  {
   "cell_type": "code",
   "execution_count": null,
   "id": "370fa01f",
   "metadata": {},
   "outputs": [],
   "source": [
    "from flame.engine import CAREInferenceSession"
   ]
  },
  {
   "cell_type": "code",
   "execution_count": null,
   "id": "f9865fb7",
   "metadata": {},
   "outputs": [],
   "source": [
    "engine = CAREInferenceSession(\n",
    "    model_path=ONNX_PATH,\n",
    "    model_config_path=JSON_CONFIG_PATH,\n",
    "    dataset_config_path=JSON_CONFIG_PATH\n",
    ")"
   ]
  },
  {
   "cell_type": "code",
   "execution_count": null,
   "id": "f8b3b64a",
   "metadata": {},
   "outputs": [],
   "source": [
    "X.shape"
   ]
  },
  {
   "cell_type": "code",
   "execution_count": null,
   "id": "e74bd619",
   "metadata": {},
   "outputs": [],
   "source": [
    "mlflow.start_run()\n",
    "\n",
    "logger.info(f\"Run started\")\n",
    "print(\"Run started\")\n",
    "\n",
    "# Log the hyperparameters\n",
    "mlflow.log_params(config_json)\n",
    "\n",
    "# Log the validation performance metrics\n",
    "mlflow.log_metric(\"val_loss\", np.min(val_loss))\n",
    "mlflow.log_metric(\"val_mae\", np.min(val_mae))\n",
    "mlflow.log_metric(\"val_mse\", np.min(val_mse))\n",
    "\n",
    "model_info = onnx_log_model(\n",
    "    onnx_model=onnx_model,\n",
    "    artifact_path=\"model\",\n",
    "    conda_env=os.path.join(os.getcwd(), \"environment.yml\"),\n",
    "    input_example=X[[0],...],\n",
    "\n",
    "    # If given, create a model version under registered_model_name, \n",
    "    # also creating a registered model if one with the given name does not exist.\n",
    "    # registered_model_name=_,\n",
    "\n",
    "    metadata=config_json,\n",
    "    signature=infer_signature(X[[0],...], engine.predict(X[[0],...])),\n",
    "    onnx_execution_providers=[\"CUDAExecutionProvider\", \"CPUExecutionProvider\"],\n",
    ")\n",
    "\n",
    "mlflow.log_artifacts(\n",
    "    local_dir=os.path.join(os.getcwd(), 'flame'),\n",
    "    artifact_path=\"flame\"\n",
    ")\n",
    "\n",
    "mlflow.log_artifact(\n",
    "    local_path=JSON_CONFIG_PATH,\n",
    "    artifact_path=\"model_config\"\n",
    ")\n",
    "\n",
    "mlflow.end_run()"
   ]
  },
  {
   "cell_type": "code",
   "execution_count": null,
   "id": "0c5ae84b",
   "metadata": {},
   "outputs": [],
   "source": []
  }
 ],
 "metadata": {
  "kernelspec": {
   "display_name": "care",
   "language": "python",
   "name": "python3"
  },
  "language_info": {
   "codemirror_mode": {
    "name": "ipython",
    "version": 3
   },
   "file_extension": ".py",
   "mimetype": "text/x-python",
   "name": "python",
   "nbconvert_exporter": "python",
   "pygments_lexer": "ipython3",
   "version": "3.12.0"
  }
 },
 "nbformat": 4,
 "nbformat_minor": 5
}
