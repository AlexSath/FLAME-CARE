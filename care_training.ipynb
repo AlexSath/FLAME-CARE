{
 "cells": [
  {
   "cell_type": "code",
   "execution_count": null,
   "id": "4cb1ebb3",
   "metadata": {},
   "outputs": [],
   "source": [
    "import os\n",
    "from datetime import datetime\n",
    "import json\n",
    "import logging\n",
    "\n",
    "from csbdeep.io import load_training_data\n",
    "from csbdeep.models import Config, CARE\n",
    "from csbdeep.utils import axes_dict, plot_history, plot_some\n",
    "\n",
    "from matplotlib import pyplot as plt\n",
    "import tensorflow as tf\n",
    "import tf2onnx\n",
    "import onnx\n",
    "import mlflow\n",
    "\n",
    "from flame.error import CAREInferenceError"
   ]
  },
  {
   "cell_type": "code",
   "execution_count": null,
   "id": "7fa8623c",
   "metadata": {},
   "outputs": [],
   "source": [
    "mlflow.set_tracking_uri(uri=\"http://127.0.0.1:8080\")\n",
    "EXPERIMENT_NAME = \"CARE Denoising 1 Channel\"\n",
    "mlflow.set_experiment(EXPERIMENT_NAME)"
   ]
  },
  {
   "cell_type": "code",
   "execution_count": null,
   "id": "fcb1f4f3",
   "metadata": {},
   "outputs": [],
   "source": [
    "DATA_DIREC = \"/mnt/d/data/processed/20250527_112I_denoising_5to40F\"\n",
    "PATCH_CONFIG_JSON = os.path.join(DATA_DIREC, \"patch_config.json\")\n",
    "SAVE_DIREC = \"/mnt/d/models/\"\n",
    "UNET_KERN_SIZE = 3\n",
    "TRAIN_BATCH_SIZE = 16\n",
    "RANDOM_STATE = 8888"
   ]
  },
  {
   "cell_type": "code",
   "execution_count": null,
   "id": "a738a34e",
   "metadata": {},
   "outputs": [],
   "source": [
    "logger = logging.getLogger(\"main\")\n",
    "logging.basicConfig(\n",
    "    filename=f\"{datetime.now().strftime('%Y%m%d-%H%M%S')}_logger.log\",\n",
    "    encoding=\"utf-8\",\n",
    "    level=logging.DEBUG\n",
    ")"
   ]
  },
  {
   "cell_type": "code",
   "execution_count": null,
   "id": "4646abf6",
   "metadata": {},
   "outputs": [],
   "source": [
    "# ensure that data directory and patch config json paths are valid\n",
    "assert os.path.isdir(DATA_DIREC)\n",
    "assert os.path.isfile(PATCH_CONFIG_JSON)"
   ]
  },
  {
   "cell_type": "markdown",
   "id": "a9a05b84",
   "metadata": {},
   "source": [
    "### Creating training config by building on patch_config"
   ]
  },
  {
   "cell_type": "code",
   "execution_count": null,
   "id": "9dd56970",
   "metadata": {},
   "outputs": [],
   "source": [
    "try:\n",
    "    config_json = json.load(open(PATCH_CONFIG_JSON, 'r'))\n",
    "    logger.info(f\"Successfully loaded patch config from {PATCH_CONFIG_JSON}\")\n",
    "except Exception as e:\n",
    "    logger.error(f\"Could not load patch config json from {PATCH_CONFIG_JSON}.\\nERROR: {e}\")\n",
    "    raise CAREInferenceError(f\"Could not load patch config json from {PATCH_CONFIG_JSON}.\\nERROR: {e}\")"
   ]
  },
  {
   "cell_type": "code",
   "execution_count": null,
   "id": "a0a5e714",
   "metadata": {},
   "outputs": [],
   "source": [
    "try:\n",
    "    MODEL_NAME = f\"FLAME_CARE_\" \\\n",
    "        + f\"{config_json['FLAME_Dataset']['input']['n_frames']}F\" \\\n",
    "        + f\"-\" \\\n",
    "        + f\"{config_json[\"FLAME_Dataset\"]['output']['n_frames']}F\"\n",
    "    logger.info(f\"Training a model with NAME: '{MODEL_NAME}'...\")\n",
    "except Exception as e:\n",
    "    logger.error(f\"Failed to dynamically load model name.\\nERROR: {e}\")\n",
    "    raise CAREInferenceError(f\"Failed to dynamically load model name.\\nERROR: {e}\")\n"
   ]
  },
  {
   "cell_type": "code",
   "execution_count": null,
   "id": "8bdb2702",
   "metadata": {},
   "outputs": [],
   "source": [
    "try:\n",
    "    RUN_ID = mlflow.search_runs(MODEL_NAME).shape[0]\n",
    "    MODEL_DIREC = os.path.join(SAVE_DIREC, MODEL_NAME, str(RUN_ID))\n",
    "    # exist_ok being True *SHOULD* (?) be fine because RUN_ID will not iterate upwards unless training either started or finished.\n",
    "    os.makedirs(MODEL_DIREC, exist_ok = True)\n",
    "    logger.info(f\"Training run id is {RUN_ID}.\")\n",
    "    logger.info(f\"Model saving to {MODEL_DIREC}\")\n",
    "except Exception as e:\n",
    "    logger.error(f\"Failed to load run id and/or set up model save directory.\\nERROR: {e}\")\n",
    "    raise CAREInferenceError(f\"Failed to load run id and/or set up model save directory.\\nERROR: {e}\")"
   ]
  },
  {
   "cell_type": "code",
   "execution_count": null,
   "id": "f21cc713",
   "metadata": {},
   "outputs": [],
   "source": [
    "config_json['Train_Config'] = {\n",
    "    'npz_path': os.path.join(DATA_DIREC, config_json['Patch_Config']['name']),\n",
    "    'name': MODEL_NAME,\n",
    "    'model_direc': MODEL_DIREC,\n",
    "    'unet_kern_size': UNET_KERN_SIZE,\n",
    "    'train_batch_size': TRAIN_BATCH_SIZE,\n",
    "    'random_state': RANDOM_STATE,\n",
    "}"
   ]
  },
  {
   "cell_type": "code",
   "execution_count": null,
   "id": "5983b9ba",
   "metadata": {},
   "outputs": [],
   "source": [
    "# verifying npz path...\n",
    "NPZ_PATH = config_json['Train_Config']['npz_path']\n",
    "assert os.path.isfile(config_json['Train_Config']['npz_path']), f\"NPZ path {NPZ_PATH} is not a file\""
   ]
  },
  {
   "cell_type": "markdown",
   "id": "ef19c947",
   "metadata": {},
   "source": [
    "### Training and Validation Data"
   ]
  },
  {
   "cell_type": "code",
   "execution_count": null,
   "id": "aeda2899",
   "metadata": {},
   "outputs": [],
   "source": [
    "(X, Y), (X_val, Y_val), axes = load_training_data(\n",
    "    NPZ_PATH,\n",
    "    validation_split=0.1,\n",
    "    verbose=True\n",
    ")"
   ]
  },
  {
   "cell_type": "code",
   "execution_count": null,
   "id": "1c079508",
   "metadata": {},
   "outputs": [],
   "source": [
    "c = axes_dict(axes)['C']\n",
    "channels_in, channels_out = X.shape[c], Y.shape[c]"
   ]
  },
  {
   "cell_type": "markdown",
   "id": "3f87ae3f",
   "metadata": {},
   "source": [
    "### CARE Model"
   ]
  },
  {
   "cell_type": "code",
   "execution_count": null,
   "id": "e54f4a6e",
   "metadata": {},
   "outputs": [],
   "source": [
    "config_json['CARE_Model'] = {\n",
    "    'name': MODEL_NAME,\n",
    "    'experiment_name': EXPERIMENT_NAME,\n",
    "    'run_id': RUN_ID,\n",
    "    'base_dir': SAVE_DIREC,\n",
    "    'run_dir': MODEL_DIREC\n",
    "}\n",
    "config_json['CARE_Model']['CSBDeep_Config'] = {\n",
    "    'axes': axes,\n",
    "    'n_channel_in': channels_in,\n",
    "    'n_channel_out': channels_out,\n",
    "    'probabilistic': False, # default from CSBDeep\n",
    "    'allow_new_parameters': False, # default from CSBDeep\n",
    "    'unet_kern_size': UNET_KERN_SIZE,\n",
    "    'train_batch_size': TRAIN_BATCH_SIZE,\n",
    "}"
   ]
  },
  {
   "cell_type": "code",
   "execution_count": null,
   "id": "7e795296",
   "metadata": {},
   "outputs": [],
   "source": [
    "config = Config(\n",
    "    **config_json['CARE_Model']['CSBDeep_Config']\n",
    ")\n",
    "\n",
    "config_json['CARE_Model']['Model_Arch'] = vars(config)"
   ]
  },
  {
   "cell_type": "code",
   "execution_count": null,
   "id": "5b28e3bc",
   "metadata": {},
   "outputs": [],
   "source": [
    "JSON_CONFIG_PATH = os.path.join(MODEL_DIREC, \"model_config.json\")\n",
    "json.dump(config_json, open(JSON_CONFIG_PATH, 'w+'))"
   ]
  },
  {
   "cell_type": "markdown",
   "id": "ad079a6a",
   "metadata": {},
   "source": [
    "### Training the Model"
   ]
  },
  {
   "cell_type": "code",
   "execution_count": null,
   "id": "e32b52fc",
   "metadata": {},
   "outputs": [],
   "source": [
    "model = CARE(\n",
    "    config,\n",
    "    str(RUN_ID),\n",
    "    basedir=os.path.join(SAVE_DIREC, MODEL_NAME)\n",
    ")"
   ]
  },
  {
   "cell_type": "code",
   "execution_count": null,
   "id": "7ba47e2e",
   "metadata": {},
   "outputs": [],
   "source": [
    "history = model.train(X, Y, validation_data=(X_val, Y_val))"
   ]
  },
  {
   "cell_type": "code",
   "execution_count": null,
   "id": "360aa849",
   "metadata": {},
   "outputs": [],
   "source": [
    "print(sorted(list(history.history.keys())))\n",
    "plt.figure(figsize=(16,5))\n",
    "plot_history(history,['loss','val_loss'],['mse','val_mse','mae','val_mae']);\n",
    "plt.savefig(os.path.join(MODEL_DIREC, \"training_history.png\"))"
   ]
  },
  {
   "cell_type": "markdown",
   "id": "03298d60",
   "metadata": {},
   "source": [
    "### Model Evaluation from Validation Set"
   ]
  },
  {
   "cell_type": "code",
   "execution_count": null,
   "id": "4d59bbc6",
   "metadata": {},
   "outputs": [],
   "source": [
    "_P = model.keras_model.predict(X_val[:5])"
   ]
  },
  {
   "cell_type": "code",
   "execution_count": null,
   "id": "5b9166c5",
   "metadata": {},
   "outputs": [],
   "source": [
    "plt.figure(figsize=(20,12))\n",
    "if config.probabilistic:\n",
    "    _P = _P[...,:(_P.shape[-1]//2)]\n",
    "plot_some(X_val[:5],Y_val[:5],_P,pmax=99.5)\n",
    "plt.suptitle('5 example validation patches\\n'      \n",
    "             'top row: input (source),  '          \n",
    "             'middle row: target (ground truth),  '\n",
    "             'bottom row: predicted from source');\n",
    "\n",
    "plt.savefig(os.path.join(MODEL_DIREC, \"val_set_predict_sample.png\"))"
   ]
  },
  {
   "cell_type": "markdown",
   "id": "29593131",
   "metadata": {},
   "source": [
    "### Quantitative Model Evaluation from Test Set"
   ]
  },
  {
   "cell_type": "code",
   "execution_count": null,
   "id": "039a1414",
   "metadata": {},
   "outputs": [],
   "source": []
  },
  {
   "cell_type": "markdown",
   "id": "ab698314",
   "metadata": {},
   "source": [
    "### Logging Model in MLFlow Database"
   ]
  },
  {
   "cell_type": "code",
   "execution_count": null,
   "id": "f0e355d5",
   "metadata": {},
   "outputs": [],
   "source": []
  },
  {
   "cell_type": "markdown",
   "id": "c6f38224",
   "metadata": {},
   "source": [
    "### Export to ONNX"
   ]
  },
  {
   "cell_type": "code",
   "execution_count": null,
   "id": "568ac914",
   "metadata": {},
   "outputs": [],
   "source": [
    "input_shape = list(X.shape)\n",
    "batch_dim = axes_dict(axes)['S']\n",
    "input_shape[batch_dim] = None\n",
    "print(input_shape)"
   ]
  },
  {
   "cell_type": "code",
   "execution_count": null,
   "id": "7a76477e",
   "metadata": {},
   "outputs": [],
   "source": [
    "input_signature = [\n",
    "    tf.TensorSpec(\n",
    "        input_shape, \n",
    "        tf.float32, \n",
    "        name='patch'\n",
    "    )\n",
    "]"
   ]
  },
  {
   "cell_type": "code",
   "execution_count": null,
   "id": "aa217f78",
   "metadata": {},
   "outputs": [],
   "source": [
    "onnx_model, _ = tf2onnx.convert.from_keras(\n",
    "    model.keras_model,\n",
    "    input_signature,\n",
    "    opset=13\n",
    ")"
   ]
  },
  {
   "cell_type": "code",
   "execution_count": null,
   "id": "41eec729",
   "metadata": {},
   "outputs": [],
   "source": [
    "onnx.save(onnx_model, os.path.join(MODEL_SAVEDIR, MODEL_NAME, f\"{MODEL_NAME}.onnx\"))"
   ]
  }
 ],
 "metadata": {
  "kernelspec": {
   "display_name": "care",
   "language": "python",
   "name": "python3"
  },
  "language_info": {
   "codemirror_mode": {
    "name": "ipython",
    "version": 3
   },
   "file_extension": ".py",
   "mimetype": "text/x-python",
   "name": "python",
   "nbconvert_exporter": "python",
   "pygments_lexer": "ipython3",
   "version": "3.12.0"
  }
 },
 "nbformat": 4,
 "nbformat_minor": 5
}
