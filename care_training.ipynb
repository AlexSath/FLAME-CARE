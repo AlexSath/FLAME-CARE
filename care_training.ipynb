{
 "cells": [
  {
   "cell_type": "code",
   "execution_count": null,
   "id": "4cb1ebb3",
   "metadata": {},
   "outputs": [],
   "source": [
    "import os\n",
    "from datetime import datetime\n",
    "import json\n",
    "\n",
    "from csbdeep.io import load_training_data\n",
    "from csbdeep.models import Config, CARE\n",
    "from csbdeep.utils import axes_dict, plot_history, plot_some\n",
    "\n",
    "from matplotlib import pyplot as plt\n",
    "import tensorflow as tf\n",
    "import tf2onnx\n",
    "import onnx\n",
    "import mlflow"
   ]
  },
  {
   "cell_type": "code",
   "execution_count": null,
   "id": "7fa8623c",
   "metadata": {},
   "outputs": [],
   "source": [
    "mlflow.set_tracking_uri(uri=\"http://127.0.0.1:8080\")"
   ]
  },
  {
   "cell_type": "code",
   "execution_count": null,
   "id": "fcb1f4f3",
   "metadata": {},
   "outputs": [],
   "source": [
    "NPZ_PATH = \"/mnt/d/data/processed/20250513_40I_denoising_7to40F/20250513_40I_denoising_7to40F_patch128_18PpI.npz\"\n",
    "MODEL_NAME = \"test_model\"\n",
    "MODEL_SAVEDIR = \"/mnt/d/models/CARE\"\n",
    "UNET_KERN_SIZE = 3\n",
    "TRAIN_BATCH_SIZE = 16\n",
    "RANDOM_STATE = 8888"
   ]
  },
  {
   "cell_type": "code",
   "execution_count": null,
   "id": "f21cc713",
   "metadata": {},
   "outputs": [],
   "source": [
    "model_params = {\n",
    "    'npz_path': NPZ_PATH,\n",
    "    'name': MODEL_NAME,\n",
    "    'save_direc': MODEL_SAVEDIR,\n",
    "    'unet_kern_size': UNET_KERN_SIZE,\n",
    "    'train_batch_size': TRAIN_BATCH_SIZE,\n",
    "    'random_state': RANDOM_STATE\n",
    "}"
   ]
  },
  {
   "cell_type": "markdown",
   "id": "ef19c947",
   "metadata": {},
   "source": [
    "### Training and Validation Data"
   ]
  },
  {
   "cell_type": "code",
   "execution_count": null,
   "id": "aeda2899",
   "metadata": {},
   "outputs": [],
   "source": [
    "(X, Y), (X_val, Y_val), axes = load_training_data(\n",
    "    NPZ_PATH,\n",
    "    validation_split=0.1,\n",
    "    verbose=True\n",
    ")"
   ]
  },
  {
   "cell_type": "code",
   "execution_count": null,
   "id": "1c079508",
   "metadata": {},
   "outputs": [],
   "source": [
    "c = axes_dict(axes)['C']\n",
    "channels_in, channels_out = X.shape[c], Y.shape[c]"
   ]
  },
  {
   "cell_type": "markdown",
   "id": "3f87ae3f",
   "metadata": {},
   "source": [
    "### CARE Model"
   ]
  },
  {
   "cell_type": "code",
   "execution_count": null,
   "id": "7e795296",
   "metadata": {},
   "outputs": [],
   "source": [
    "config = Config(\n",
    "    axes,\n",
    "    channels_in,\n",
    "    channels_out,\n",
    "    unet_kern_size=UNET_KERN_SIZE,\n",
    "    train_batch_size=TRAIN_BATCH_SIZE,\n",
    ")\n",
    "\n",
    "vars(config)"
   ]
  },
  {
   "cell_type": "code",
   "execution_count": null,
   "id": "e32b52fc",
   "metadata": {},
   "outputs": [],
   "source": [
    "model = CARE(\n",
    "    config,\n",
    "    MODEL_NAME,\n",
    "    basedir=MODEL_SAVEDIR\n",
    ")"
   ]
  },
  {
   "cell_type": "code",
   "execution_count": null,
   "id": "5b28e3bc",
   "metadata": {},
   "outputs": [],
   "source": [
    "JSON_CONFIG_PATH = os.path.join(MODEL_SAVEDIR, MODEL_NAME, \"config.json\")\n",
    "json.dump(vars(config), open(JSON_CONFIG_PATH, 'w+'))"
   ]
  },
  {
   "cell_type": "markdown",
   "id": "ad079a6a",
   "metadata": {},
   "source": [
    "### Training the Model"
   ]
  },
  {
   "cell_type": "code",
   "execution_count": null,
   "id": "7ba47e2e",
   "metadata": {},
   "outputs": [],
   "source": [
    "history = model.train(X, Y, validation_data=(X_val, Y_val))"
   ]
  },
  {
   "cell_type": "code",
   "execution_count": null,
   "id": "360aa849",
   "metadata": {},
   "outputs": [],
   "source": [
    "print(sorted(list(history.history.keys())))\n",
    "plt.figure(figsize=(16,5))\n",
    "plot_history(history,['loss','val_loss'],['mse','val_mse','mae','val_mae']);"
   ]
  },
  {
   "cell_type": "markdown",
   "id": "03298d60",
   "metadata": {},
   "source": [
    "### Model Evaluation"
   ]
  },
  {
   "cell_type": "code",
   "execution_count": null,
   "id": "4d59bbc6",
   "metadata": {},
   "outputs": [],
   "source": [
    "_P = model.keras_model.predict(X_val[:5])"
   ]
  },
  {
   "cell_type": "code",
   "execution_count": null,
   "id": "5b9166c5",
   "metadata": {},
   "outputs": [],
   "source": [
    "plt.figure(figsize=(20,12))\n",
    "if config.probabilistic:\n",
    "    _P = _P[...,:(_P.shape[-1]//2)]\n",
    "plot_some(X_val[:5],Y_val[:5],_P,pmax=99.5)\n",
    "plt.suptitle('5 example validation patches\\n'      \n",
    "             'top row: input (source),  '          \n",
    "             'middle row: target (ground truth),  '\n",
    "             'bottom row: predicted from source');\n",
    "\n",
    "plt.savefig(os.path.join(MODEL_SAVEDIR, MODEL_NAME, \"eval_sample.png\"))"
   ]
  },
  {
   "cell_type": "markdown",
   "id": "c6f38224",
   "metadata": {},
   "source": [
    "### Export to ONNX"
   ]
  },
  {
   "cell_type": "code",
   "execution_count": null,
   "id": "568ac914",
   "metadata": {},
   "outputs": [],
   "source": [
    "input_shape = list(X.shape)\n",
    "batch_dim = axes_dict(axes)['S']\n",
    "input_shape[batch_dim] = None\n",
    "print(input_shape)"
   ]
  },
  {
   "cell_type": "code",
   "execution_count": null,
   "id": "7a76477e",
   "metadata": {},
   "outputs": [],
   "source": [
    "input_signature = [\n",
    "    tf.TensorSpec(\n",
    "        input_shape, \n",
    "        tf.float32, \n",
    "        name='patch'\n",
    "    )\n",
    "]"
   ]
  },
  {
   "cell_type": "code",
   "execution_count": null,
   "id": "aa217f78",
   "metadata": {},
   "outputs": [],
   "source": [
    "onnx_model, _ = tf2onnx.convert.from_keras(\n",
    "    model.keras_model,\n",
    "    input_signature,\n",
    "    opset=13\n",
    ")"
   ]
  },
  {
   "cell_type": "code",
   "execution_count": null,
   "id": "41eec729",
   "metadata": {},
   "outputs": [],
   "source": [
    "onnx.save(onnx_model, os.path.join(MODEL_SAVEDIR, MODEL_NAME, f\"{MODEL_NAME}.onnx\"))"
   ]
  }
 ],
 "metadata": {
  "kernelspec": {
   "display_name": "care",
   "language": "python",
   "name": "python3"
  },
  "language_info": {
   "codemirror_mode": {
    "name": "ipython",
    "version": 3
   },
   "file_extension": ".py",
   "mimetype": "text/x-python",
   "name": "python",
   "nbconvert_exporter": "python",
   "pygments_lexer": "ipython3",
   "version": "3.12.0"
  }
 },
 "nbformat": 4,
 "nbformat_minor": 5
}
