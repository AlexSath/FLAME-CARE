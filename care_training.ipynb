{
 "cells": [
  {
   "cell_type": "code",
   "execution_count": null,
   "id": "4cb1ebb3",
   "metadata": {},
   "outputs": [],
   "source": [
    "import os\n",
    "from datetime import datetime\n",
    "import json\n",
    "import logging\n",
    "\n",
    "from csbdeep.io import load_training_data\n",
    "from csbdeep.models import Config, CARE\n",
    "from csbdeep.utils import axes_dict, plot_history, plot_some\n",
    "\n",
    "from matplotlib import pyplot as plt\n",
    "import tensorflow as tf\n",
    "import tf2onnx\n",
    "import onnx\n",
    "import numpy as np\n",
    "\n",
    "import mlflow\n",
    "from mlflow.models import infer_signature\n",
    "from mlflow.pyfunc import log_model as pyfunc_log_model\n",
    "from mlflow.onnx import log_model as onnx_log_model\n",
    "\n",
    "from flame.error import CAREInferenceError\n",
    "from flame.utils import _compress_dict_fields, set_up_tracking_server, get_windows_user_path"
   ]
  },
  {
   "cell_type": "code",
   "execution_count": null,
   "id": "f8f8fc54",
   "metadata": {},
   "outputs": [],
   "source": [
    "tf.config.run_functions_eagerly(False)"
   ]
  },
  {
   "cell_type": "code",
   "execution_count": null,
   "id": "00553a1d",
   "metadata": {},
   "outputs": [],
   "source": [
    "WINDOWS_USER_PATH = get_windows_user_path()"
   ]
  },
  {
   "cell_type": "code",
   "execution_count": null,
   "id": "a738a34e",
   "metadata": {},
   "outputs": [],
   "source": [
    "logger = logging.getLogger(\"MAIN\")\n",
    "logging.basicConfig(\n",
    "    filename=os.path.join(WINDOWS_USER_PATH, \"logs\", f\"{datetime.now().strftime('%Y%m%d-%H%M%S')}_training_CARE.log\"),\n",
    "    encoding=\"utf-8\",\n",
    "    level=logging.DEBUG\n",
    ")"
   ]
  },
  {
   "cell_type": "code",
   "execution_count": null,
   "id": "59f979d5",
   "metadata": {},
   "outputs": [],
   "source": [
    "mlflow_logger = logging.getLogger(\"MLFLOW\")"
   ]
  },
  {
   "cell_type": "code",
   "execution_count": null,
   "id": "fcb1f4f3",
   "metadata": {},
   "outputs": [],
   "source": [
    "DATA_DIREC = \"/mnt/d/data/processed/20250618_224I_denoising_5to40F\"\n",
    "PATCH_CONFIG_JSON = os.path.join(DATA_DIREC, \"1Chan_patch_config.json\")\n",
    "SAVE_DIREC = \"/mnt/d/models/\"\n",
    "UNET_KERN_SIZE = 3\n",
    "TRAIN_BATCH_SIZE = 16\n",
    "INFER_BATCH_SIZE = 1\n",
    "RANDOM_STATE = 8888\n",
    "\n",
    "MLFLOW_SERVER_IP = \"127.0.0.1\"\n",
    "MLFLOW_SERVER_PORT = \"5050\"\n",
    "MLFLOW_ARTIFACT_PATH = \"/mnt/c/SynologyDrive/mlruns\""
   ]
  },
  {
   "cell_type": "code",
   "execution_count": null,
   "id": "4646abf6",
   "metadata": {},
   "outputs": [],
   "source": [
    "# ensure that data directory and patch config json paths are valid\n",
    "assert os.path.isdir(DATA_DIREC)\n",
    "assert os.path.isfile(PATCH_CONFIG_JSON)"
   ]
  },
  {
   "cell_type": "markdown",
   "id": "a9a05b84",
   "metadata": {},
   "source": [
    "### Creating training config by building on patch_config"
   ]
  },
  {
   "cell_type": "code",
   "execution_count": null,
   "id": "9dd56970",
   "metadata": {},
   "outputs": [],
   "source": [
    "try:\n",
    "    config_json = json.load(open(PATCH_CONFIG_JSON, 'r'))\n",
    "    logger.info(f\"Successfully loaded patch config from {PATCH_CONFIG_JSON}\")\n",
    "except Exception as e:\n",
    "    logger.error(f\"Could not load patch config json from {PATCH_CONFIG_JSON}.\\nERROR: {e}\")\n",
    "    raise CAREInferenceError(f\"Could not load patch config json from {PATCH_CONFIG_JSON}.\\nERROR: {e}\")"
   ]
  },
  {
   "cell_type": "code",
   "execution_count": null,
   "id": "8413f999",
   "metadata": {},
   "outputs": [],
   "source": [
    "server_process = set_up_tracking_server(\n",
    "    ip=MLFLOW_SERVER_IP,\n",
    "    port=MLFLOW_SERVER_PORT,\n",
    "    direc=MLFLOW_ARTIFACT_PATH,\n",
    "    log_path=os.path.join(WINDOWS_USER_PATH, \"logs\", f\"{datetime.now().strftime('%Y%m%d-%H%M%S')}_training_mlflow_server.log\")\n",
    ")"
   ]
  },
  {
   "cell_type": "code",
   "execution_count": null,
   "id": "b992802e",
   "metadata": {},
   "outputs": [],
   "source": [
    "server_process.errors"
   ]
  },
  {
   "cell_type": "code",
   "execution_count": null,
   "id": "b1e89bc8",
   "metadata": {},
   "outputs": [],
   "source": [
    "mlflow.set_tracking_uri(f\"http://{MLFLOW_SERVER_IP}:{MLFLOW_SERVER_PORT}\")\n",
    "mlflow.set_registry_uri(f\"http://{MLFLOW_SERVER_IP}:{MLFLOW_SERVER_PORT}\")\n",
    "# EXPERIMENT_NAME = f\"CARE Denoising {config_json[\"Patch_Config\"][\"patch_shape\"][-1]} Channel\""
   ]
  },
  {
   "cell_type": "code",
   "execution_count": null,
   "id": "4f6618e0",
   "metadata": {},
   "outputs": [],
   "source": [
    "EXPERIMENT_NAME = \"test_experiment 4\"\n",
    "mlflow_logger.info(f\"Using experiment {EXPERIMENT_NAME}\")\n",
    "mlflow.set_experiment(EXPERIMENT_NAME)"
   ]
  },
  {
   "cell_type": "code",
   "execution_count": null,
   "id": "b6bd7880",
   "metadata": {},
   "outputs": [],
   "source": [
    "mlflow.start_run()\n",
    "run = mlflow.active_run()\n",
    "MLFLOW_RUN_ID = run.info.run_id\n",
    "MLFLOW_RUN_NAME = run.info.run_name\n",
    "mlflow_logger.info(f\"Run {MLFLOW_RUN_NAME} (id {MLFLOW_RUN_ID}) started at {datetime.now().strftime('%Y%m%d-%H%M%S')}\")\n",
    "print(f\"Run {MLFLOW_RUN_NAME} (id {MLFLOW_RUN_ID}) started at {datetime.now().strftime('%Y%m%d-%H%M%S')}\")\n"
   ]
  },
  {
   "cell_type": "code",
   "execution_count": null,
   "id": "a0a5e714",
   "metadata": {},
   "outputs": [],
   "source": [
    "try:\n",
    "    MODEL_NAME = f\"FLAME_CARE_\" \\\n",
    "        + f\"{config_json['FLAME_Dataset']['input']['n_frames']}\" \\\n",
    "        + f\"to\" \\\n",
    "        + f\"{config_json[\"FLAME_Dataset\"]['output']['n_frames']}F\"\n",
    "    logger.info(f\"Training a model with NAME: '{MODEL_NAME}'...\")\n",
    "except Exception as e:\n",
    "    logger.error(f\"Failed to dynamically load model name.\\nERROR: {e}\")\n",
    "    raise CAREInferenceError(f\"Failed to dynamically load model name.\\nERROR: {e}\")\n"
   ]
  },
  {
   "cell_type": "code",
   "execution_count": null,
   "id": "8bdb2702",
   "metadata": {},
   "outputs": [],
   "source": [
    "try:\n",
    "    MODEL_DIREC = os.path.join(SAVE_DIREC, MODEL_NAME, str(MLFLOW_RUN_ID))\n",
    "    # exist_ok being True *SHOULD* (?) be fine because RUN_ID will not iterate upwards unless training either started or finished.\n",
    "    os.makedirs(MODEL_DIREC, exist_ok = True)\n",
    "    logger.info(f\"Training run id is {MLFLOW_RUN_ID}.\")\n",
    "    logger.info(f\"Model saving to {MODEL_DIREC}\")\n",
    "except Exception as e:\n",
    "    logger.error(f\"Failed to load run id and/or set up model save directory.\\nERROR: {e}\")\n",
    "    raise CAREInferenceError(f\"Failed to load run id and/or set up model save directory.\\nERROR: {e}\")"
   ]
  },
  {
   "cell_type": "code",
   "execution_count": null,
   "id": "f21cc713",
   "metadata": {},
   "outputs": [],
   "source": [
    "config_json['Train_Config'] = {\n",
    "    'npz_path': os.path.join(DATA_DIREC, config_json['Patch_Config']['npz_name']),\n",
    "    'name': MODEL_NAME,\n",
    "    'model_direc': MODEL_DIREC,\n",
    "    'unet_kern_size': UNET_KERN_SIZE,\n",
    "    'train_batch_size': TRAIN_BATCH_SIZE,\n",
    "    'random_state': RANDOM_STATE,\n",
    "}"
   ]
  },
  {
   "cell_type": "code",
   "execution_count": null,
   "id": "e28e105d",
   "metadata": {},
   "outputs": [],
   "source": [
    "_compress_dict_fields(config_json)"
   ]
  },
  {
   "cell_type": "code",
   "execution_count": null,
   "id": "5983b9ba",
   "metadata": {},
   "outputs": [],
   "source": [
    "# verifying npz path...\n",
    "NPZ_PATH = config_json['Train_Config']['npz_path']\n",
    "assert os.path.isfile(config_json['Train_Config']['npz_path']), f\"NPZ path {NPZ_PATH} is not a file\""
   ]
  },
  {
   "cell_type": "markdown",
   "id": "ef19c947",
   "metadata": {},
   "source": [
    "### Training and Validation Data"
   ]
  },
  {
   "cell_type": "code",
   "execution_count": null,
   "id": "aeda2899",
   "metadata": {},
   "outputs": [],
   "source": [
    "(X, Y), (X_val, Y_val), axes = load_training_data(\n",
    "    NPZ_PATH,\n",
    "    validation_split=0.1,\n",
    "    verbose=True\n",
    ")"
   ]
  },
  {
   "cell_type": "code",
   "execution_count": null,
   "id": "1c079508",
   "metadata": {},
   "outputs": [],
   "source": [
    "c = axes_dict(axes)['C']\n",
    "channels_in, channels_out = X.shape[c], Y.shape[c]"
   ]
  },
  {
   "cell_type": "markdown",
   "id": "3f87ae3f",
   "metadata": {},
   "source": [
    "### CARE Model"
   ]
  },
  {
   "cell_type": "code",
   "execution_count": null,
   "id": "e54f4a6e",
   "metadata": {},
   "outputs": [],
   "source": [
    "config_json['CARE_Model'] = {\n",
    "    'name': MODEL_NAME,\n",
    "    'experiment_name': EXPERIMENT_NAME,\n",
    "    'run_id': MLFLOW_RUN_ID,\n",
    "    'run_name': MLFLOW_RUN_NAME,\n",
    "    'base_dir': SAVE_DIREC,\n",
    "    'run_dir': MODEL_DIREC\n",
    "}\n",
    "config_json['CARE_Model']['CSBDeep_Config'] = {\n",
    "    'axes': axes,\n",
    "    'n_channel_in': channels_in,\n",
    "    'n_channel_out': channels_out,\n",
    "    'probabilistic': False, # default from CSBDeep\n",
    "    'allow_new_parameters': False, # default from CSBDeep\n",
    "    'unet_kern_size': UNET_KERN_SIZE,\n",
    "    'train_batch_size': TRAIN_BATCH_SIZE,\n",
    "    'unet_input_shape': tuple(config_json['Patch_Config']['patch_shape']),\n",
    "    'allow_new_parameters': True\n",
    "}"
   ]
  },
  {
   "cell_type": "code",
   "execution_count": null,
   "id": "7e795296",
   "metadata": {},
   "outputs": [],
   "source": [
    "config = Config(\n",
    "    **config_json['CARE_Model']['CSBDeep_Config']\n",
    ")\n",
    "\n",
    "config_json['CARE_Model']['Model_Arch'] = vars(config)"
   ]
  },
  {
   "cell_type": "code",
   "execution_count": null,
   "id": "5b28e3bc",
   "metadata": {},
   "outputs": [],
   "source": [
    "JSON_CONFIG_PATH = os.path.join(MODEL_DIREC, \"model_config.json\")\n",
    "json.dump(config_json, open(JSON_CONFIG_PATH, 'w+'))"
   ]
  },
  {
   "cell_type": "markdown",
   "id": "ad079a6a",
   "metadata": {},
   "source": [
    "### Training the Model"
   ]
  },
  {
   "cell_type": "code",
   "execution_count": null,
   "id": "e32b52fc",
   "metadata": {},
   "outputs": [],
   "source": [
    "model = CARE(\n",
    "    config,\n",
    "    str(MLFLOW_RUN_ID),\n",
    "    basedir=os.path.join(SAVE_DIREC, MODEL_NAME)\n",
    ")"
   ]
  },
  {
   "cell_type": "code",
   "execution_count": null,
   "id": "7ba47e2e",
   "metadata": {},
   "outputs": [],
   "source": [
    "history = model.train(X, Y, validation_data=(X_val, Y_val), epochs=1)"
   ]
  },
  {
   "cell_type": "code",
   "execution_count": null,
   "id": "d8be4eb5",
   "metadata": {},
   "outputs": [],
   "source": [
    "# model.keras_model.save(os.path.join(MODEL_DIREC, 'saved_model.keras'))"
   ]
  },
  {
   "cell_type": "markdown",
   "id": "036682b2",
   "metadata": {},
   "source": [
    "### Some quick visualizations"
   ]
  },
  {
   "cell_type": "code",
   "execution_count": null,
   "id": "360aa849",
   "metadata": {},
   "outputs": [],
   "source": [
    "print(sorted(list(history.history.keys())))\n",
    "plt.figure(figsize=(16,5))\n",
    "plot_history(history,['loss','val_loss'],['mse','val_mse','mae','val_mae']);\n",
    "plt.savefig(os.path.join(MODEL_DIREC, \"training_history.png\"))"
   ]
  },
  {
   "cell_type": "markdown",
   "id": "03298d60",
   "metadata": {},
   "source": [
    "### Model Evaluation from Validation Set"
   ]
  },
  {
   "cell_type": "code",
   "execution_count": null,
   "id": "4d59bbc6",
   "metadata": {},
   "outputs": [],
   "source": [
    "_P = model.keras_model.predict(X_val[:5])"
   ]
  },
  {
   "cell_type": "code",
   "execution_count": null,
   "id": "5b9166c5",
   "metadata": {},
   "outputs": [],
   "source": [
    "plt.figure(figsize=(20,12))\n",
    "if config.probabilistic:\n",
    "    _P = _P[...,:(_P.shape[-1]//2)]\n",
    "plot_some(X_val[:5],Y_val[:5],_P,pmax=99.5)\n",
    "plt.suptitle('5 example validation patches\\n'      \n",
    "             'top row: input (source),  '          \n",
    "             'middle row: target (ground truth),  '\n",
    "             'bottom row: predicted from source');\n",
    "\n",
    "plt.savefig(os.path.join(MODEL_DIREC, \"val_set_predict_sample.png\"))"
   ]
  },
  {
   "cell_type": "markdown",
   "id": "ab698314",
   "metadata": {},
   "source": [
    "### Logging Model in MLFlow Database"
   ]
  },
  {
   "cell_type": "code",
   "execution_count": null,
   "id": "f0e355d5",
   "metadata": {},
   "outputs": [],
   "source": [
    "val_loss = np.min(history.history['val_loss'])\n",
    "idx = history.history['val_loss'].index(val_loss)\n",
    "val_mae = history.history['val_mae'][idx]\n",
    "val_mse = history.history['val_mse'][idx]"
   ]
  },
  {
   "cell_type": "markdown",
   "id": "c6f38224",
   "metadata": {},
   "source": [
    "### Export to ONNX"
   ]
  },
  {
   "cell_type": "code",
   "execution_count": null,
   "id": "568ac914",
   "metadata": {},
   "outputs": [],
   "source": [
    "input_shape = list(X.shape)\n",
    "batch_dim = axes_dict(axes)['S']\n",
    "input_shape[batch_dim] = None\n",
    "print(input_shape)"
   ]
  },
  {
   "cell_type": "code",
   "execution_count": null,
   "id": "7a76477e",
   "metadata": {},
   "outputs": [],
   "source": [
    "input_signature = [\n",
    "    tf.TensorSpec(\n",
    "        input_shape, \n",
    "        tf.float32, \n",
    "        name='patch'\n",
    "    )\n",
    "]"
   ]
  },
  {
   "cell_type": "code",
   "execution_count": null,
   "id": "aa217f78",
   "metadata": {},
   "outputs": [],
   "source": [
    "onnx_model, _ = tf2onnx.convert.from_keras(\n",
    "    model.keras_model,\n",
    "    input_signature,\n",
    "    opset=13\n",
    ")"
   ]
  },
  {
   "cell_type": "code",
   "execution_count": null,
   "id": "41eec729",
   "metadata": {},
   "outputs": [],
   "source": [
    "ONNX_PATH = os.path.join(MODEL_DIREC, f\"{MODEL_NAME}.onnx\")\n",
    "onnx.save(onnx_model, ONNX_PATH)"
   ]
  },
  {
   "cell_type": "code",
   "execution_count": null,
   "id": "370fa01f",
   "metadata": {},
   "outputs": [],
   "source": [
    "from flame.engine import CAREInferenceSession"
   ]
  },
  {
   "cell_type": "code",
   "execution_count": null,
   "id": "f9865fb7",
   "metadata": {},
   "outputs": [],
   "source": [
    "engine = CAREInferenceSession(\n",
    "    model_path=ONNX_PATH,\n",
    "    model_config_path=JSON_CONFIG_PATH,\n",
    "    dataset_config_path=JSON_CONFIG_PATH\n",
    ")"
   ]
  },
  {
   "cell_type": "code",
   "execution_count": null,
   "id": "f8b3b64a",
   "metadata": {},
   "outputs": [],
   "source": [
    "X.shape"
   ]
  },
  {
   "cell_type": "code",
   "execution_count": null,
   "id": "1c6f2ee7",
   "metadata": {},
   "outputs": [],
   "source": [
    "run.info.artifact_uri"
   ]
  },
  {
   "cell_type": "code",
   "execution_count": null,
   "id": "e74bd619",
   "metadata": {},
   "outputs": [],
   "source": [
    "# Log the hyperparameters\n",
    "mlflow.log_params(_compress_dict_fields(config_json))\n",
    "\n",
    "# Log the validation performance metrics\n",
    "mlflow.log_metric(\"val_loss\", np.min(val_loss))\n",
    "mlflow.log_metric(\"val_mae\", np.min(val_mae))\n",
    "mlflow.log_metric(\"val_mse\", np.min(val_mse))\n",
    "\n",
    "model_info = onnx_log_model(\n",
    "    onnx_model=onnx_model,\n",
    "    artifact_path=\"model\",\n",
    "    conda_env=os.path.join(os.getcwd(), \"environment_wsl.yml\"),\n",
    "    input_example=X[[0],...],\n",
    "\n",
    "    # If given, create a model version under registered_model_name, \n",
    "    # also creating a registered model if one with the given name does not exist.\n",
    "    # registered_model_name=_,\n",
    "\n",
    "    metadata=config_json,\n",
    "    signature=infer_signature(X[[0],...], engine.predict(X[[0],...])),\n",
    "    onnx_execution_providers=[\"CUDAExecutionProvider\", \"CPUExecutionProvider\"],\n",
    ")"
   ]
  },
  {
   "cell_type": "code",
   "execution_count": null,
   "id": "dd8af4ae",
   "metadata": {},
   "outputs": [],
   "source": [
    "mlflow.log_artifacts(\n",
    "    local_dir=os.path.join(os.getcwd(), 'flame'),\n",
    "    artifact_path=\"flame\"\n",
    ")\n",
    "\n",
    "mlflow.log_artifact(\n",
    "    local_path=JSON_CONFIG_PATH,\n",
    "    artifact_path=\"model_config\"\n",
    ")"
   ]
  },
  {
   "cell_type": "code",
   "execution_count": null,
   "id": "0c5ae84b",
   "metadata": {},
   "outputs": [],
   "source": [
    "mlflow.end_run()"
   ]
  },
  {
   "cell_type": "code",
   "execution_count": null,
   "id": "9f59102b",
   "metadata": {},
   "outputs": [],
   "source": []
  }
 ],
 "metadata": {
  "kernelspec": {
   "display_name": "care",
   "language": "python",
   "name": "python3"
  },
  "language_info": {
   "codemirror_mode": {
    "name": "ipython",
    "version": 3
   },
   "file_extension": ".py",
   "mimetype": "text/x-python",
   "name": "python",
   "nbconvert_exporter": "python",
   "pygments_lexer": "ipython3",
   "version": "3.12.0"
  }
 },
 "nbformat": 4,
 "nbformat_minor": 5
}
