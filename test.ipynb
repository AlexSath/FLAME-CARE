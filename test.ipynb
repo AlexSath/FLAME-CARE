{
 "cells": [
  {
   "cell_type": "code",
   "execution_count": null,
   "id": "4672ebbf",
   "metadata": {},
   "outputs": [],
   "source": [
    "import pandas as pd\n",
    "import json\n",
    "import os\n",
    "import numpy as np"
   ]
  },
  {
   "cell_type": "code",
   "execution_count": null,
   "id": "e0286268",
   "metadata": {},
   "outputs": [],
   "source": [
    "json_path = \"/mnt/d/code/Balu_CARE/datasets/20250523_192I_denoising_5to40F.json\"\n",
    "image_index_csv = \"/mnt/d/code/Balu_CARE/datasets/raw_image_index.csv\""
   ]
  },
  {
   "cell_type": "code",
   "execution_count": null,
   "id": "333ae611",
   "metadata": {},
   "outputs": [],
   "source": [
    "image_index = pd.read_csv(image_index_csv)"
   ]
  },
  {
   "cell_type": "code",
   "execution_count": null,
   "id": "a83601b6",
   "metadata": {},
   "outputs": [],
   "source": [
    "image_index.head()"
   ]
  },
  {
   "cell_type": "code",
   "execution_count": null,
   "id": "cbb278cd",
   "metadata": {},
   "outputs": [],
   "source": [
    "dataset = json.load(open(json_path,'r'))"
   ]
  },
  {
   "cell_type": "code",
   "execution_count": null,
   "id": "f1cbb7eb",
   "metadata": {},
   "outputs": [],
   "source": [
    "ids = dataset['FLAME_Dataset']['image_ids']"
   ]
  },
  {
   "cell_type": "code",
   "execution_count": null,
   "id": "4b1d4a05",
   "metadata": {},
   "outputs": [],
   "source": [
    "image_index.loc[image_index['id']==6]['image'].values[0]"
   ]
  },
  {
   "cell_type": "code",
   "execution_count": null,
   "id": "ecd76241",
   "metadata": {},
   "outputs": [],
   "source": [
    "# image_paths = {}\n",
    "# for id in ids:\n",
    "#     dirname = os.path.dirname(image_index.loc[image_index['id'] == id]['image'].values[0])\n",
    "#     if dirname not in image_paths.keys():\n",
    "#         image_paths[dirname] = 1\n",
    "#     else:\n",
    "#         image_paths[dirname] += 1"
   ]
  },
  {
   "cell_type": "code",
   "execution_count": null,
   "id": "086c1082",
   "metadata": {},
   "outputs": [],
   "source": [
    "# print(\"\\n\".join(image_paths.keys()))"
   ]
  },
  {
   "cell_type": "code",
   "execution_count": null,
   "id": "29cd03a7",
   "metadata": {},
   "outputs": [],
   "source": [
    "# np.sum(list(image_paths.values()))"
   ]
  },
  {
   "cell_type": "code",
   "execution_count": null,
   "id": "a96b2a07",
   "metadata": {},
   "outputs": [],
   "source": [
    "# image_paths"
   ]
  },
  {
   "cell_type": "code",
   "execution_count": null,
   "id": "5b827e7c",
   "metadata": {},
   "outputs": [],
   "source": [
    "import tifffile as tiff\n",
    "from flame import FLAMEImage\n",
    "from flame.utils import min_max_norm\n",
    "from matplotlib import pyplot as plt"
   ]
  },
  {
   "cell_type": "code",
   "execution_count": null,
   "id": "528dca4a",
   "metadata": {},
   "outputs": [],
   "source": [
    "path = \"/mnt/d/data/raw/S276_250521_CAREtraining_PL/SCCdogear_ExVivo_neck/Mosaic02_2x2_FOV600_z25_3Ch/Im_00001.tif\""
   ]
  },
  {
   "cell_type": "code",
   "execution_count": null,
   "id": "22eb12d9",
   "metadata": {},
   "outputs": [],
   "source": [
    "raw = tiff.imread(path)"
   ]
  },
  {
   "cell_type": "code",
   "execution_count": null,
   "id": "149747fb",
   "metadata": {},
   "outputs": [],
   "source": [
    "raw40 = np.sum(raw, axis=0).transpose(1,2,0)"
   ]
  },
  {
   "cell_type": "code",
   "execution_count": null,
   "id": "5eb6f718",
   "metadata": {},
   "outputs": [],
   "source": [
    "raw40 = min_max_norm(raw40, np.min(raw40, axis=(0,1)), np.max(raw40, axis=(0,1)))"
   ]
  },
  {
   "cell_type": "code",
   "execution_count": null,
   "id": "8a5ed6c6",
   "metadata": {},
   "outputs": [],
   "source": [
    "raw40[:,:,0] *= 4/3\n",
    "raw40[:,:,2] *= 2/3"
   ]
  },
  {
   "cell_type": "code",
   "execution_count": null,
   "id": "94a180a3",
   "metadata": {},
   "outputs": [],
   "source": [
    "proc = FLAMEImage(\n",
    "    path,\n",
    "    \"tileData.txt\"\n",
    ")"
   ]
  },
  {
   "cell_type": "code",
   "execution_count": null,
   "id": "e5611323",
   "metadata": {},
   "outputs": [],
   "source": [
    "proc.openImage()"
   ]
  },
  {
   "cell_type": "code",
   "execution_count": null,
   "id": "971c3420",
   "metadata": {},
   "outputs": [],
   "source": [
    "proc.imageData.shape"
   ]
  },
  {
   "cell_type": "code",
   "execution_count": null,
   "id": "31e4203e",
   "metadata": {},
   "outputs": [],
   "source": [
    "proc40 = np.sum(proc.imageData, axis=0).transpose(1,2,0)"
   ]
  },
  {
   "cell_type": "code",
   "execution_count": null,
   "id": "4c3fb5c6",
   "metadata": {},
   "outputs": [],
   "source": [
    "proc40 = min_max_norm(proc40, np.min(proc40, axis=(0,1)), np.max(proc40, axis=(0,1)))"
   ]
  },
  {
   "cell_type": "code",
   "execution_count": null,
   "id": "70dec61a",
   "metadata": {},
   "outputs": [],
   "source": [
    "proc40[:,:,0] *= 4/3\n",
    "proc40[:,:,2] *= 2/3"
   ]
  },
  {
   "cell_type": "code",
   "execution_count": null,
   "id": "e3a1dd64",
   "metadata": {},
   "outputs": [],
   "source": [
    "plt.imshow(raw40)"
   ]
  },
  {
   "cell_type": "code",
   "execution_count": null,
   "id": "a92aef70",
   "metadata": {},
   "outputs": [],
   "source": [
    "plt.imshow(proc40)"
   ]
  },
  {
   "cell_type": "code",
   "execution_count": null,
   "id": "366dc28d",
   "metadata": {},
   "outputs": [],
   "source": [
    "os.makedirs(\"/mnt/c/Users/BaluLab/Desktop/bidirectional_test/\", exist_ok=True)"
   ]
  },
  {
   "cell_type": "code",
   "execution_count": null,
   "id": "631d8ef4",
   "metadata": {},
   "outputs": [],
   "source": [
    "tiff.imwrite(\"/mnt/c/Users/BaluLab/Desktop/bidirectional_test/raw40.tif\", raw40)\n",
    "tiff.imwrite(\"/mnt/c/Users/BaluLab/Desktop/bidirectional_test/proc40.tif\", proc40)"
   ]
  }
 ],
 "metadata": {
  "kernelspec": {
   "display_name": "care",
   "language": "python",
   "name": "python3"
  },
  "language_info": {
   "codemirror_mode": {
    "name": "ipython",
    "version": 3
   },
   "file_extension": ".py",
   "mimetype": "text/x-python",
   "name": "python",
   "nbconvert_exporter": "python",
   "pygments_lexer": "ipython3",
   "version": "3.12.0"
  }
 },
 "nbformat": 4,
 "nbformat_minor": 5
}
