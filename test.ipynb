{
 "cells": [
  {
   "cell_type": "code",
   "execution_count": null,
   "id": "4672ebbf",
   "metadata": {},
   "outputs": [],
   "source": [
    "import pandas as pd\n",
    "import json\n",
    "import os\n",
    "import numpy as np"
   ]
  },
  {
   "cell_type": "code",
   "execution_count": null,
   "id": "e0286268",
   "metadata": {},
   "outputs": [],
   "source": [
    "json_path = \"/mnt/d/code/Balu_CARE/datasets/20250523_192I_denoising_5to40F.json\"\n",
    "image_index_csv = \"/mnt/d/code/Balu_CARE/datasets/raw_image_index.csv\""
   ]
  },
  {
   "cell_type": "code",
   "execution_count": null,
   "id": "333ae611",
   "metadata": {},
   "outputs": [],
   "source": [
    "image_index = pd.read_csv(image_index_csv)"
   ]
  },
  {
   "cell_type": "code",
   "execution_count": null,
   "id": "a83601b6",
   "metadata": {},
   "outputs": [],
   "source": [
    "image_index.head()"
   ]
  },
  {
   "cell_type": "code",
   "execution_count": null,
   "id": "cbb278cd",
   "metadata": {},
   "outputs": [],
   "source": [
    "dataset = json.load(open(json_path,'r'))"
   ]
  },
  {
   "cell_type": "code",
   "execution_count": null,
   "id": "f1cbb7eb",
   "metadata": {},
   "outputs": [],
   "source": [
    "ids = dataset['FLAME_Dataset']['image_ids']"
   ]
  },
  {
   "cell_type": "code",
   "execution_count": null,
   "id": "4b1d4a05",
   "metadata": {},
   "outputs": [],
   "source": [
    "image_index.loc[image_index['id']==6]['image'].values[0]"
   ]
  },
  {
   "cell_type": "code",
   "execution_count": null,
   "id": "ecd76241",
   "metadata": {},
   "outputs": [],
   "source": [
    "# image_paths = {}\n",
    "# for id in ids:\n",
    "#     dirname = os.path.dirname(image_index.loc[image_index['id'] == id]['image'].values[0])\n",
    "#     if dirname not in image_paths.keys():\n",
    "#         image_paths[dirname] = 1\n",
    "#     else:\n",
    "#         image_paths[dirname] += 1"
   ]
  },
  {
   "cell_type": "code",
   "execution_count": null,
   "id": "086c1082",
   "metadata": {},
   "outputs": [],
   "source": [
    "# print(\"\\n\".join(image_paths.keys()))"
   ]
  },
  {
   "cell_type": "code",
   "execution_count": null,
   "id": "29cd03a7",
   "metadata": {},
   "outputs": [],
   "source": [
    "# np.sum(list(image_paths.values()))"
   ]
  },
  {
   "cell_type": "code",
   "execution_count": null,
   "id": "a96b2a07",
   "metadata": {},
   "outputs": [],
   "source": [
    "# image_paths"
   ]
  },
  {
   "cell_type": "code",
   "execution_count": null,
   "id": "5b827e7c",
   "metadata": {},
   "outputs": [],
   "source": [
    "import tifffile as tiff\n",
    "from flame import FLAMEImage\n",
    "from flame.utils import min_max_norm\n",
    "from matplotlib import pyplot as plt"
   ]
  },
  {
   "cell_type": "code",
   "execution_count": null,
   "id": "528dca4a",
   "metadata": {},
   "outputs": [],
   "source": [
    "path = \"/mnt/d/data/raw/S276_250521_CAREtraining_PL/SCCdogear_ExVivo_neck/Mosaic07_2x2_FOV600_z85_3Ch/Im_00002.tif\""
   ]
  },
  {
   "cell_type": "code",
   "execution_count": null,
   "id": "8de59a2a",
   "metadata": {},
   "outputs": [],
   "source": [
    "test = FLAMEImage(path, \"tileData.txt\")"
   ]
  },
  {
   "cell_type": "code",
   "execution_count": null,
   "id": "d7e62329",
   "metadata": {},
   "outputs": [],
   "source": [
    "test.openImage()"
   ]
  },
  {
   "cell_type": "code",
   "execution_count": null,
   "id": "ec2b6056",
   "metadata": {},
   "outputs": [],
   "source": [
    "imageData = test.imageData.copy()"
   ]
  },
  {
   "cell_type": "code",
   "execution_count": null,
   "id": "2a480b82",
   "metadata": {},
   "outputs": [],
   "source": [
    "imageData.shape"
   ]
  },
  {
   "cell_type": "code",
   "execution_count": null,
   "id": "31c797b7",
   "metadata": {},
   "outputs": [],
   "source": [
    "imageData.min()"
   ]
  },
  {
   "cell_type": "code",
   "execution_count": null,
   "id": "35d06816",
   "metadata": {},
   "outputs": [],
   "source": [
    "imageData.max()"
   ]
  },
  {
   "cell_type": "code",
   "execution_count": null,
   "id": "4c0ff25d",
   "metadata": {},
   "outputs": [],
   "source": [
    "ds = json.load(open(\"/mnt/d/code/Balu_CARE/datasets/20250527_112I_denoising_5to40F.json\", 'r'))"
   ]
  },
  {
   "cell_type": "code",
   "execution_count": null,
   "id": "233d3ec4",
   "metadata": {},
   "outputs": [],
   "source": [
    "pct1 = np.array(ds[\"FLAME_Dataset\"][\"input\"]['pixel_1pct'])\n",
    "pct99 = np.array(ds[\"FLAME_Dataset\"][\"input\"]['pixel_99pct'])"
   ]
  },
  {
   "cell_type": "code",
   "execution_count": null,
   "id": "5fa43d2a",
   "metadata": {},
   "outputs": [],
   "source": [
    "mmn = min_max_norm(imageData, pct1, pct99)"
   ]
  },
  {
   "cell_type": "code",
   "execution_count": null,
   "id": "a4ebd910",
   "metadata": {},
   "outputs": [],
   "source": [
    "mmn.min()"
   ]
  },
  {
   "cell_type": "code",
   "execution_count": null,
   "id": "e72ba3d5",
   "metadata": {},
   "outputs": [],
   "source": [
    "mmn.max()"
   ]
  },
  {
   "cell_type": "code",
   "execution_count": null,
   "id": "84cb9056",
   "metadata": {},
   "outputs": [],
   "source": [
    "test.get_frames(0, 5)"
   ]
  },
  {
   "cell_type": "code",
   "execution_count": null,
   "id": "c40752c4",
   "metadata": {},
   "outputs": [],
   "source": [
    "output_test = tiff.imread(\"/mnt/d/data/processed/20250527_112I_denoising_5to40F/train/id127_frames40.tif\")"
   ]
  },
  {
   "cell_type": "code",
   "execution_count": null,
   "id": "fa85ac70",
   "metadata": {},
   "outputs": [],
   "source": [
    "output_test.all() == test.get_frames(0, 40).all()"
   ]
  }
 ],
 "metadata": {
  "kernelspec": {
   "display_name": "care",
   "language": "python",
   "name": "python3"
  },
  "language_info": {
   "codemirror_mode": {
    "name": "ipython",
    "version": 3
   },
   "file_extension": ".py",
   "mimetype": "text/x-python",
   "name": "python",
   "nbconvert_exporter": "python",
   "pygments_lexer": "ipython3",
   "version": "3.12.0"
  }
 },
 "nbformat": 4,
 "nbformat_minor": 5
}
