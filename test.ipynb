{
 "cells": [
  {
   "cell_type": "code",
   "execution_count": null,
   "id": "b2989513",
   "metadata": {},
   "outputs": [],
   "source": [
    "import os, logging, json\n",
    "from datetime import datetime\n",
    "\n",
    "import mlflow\n",
    "import numpy as np\n",
    "import tensorflow as tf\n",
    "from cloudpickle import Pickler\n",
    "import onnx\n",
    "from mlflow.onnx import log_model as onnx_log_model\n",
    "from mlflow.models import infer_signature\n",
    "from csbdeep.models import Config, CARE\n",
    "\n",
    "from flame.utils import _compress_dict_fields\n",
    "from flame import CAREInferenceSession"
   ]
  },
  {
   "cell_type": "code",
   "execution_count": null,
   "id": "38ce8725",
   "metadata": {},
   "outputs": [],
   "source": [
    "MODEL_DIR = \"/mnt/d/models/CARE/test_model\"\n",
    "ONNX_MODEL_PATH = os.path.join(MODEL_DIR, \"test_model.onnx\")\n",
    "JSON_CONFIG_PATH = os.path.join(MODEL_DIR, \"model_config.json\")"
   ]
  },
  {
   "cell_type": "code",
   "execution_count": null,
   "id": "5b18529a",
   "metadata": {},
   "outputs": [],
   "source": [
    "config_json = json.load(open(JSON_CONFIG_PATH, 'r'))"
   ]
  },
  {
   "cell_type": "code",
   "execution_count": null,
   "id": "c93c0c74",
   "metadata": {},
   "outputs": [],
   "source": [
    "engine = CAREInferenceSession(\n",
    "    model_path = ONNX_MODEL_PATH,\n",
    "    model_config_path= JSON_CONFIG_PATH,\n",
    "    dataset_config_path= JSON_CONFIG_PATH\n",
    ")"
   ]
  },
  {
   "cell_type": "code",
   "execution_count": null,
   "id": "442e67c0",
   "metadata": {},
   "outputs": [],
   "source": [
    "onnx_model = onnx.load(ONNX_MODEL_PATH)"
   ]
  },
  {
   "cell_type": "code",
   "execution_count": null,
   "id": "bbcd2bad",
   "metadata": {},
   "outputs": [],
   "source": [
    "import matplotlib.pyplot as plt"
   ]
  },
  {
   "cell_type": "code",
   "execution_count": null,
   "id": "d8acbb47",
   "metadata": {},
   "outputs": [],
   "source": [
    "X = np.random.uniform(low=0, high=1, size=(1*1200*1200*3)).reshape((1,1200,1200,3))"
   ]
  },
  {
   "cell_type": "code",
   "execution_count": null,
   "id": "5a1fa8f8",
   "metadata": {},
   "outputs": [],
   "source": [
    "mlflow.set_tracking_uri(uri=\"http://127.0.0.1:5050\")\n",
    "EXPERIMENT_NAME = \"CARE Denoising 3 Channel\"\n",
    "mlflow.set_experiment(EXPERIMENT_NAME)"
   ]
  },
  {
   "cell_type": "code",
   "execution_count": null,
   "id": "e1c50cd0",
   "metadata": {},
   "outputs": [],
   "source": [
    "# Log the hyperparameters\n",
    "mlflow.log_params(_compress_dict_fields(config_json))\n",
    "\n",
    "# Log the validation performance metrics\n",
    "# mlflow.log_metric(\"val_loss\", np.min(val_loss))\n",
    "# mlflow.log_metric(\"val_mae\", np.min(val_mae))\n",
    "# mlflow.log_metric(\"val_mse\", np.min(val_mse))\n",
    "\n",
    "model_info = onnx_log_model(\n",
    "    onnx_model=onnx_model,\n",
    "    artifact_path=\"model\",\n",
    "    conda_env=os.path.join(os.getcwd(), \"environment.yml\"),\n",
    "    input_example=X[[0],...],\n",
    "\n",
    "    # If given, create a model version under registered_model_name\n",
    "    # also creating a registered model if one with the given name does not exist.\n",
    "    # registered_model_name=_,\n",
    "\n",
    "    metadata=config_json,\n",
    "    signature=infer_signature(X[[0],...], engine.predict(X[[0],...])),\n",
    "    onnx_execution_providers=[\"CUDAExecutionProvider\", \"CPUExecutionProvider\"],\n",
    ")\n",
    "\n",
    "mlflow.log_artifacts(\n",
    "    local_dir=os.path.join(os.getcwd(), 'flame'),\n",
    "    artifact_path=\"flame\"\n",
    ")\n",
    "\n",
    "mlflow.log_artifact(\n",
    "    local_path=JSON_CONFIG_PATH,\n",
    "    artifact_path=\"model_config\"\n",
    ")\n",
    "\n",
    "mlflow.end_run()"
   ]
  },
  {
   "cell_type": "code",
   "execution_count": null,
   "id": "25f33dec",
   "metadata": {},
   "outputs": [],
   "source": [
    "engine"
   ]
  }
 ],
 "metadata": {
  "kernelspec": {
   "display_name": "care",
   "language": "python",
   "name": "python3"
  },
  "language_info": {
   "codemirror_mode": {
    "name": "ipython",
    "version": 3
   },
   "file_extension": ".py",
   "mimetype": "text/x-python",
   "name": "python",
   "nbconvert_exporter": "python",
   "pygments_lexer": "ipython3",
   "version": "3.12.0"
  }
 },
 "nbformat": 4,
 "nbformat_minor": 5
}
