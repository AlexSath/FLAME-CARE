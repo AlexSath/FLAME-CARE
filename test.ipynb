{
 "cells": [
  {
   "cell_type": "code",
   "execution_count": 51,
   "id": "25f33dec",
   "metadata": {},
   "outputs": [],
   "source": [
    "import os, yaml, re\n",
    "\n",
    "def change_root(root: str, to_change: str) -> str:\n",
    "    root_direc_split, to_change_split = root.split(os.path.sep), re.split(\"/|\\\\\\\\\", to_change)\n",
    "    root_direc_last = root_direc_split[-1]\n",
    "    to_change_last_index = to_change_split.index(root_direc_last)\n",
    "    new = os.path.sep.join(root_direc_split + to_change_split[to_change_last_index+1:])\n",
    "    return new\n",
    "\n",
    "def update_yaml_artifact_path(mlrun_direc: str) -> None:\n",
    "    \"\"\"\n",
    "    Will search through the provided directory and update the 'artifact_uri' within the yaml files it contains.\n",
    "\n",
    "    This is to fix issues with MLFLOW where absolute paths are used for all artifact URIs.\n",
    "    \"\"\"\n",
    "    assert os.path.isdir(mlrun_direc), f\"Input path {mlrun_direc} must be a directory.\"\n",
    "    for root, dirs, files in os.walk(mlrun_direc):\n",
    "        for f in files:\n",
    "            if os.path.splitext(f)[1] in [\".yaml\", \".yml\"]:\n",
    "                this_path = os.path.join(root, f)\n",
    "                yml = yaml.safe_load(open(this_path, 'r'))\n",
    "                if 'artifact_uri' in yml.keys(): \n",
    "                    artifact_path = yml['artifact_uri']\n",
    "                    yml['artifact_uri'] = change_root(root, artifact_path)\n",
    "                elif 'artifact_location' in yml.keys():\n",
    "                    artifact_path = yml['artifact_location']\n",
    "                    yml['artifact_location'] = change_root(root, artifact_path)\n",
    "                else: continue\n",
    "                yaml.dump(yml, open(this_path, \"w\"))"
   ]
  },
  {
   "cell_type": "code",
   "execution_count": 52,
   "id": "09bcf7d0",
   "metadata": {},
   "outputs": [],
   "source": [
    "update_yaml_artifact_path(\"/mnt/d/mlruns\")"
   ]
  },
  {
   "cell_type": "code",
   "execution_count": null,
   "id": "610c04a8",
   "metadata": {},
   "outputs": [],
   "source": []
  }
 ],
 "metadata": {
  "kernelspec": {
   "display_name": "care",
   "language": "python",
   "name": "python3"
  },
  "language_info": {
   "codemirror_mode": {
    "name": "ipython",
    "version": 3
   },
   "file_extension": ".py",
   "mimetype": "text/x-python",
   "name": "python",
   "nbconvert_exporter": "python",
   "pygments_lexer": "ipython3",
   "version": "3.12.0"
  }
 },
 "nbformat": 4,
 "nbformat_minor": 5
}
