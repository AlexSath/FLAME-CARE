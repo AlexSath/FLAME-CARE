{
 "cells": [
  {
   "cell_type": "code",
   "execution_count": null,
   "id": "b2989513",
   "metadata": {},
   "outputs": [],
   "source": [
    "import os, logging\n",
    "from datetime import datetime\n",
    "\n",
    "import mlflow\n",
    "import numpy as np\n",
    "import tensorflow as tf\n",
    "from cloudpickle import Pickler\n",
    "from mlflow.pyfunc import log_model\n",
    "from csbdeep.models import Config, CARE\n",
    "\n",
    "from flame.model import MLFLOW_CARE_Model"
   ]
  },
  {
   "cell_type": "code",
   "execution_count": null,
   "id": "0f178d3c",
   "metadata": {},
   "outputs": [],
   "source": [
    "logger = logging.getLogger(\"main\")\n",
    "logging.basicConfig(\n",
    "    filename=f\"{datetime.now().strftime('%Y%m%d-%H%M%S')}_logger.log\",\n",
    "    encoding=\"utf-8\",\n",
    "    level=logging.DEBUG\n",
    ")"
   ]
  },
  {
   "cell_type": "code",
   "execution_count": null,
   "id": "409c3fb4",
   "metadata": {},
   "outputs": [],
   "source": [
    "TEST_MODEL_DIR = os.path.join(os.getcwd(), \"test_model\")\n",
    "OTHER_MODEL_DIR = \"/mnt/d/models/FLAME_CARE_5F-40F/0\""
   ]
  },
  {
   "cell_type": "code",
   "execution_count": null,
   "id": "e1c50cd0",
   "metadata": {},
   "outputs": [],
   "source": [
    "test_config = Config(\n",
    "    axes='YXC',\n",
    ")"
   ]
  }
 ],
 "metadata": {
  "kernelspec": {
   "display_name": "care",
   "language": "python",
   "name": "python3"
  },
  "language_info": {
   "codemirror_mode": {
    "name": "ipython",
    "version": 3
   },
   "file_extension": ".py",
   "mimetype": "text/x-python",
   "name": "python",
   "nbconvert_exporter": "python",
   "pygments_lexer": "ipython3",
   "version": "3.12.0"
  }
 },
 "nbformat": 4,
 "nbformat_minor": 5
}
