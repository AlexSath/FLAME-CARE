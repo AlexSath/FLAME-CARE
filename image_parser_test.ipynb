{
 "cells": [
  {
   "cell_type": "code",
   "execution_count": 1,
   "id": "367d5f9f",
   "metadata": {},
   "outputs": [],
   "source": [
    "import os\n",
    "import logging\n",
    "from datetime import datetime, timezone\n",
    "\n",
    "import tifffile as tiff\n",
    "import numpy as np\n",
    "\n",
    "from flame import TileData\n",
    "from flame import FLAMEImage"
   ]
  },
  {
   "cell_type": "code",
   "execution_count": 2,
   "id": "7cedef7d",
   "metadata": {},
   "outputs": [],
   "source": [
    "logger = logging.getLogger(\"main\")\n",
    "logging.basicConfig(\n",
    "    filename=f\"{datetime.now().strftime('%Y%m%d-%H%M%S')}_logger.log\",\n",
    "    encoding=\"utf-8\",\n",
    "    level=logging.DEBUG\n",
    ")"
   ]
  },
  {
   "cell_type": "code",
   "execution_count": 3,
   "id": "f14853f4",
   "metadata": {},
   "outputs": [],
   "source": [
    "impath = \"/mnt/d/data/raw/S268_250409_CAREtraining_PL/CAREtraining_ExVivo_scalp/Mosaic06_2x2_FOV600_z85_3Ch/Im_00001.tif\""
   ]
  },
  {
   "cell_type": "code",
   "execution_count": 4,
   "id": "37d3653c",
   "metadata": {},
   "outputs": [],
   "source": [
    "this_img = FLAMEImage(impath, \"tileData.txt\")"
   ]
  },
  {
   "cell_type": "code",
   "execution_count": 5,
   "id": "beae60d4",
   "metadata": {},
   "outputs": [
    {
     "data": {
      "text/plain": [
       "(3, 1200, 1200)"
      ]
     },
     "execution_count": 5,
     "metadata": {},
     "output_type": "execute_result"
    }
   ],
   "source": [
    "this_img.get_frames(0, 8).shape"
   ]
  },
  {
   "cell_type": "code",
   "execution_count": null,
   "id": "d68eb16e",
   "metadata": {},
   "outputs": [],
   "source": []
  }
 ],
 "metadata": {
  "kernelspec": {
   "display_name": "care",
   "language": "python",
   "name": "python3"
  },
  "language_info": {
   "codemirror_mode": {
    "name": "ipython",
    "version": 3
   },
   "file_extension": ".py",
   "mimetype": "text/x-python",
   "name": "python",
   "nbconvert_exporter": "python",
   "pygments_lexer": "ipython3",
   "version": "3.12.0"
  }
 },
 "nbformat": 4,
 "nbformat_minor": 5
}
