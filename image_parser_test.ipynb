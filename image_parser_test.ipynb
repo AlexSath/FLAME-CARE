{
 "cells": [
  {
   "cell_type": "code",
   "execution_count": 1,
   "id": "367d5f9f",
   "metadata": {},
   "outputs": [],
   "source": [
    "import os\n",
    "import json\n",
    "import logging\n",
    "from datetime import datetime, timezone\n",
    "\n",
    "import tifffile as tiff\n",
    "import numpy as np\n",
    "\n",
    "from flame_image.TileData import TileData"
   ]
  },
  {
   "cell_type": "code",
   "execution_count": 2,
   "id": "7cedef7d",
   "metadata": {},
   "outputs": [],
   "source": [
    "logger = logging.getLogger(\"main\")\n",
    "logging.basicConfig(\n",
    "    filename=f\"{datetime.now().strftime('%Y%m%d-%H%M%S')}_logger.log\",\n",
    "    encoding=\"utf-8\",\n",
    "    level=logging.DEBUG\n",
    ")"
   ]
  },
  {
   "cell_type": "code",
   "execution_count": null,
   "id": "98dd9158",
   "metadata": {},
   "outputs": [],
   "source": [
    "class FLAMEImage():\n",
    "    def __init__(self, impath: str, jsonext: str) -> None:\n",
    "        self.logger = logging.getLogger(\"main\")\n",
    "\n",
    "        self.impath = impath\n",
    "        self.logger.info(f\"Loading FLAME Image from {impath}\")\n",
    "\n",
    "        try:\n",
    "            self.jsonpath = self.get_json_path(jsonext)\n",
    "            self.tileData = TileData(self.jsonpath)\n",
    "        except Exception as e:\n",
    "            self.logger.exception(f\"Could not initialize FLAMEImage object from {impath}\")\n",
    "            raise\n",
    "        \n",
    "        self.logger.info(f\"Loaded FLAME Image tile data with {len(self.tileData)} data points\")\n",
    "        self.raw = tiff.imread(self.impath)\n",
    "\n",
    "    def get_json_path(self, ext: str) -> str:\n",
    "        imname, imext = os.path.splitext(self.impath)\n",
    "        jsonpath = f\"{imname}.{ext}\"\n",
    "        if os.path.isfile(jsonpath):\n",
    "            return jsonpath\n",
    "        else:\n",
    "            self.logger.exception(f\"Could not find JSON associated with the image {imname} ({ext} was provided as JSON extention)\")\n",
    "            raise\n",
    "\n",
    "    def __repr__(self) -> str:\n",
    "        return f\"FLAME Image @ {self.impath}\"\n",
    "\n",
    "    def __str__(self) -> str:\n",
    "        return f\"FLAME Image @ {self.impath}\"\n"
   ]
  },
  {
   "cell_type": "code",
   "execution_count": 4,
   "id": "f14853f4",
   "metadata": {},
   "outputs": [],
   "source": [
    "impath = \"/mnt/d/data/raw/S268_250409_CAREtraining_PL/CAREtraining_ExVivo_scalp/Mosaic06_2x2_FOV600_z85_3Ch/Im_00001.tif\""
   ]
  },
  {
   "cell_type": "code",
   "execution_count": 5,
   "id": "37d3653c",
   "metadata": {},
   "outputs": [],
   "source": [
    "this_img = FLAMEImage(impath, \"tileData.txt\")"
   ]
  },
  {
   "cell_type": "code",
   "execution_count": 10,
   "id": "beae60d4",
   "metadata": {},
   "outputs": [
    {
     "data": {
      "text/plain": [
       "(40, 3, 1200, 1200)"
      ]
     },
     "execution_count": 10,
     "metadata": {},
     "output_type": "execute_result"
    }
   ],
   "source": [
    "this_img.raw.shape"
   ]
  },
  {
   "cell_type": "code",
   "execution_count": null,
   "id": "d68eb16e",
   "metadata": {},
   "outputs": [],
   "source": []
  }
 ],
 "metadata": {
  "kernelspec": {
   "display_name": "care",
   "language": "python",
   "name": "python3"
  },
  "language_info": {
   "codemirror_mode": {
    "name": "ipython",
    "version": 3
   },
   "file_extension": ".py",
   "mimetype": "text/x-python",
   "name": "python",
   "nbconvert_exporter": "python",
   "pygments_lexer": "ipython3",
   "version": "3.12.0"
  }
 },
 "nbformat": 4,
 "nbformat_minor": 5
}
