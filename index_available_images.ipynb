{
 "cells": [
  {
   "cell_type": "code",
   "execution_count": null,
   "id": "367d5f9f",
   "metadata": {},
   "outputs": [],
   "source": [
    "import os\n",
    "import logging\n",
    "from datetime import datetime, timezone\n",
    "\n",
    "import tifffile as tiff\n",
    "import pandas as pd\n",
    "import numpy as np\n",
    "\n",
    "from flame import TileData\n",
    "from flame import FLAMEImage\n",
    "from flame.io import get_unshared_path"
   ]
  },
  {
   "cell_type": "markdown",
   "id": "d71eb7ad",
   "metadata": {},
   "source": [
    "## Inputs"
   ]
  },
  {
   "cell_type": "code",
   "execution_count": null,
   "id": "674637cb",
   "metadata": {},
   "outputs": [],
   "source": [
    "INPUT_DIREC = \"/mnt/d/data/raw\"\n",
    "DATASET_DIREC = \"/mnt/d/code/Balu_CARE/datasets\"\n",
    "IMAGE_INDEX_PATH = os.path.join(DATASET_DIREC, \"raw_image_index.csv\")\n",
    "assert os.path.isfile(IMAGE_INDEX_PATH), f\"Image index could not be found at {IMAGE_INDEX_PATH}\"\n",
    "IMAGE_INDEX = pd.read_csv(IMAGE_INDEX_PATH)\n",
    "RESET_IMAGEARR_NFRAMES = True"
   ]
  },
  {
   "cell_type": "code",
   "execution_count": null,
   "id": "01237ece",
   "metadata": {},
   "outputs": [],
   "source": [
    "IMAGE_INDEX.head()"
   ]
  },
  {
   "cell_type": "code",
   "execution_count": null,
   "id": "da717425",
   "metadata": {},
   "outputs": [],
   "source": [
    "len(IMAGE_INDEX)"
   ]
  },
  {
   "cell_type": "code",
   "execution_count": null,
   "id": "5386880f",
   "metadata": {},
   "outputs": [],
   "source": [
    "PREINDEXED_IMAGES = IMAGE_INDEX['image']\n",
    "PREINDEXED_NFRAMES = IMAGE_INDEX['imgarr_nframes']\n",
    "if RESET_IMAGEARR_NFRAMES: PREINDEXED_NFRAMES[:] = np.nan\n"
   ]
  },
  {
   "cell_type": "markdown",
   "id": "b64635b5",
   "metadata": {},
   "source": [
    "### Initializing Logger instance"
   ]
  },
  {
   "cell_type": "code",
   "execution_count": null,
   "id": "7cedef7d",
   "metadata": {},
   "outputs": [],
   "source": [
    "logger = logging.getLogger(\"main\")\n",
    "logging.basicConfig(\n",
    "    filename=os.path.join(os.getcwd(), \"logs\", f\"{datetime.now().strftime('%Y%m%d-%H%M%S')}_logger.log\"),\n",
    "    encoding=\"utf-8\",\n",
    "    level=logging.DEBUG\n",
    ")"
   ]
  },
  {
   "cell_type": "markdown",
   "id": "83c19e17",
   "metadata": {},
   "source": [
    "### Getting all TIF files from input directory"
   ]
  },
  {
   "cell_type": "code",
   "execution_count": null,
   "id": "580c2cc0",
   "metadata": {},
   "outputs": [],
   "source": [
    "PREINDEXED_IMAGES[0] in PREINDEXED_IMAGES.values"
   ]
  },
  {
   "cell_type": "code",
   "execution_count": null,
   "id": "3e8ad531",
   "metadata": {},
   "outputs": [],
   "source": [
    "logger.info(f\"Reading TIF images from {INPUT_DIREC}\")"
   ]
  },
  {
   "cell_type": "code",
   "execution_count": null,
   "id": "f14853f4",
   "metadata": {},
   "outputs": [],
   "source": [
    "file_list = {}\n",
    "idx = len(IMAGE_INDEX)\n",
    "for root, dirs, files in os.walk(INPUT_DIREC):\n",
    "    for f in files:\n",
    "        if \".tif\" in f or \".tiff\" in f:\n",
    "            this_path = get_unshared_path(INPUT_DIREC, os.path.join(root, f))\n",
    "            if this_path in PREINDEXED_IMAGES.values:\n",
    "                continue\n",
    "            file_list[idx] = this_path\n",
    "            idx += 1"
   ]
  },
  {
   "cell_type": "code",
   "execution_count": null,
   "id": "0a237ddc",
   "metadata": {},
   "outputs": [],
   "source": [
    "len(file_list)"
   ]
  },
  {
   "cell_type": "markdown",
   "id": "0ec4cbcf",
   "metadata": {},
   "source": [
    "### Indexing paths that will be added to MLFlow dataset"
   ]
  },
  {
   "cell_type": "code",
   "execution_count": null,
   "id": "8997bd83",
   "metadata": {},
   "outputs": [],
   "source": [
    "ids = list(IMAGE_INDEX['id'])\n",
    "names = list(PREINDEXED_IMAGES)\n",
    "nframes = list(PREINDEXED_NFRAMES)\n",
    "for idx, filepath in file_list.items():\n",
    "    ids.append(idx)\n",
    "    names.append(filepath)\n",
    "    nframes.append(np.nan) # new images have nan nframes\n",
    "\n",
    "print(f\"Number of ids: {len(ids)}\")\n",
    "print('\\n'.join(names))"
   ]
  },
  {
   "cell_type": "code",
   "execution_count": null,
   "id": "37d3653c",
   "metadata": {},
   "outputs": [],
   "source": [
    "\n",
    "image_index = pd.DataFrame({\n",
    "    \"image\": names,\n",
    "    \"imgarr_nframes\": nframes\n",
    "})"
   ]
  },
  {
   "cell_type": "code",
   "execution_count": null,
   "id": "609e8114",
   "metadata": {},
   "outputs": [],
   "source": [
    "image_index = image_index.set_index([pd.Index(ids)])\n",
    "image_index.index.name = 'id'"
   ]
  },
  {
   "cell_type": "code",
   "execution_count": null,
   "id": "513751a9",
   "metadata": {},
   "outputs": [],
   "source": [
    "image_index"
   ]
  },
  {
   "cell_type": "code",
   "execution_count": null,
   "id": "615a7141",
   "metadata": {},
   "outputs": [],
   "source": [
    "image_index.to_csv(IMAGE_INDEX_PATH)"
   ]
  },
  {
   "cell_type": "code",
   "execution_count": null,
   "id": "4c3fa58a",
   "metadata": {},
   "outputs": [],
   "source": []
  }
 ],
 "metadata": {
  "kernelspec": {
   "display_name": "care",
   "language": "python",
   "name": "python3"
  },
  "language_info": {
   "codemirror_mode": {
    "name": "ipython",
    "version": 3
   },
   "file_extension": ".py",
   "mimetype": "text/x-python",
   "name": "python",
   "nbconvert_exporter": "python",
   "pygments_lexer": "ipython3",
   "version": "3.12.0"
  }
 },
 "nbformat": 4,
 "nbformat_minor": 5
}
