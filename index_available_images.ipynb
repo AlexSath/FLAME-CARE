{
 "cells": [
  {
   "cell_type": "code",
   "execution_count": 1,
   "id": "367d5f9f",
   "metadata": {},
   "outputs": [],
   "source": [
    "import os\n",
    "import logging\n",
    "from datetime import datetime, timezone\n",
    "\n",
    "import tifffile as tiff\n",
    "import pandas as pd\n",
    "import numpy as np\n",
    "\n",
    "from flame import TileData\n",
    "from flame import FLAMEImage"
   ]
  },
  {
   "cell_type": "markdown",
   "id": "d71eb7ad",
   "metadata": {},
   "source": [
    "## Inputs"
   ]
  },
  {
   "cell_type": "code",
   "execution_count": 2,
   "id": "674637cb",
   "metadata": {},
   "outputs": [],
   "source": [
    "INPUT_DIREC = \"/mnt/d/data/raw\""
   ]
  },
  {
   "cell_type": "markdown",
   "id": "b64635b5",
   "metadata": {},
   "source": [
    "### Initializing Logger instance"
   ]
  },
  {
   "cell_type": "code",
   "execution_count": 3,
   "id": "7cedef7d",
   "metadata": {},
   "outputs": [],
   "source": [
    "logger = logging.getLogger(\"main\")\n",
    "logging.basicConfig(\n",
    "    filename=f\"{datetime.now().strftime('%Y%m%d-%H%M%S')}_logger.log\",\n",
    "    encoding=\"utf-8\",\n",
    "    level=logging.DEBUG\n",
    ")"
   ]
  },
  {
   "cell_type": "markdown",
   "id": "83c19e17",
   "metadata": {},
   "source": [
    "### Getting all TIF files from input directory"
   ]
  },
  {
   "cell_type": "code",
   "execution_count": 4,
   "id": "3e8ad531",
   "metadata": {},
   "outputs": [],
   "source": [
    "logger.info(f\"Reading TIF images from {INPUT_DIREC}\")"
   ]
  },
  {
   "cell_type": "code",
   "execution_count": 9,
   "id": "f14853f4",
   "metadata": {},
   "outputs": [],
   "source": [
    "file_list = {}\n",
    "idx = 0\n",
    "for root, dirs, files in os.walk(INPUT_DIREC):\n",
    "    for f in files:\n",
    "        if \".tif\" in f or \".tiff\" in f:\n",
    "            file_list[idx] = os.path.join(root, f)\n",
    "            idx += 1"
   ]
  },
  {
   "cell_type": "code",
   "execution_count": 10,
   "id": "0a237ddc",
   "metadata": {},
   "outputs": [
    {
     "data": {
      "text/plain": [
       "81"
      ]
     },
     "execution_count": 10,
     "metadata": {},
     "output_type": "execute_result"
    }
   ],
   "source": [
    "len(file_list)"
   ]
  },
  {
   "cell_type": "markdown",
   "id": "0ec4cbcf",
   "metadata": {},
   "source": [
    "### Indexing paths that will be added to MLFlow dataset"
   ]
  },
  {
   "cell_type": "code",
   "execution_count": 12,
   "id": "8997bd83",
   "metadata": {},
   "outputs": [
    {
     "name": "stdout",
     "output_type": "stream",
     "text": [
      "[0, 1, 2, 3, 4, 5, 6, 7, 8, 9, 10, 11, 12, 13, 14, 15, 16, 17, 18, 19, 20, 21, 22, 23, 24, 25, 26, 27, 28, 29, 30, 31, 32, 33, 34, 35, 36, 37, 38, 39, 40, 41, 42, 43, 44, 45, 46, 47, 48, 49, 50, 51, 52, 53, 54, 55, 56, 57, 58, 59, 60, 61, 62, 63, 64, 65, 66, 67, 68, 69, 70, 71, 72, 73, 74, 75, 76, 77, 78, 79, 80]\n",
      "S268_250409_CAREtraining_PL/CAREtraining_ExVivo_scalp/Mosaic01_2x2_FOV600_z130_3Ch/Im_00001.tif\n",
      "S268_250409_CAREtraining_PL/CAREtraining_ExVivo_scalp/Mosaic01_2x2_FOV600_z130_3Ch/Im_00002.tif\n",
      "S268_250409_CAREtraining_PL/CAREtraining_ExVivo_scalp/Mosaic01_2x2_FOV600_z130_3Ch/Im_00003.tif\n",
      "S268_250409_CAREtraining_PL/CAREtraining_ExVivo_scalp/Mosaic01_2x2_FOV600_z130_3Ch/Im_00004.tif\n",
      "S268_250409_CAREtraining_PL/CAREtraining_ExVivo_scalp/Mosaic02_1x7_FOV1100_z65_3Ch/Im_00001.tif\n",
      "S268_250409_CAREtraining_PL/CAREtraining_ExVivo_scalp/Mosaic02_1x7_FOV1100_z65_3Ch/Im_00002.tif\n",
      "S268_250409_CAREtraining_PL/CAREtraining_ExVivo_scalp/Mosaic02_1x7_FOV1100_z65_3Ch/Im_00003.tif\n",
      "S268_250409_CAREtraining_PL/CAREtraining_ExVivo_scalp/Mosaic02_1x7_FOV1100_z65_3Ch/Im_00004.tif\n",
      "S268_250409_CAREtraining_PL/CAREtraining_ExVivo_scalp/Mosaic02_1x7_FOV1100_z65_3Ch/Im_00005.tif\n",
      "S268_250409_CAREtraining_PL/CAREtraining_ExVivo_scalp/Mosaic02_1x7_FOV1100_z65_3Ch/Im_00006.tif\n",
      "S268_250409_CAREtraining_PL/CAREtraining_ExVivo_scalp/Mosaic02_1x7_FOV1100_z65_3Ch/Im_00007.tif\n",
      "S268_250409_CAREtraining_PL/CAREtraining_ExVivo_scalp/Mosaic03_2x2_FOV600_z65_3Ch/Im_00001.tif\n",
      "S268_250409_CAREtraining_PL/CAREtraining_ExVivo_scalp/Mosaic03_2x2_FOV600_z65_3Ch/Im_00002.tif\n",
      "S268_250409_CAREtraining_PL/CAREtraining_ExVivo_scalp/Mosaic03_2x2_FOV600_z65_3Ch/Im_00003.tif\n",
      "S268_250409_CAREtraining_PL/CAREtraining_ExVivo_scalp/Mosaic03_2x2_FOV600_z65_3Ch/Im_00004.tif\n",
      "S268_250409_CAREtraining_PL/CAREtraining_ExVivo_scalp/Mosaic04_2x2_FOV600_z70_3Ch/Im_00001.tif\n",
      "S268_250409_CAREtraining_PL/CAREtraining_ExVivo_scalp/Mosaic04_2x2_FOV600_z70_3Ch/Im_00002.tif\n",
      "S268_250409_CAREtraining_PL/CAREtraining_ExVivo_scalp/Mosaic04_2x2_FOV600_z70_3Ch/Im_00003.tif\n",
      "S268_250409_CAREtraining_PL/CAREtraining_ExVivo_scalp/Mosaic04_2x2_FOV600_z70_3Ch/Im_00004.tif\n",
      "S268_250409_CAREtraining_PL/CAREtraining_ExVivo_scalp/Mosaic05_2x2_FOV600_z75_3Ch/Im_00001.tif\n",
      "S268_250409_CAREtraining_PL/CAREtraining_ExVivo_scalp/Mosaic05_2x2_FOV600_z75_3Ch/Im_00002.tif\n",
      "S268_250409_CAREtraining_PL/CAREtraining_ExVivo_scalp/Mosaic05_2x2_FOV600_z75_3Ch/Im_00003.tif\n",
      "S268_250409_CAREtraining_PL/CAREtraining_ExVivo_scalp/Mosaic05_2x2_FOV600_z75_3Ch/Im_00004.tif\n",
      "S268_250409_CAREtraining_PL/CAREtraining_ExVivo_scalp/Mosaic06_2x2_FOV600_z85_3Ch/Im_00001.tif\n",
      "S268_250409_CAREtraining_PL/CAREtraining_ExVivo_scalp/Mosaic06_2x2_FOV600_z85_3Ch/Im_00002.tif\n",
      "S268_250409_CAREtraining_PL/CAREtraining_ExVivo_scalp/Mosaic06_2x2_FOV600_z85_3Ch/Im_00003.tif\n",
      "S268_250409_CAREtraining_PL/CAREtraining_ExVivo_scalp/Mosaic06_2x2_FOV600_z85_3Ch/Im_00004.tif\n",
      "S268_250409_CAREtraining_PL/coumarin6-0.3LP_ExVivo_slide/Image01_FOV600_z70_32Sp/Im_00001.tif\n",
      "S268_250409_CAREtraining_PL/coumarin6-0.3LP_ExVivo_slide/Image02_FOV600_z70_32A1/Im_00001.tif\n",
      "S268_250409_CAREtraining_PL/coumarin6-0.3LP_ExVivo_slide/Image03_FOV600_z70_32A0/Im_00001.tif\n",
      "S268_250409_CAREtraining_PL/coumarin6_ExVivo_slide/Image01_FOV600_z70_32Sp/Im_00001.tif\n",
      "S268_250409_CAREtraining_PL/coumarin6_ExVivo_slide/Mosaic01_2x2_FOV600_z70_32Sp/Im_00002.tif\n",
      "S274_250507_CAREtraining_PL/SCCdogear_ExVivo_cheek/Mosaic01_1x9_FOV1100_z85_3Ch/Im_00001.tif\n",
      "S274_250507_CAREtraining_PL/SCCdogear_ExVivo_cheek/Mosaic01_1x9_FOV1100_z85_3Ch/Im_00002.tif\n",
      "S274_250507_CAREtraining_PL/SCCdogear_ExVivo_cheek/Mosaic01_1x9_FOV1100_z85_3Ch/Im_00003.tif\n",
      "S274_250507_CAREtraining_PL/SCCdogear_ExVivo_cheek/Mosaic01_1x9_FOV1100_z85_3Ch/Im_00004.tif\n",
      "S274_250507_CAREtraining_PL/SCCdogear_ExVivo_cheek/Mosaic01_1x9_FOV1100_z85_3Ch/Im_00005.tif\n",
      "S274_250507_CAREtraining_PL/SCCdogear_ExVivo_cheek/Mosaic01_1x9_FOV1100_z85_3Ch/Im_00006.tif\n",
      "S274_250507_CAREtraining_PL/SCCdogear_ExVivo_cheek/Mosaic01_1x9_FOV1100_z85_3Ch/Im_00007.tif\n",
      "S274_250507_CAREtraining_PL/SCCdogear_ExVivo_cheek/Mosaic01_1x9_FOV1100_z85_3Ch/Im_00008.tif\n",
      "S274_250507_CAREtraining_PL/SCCdogear_ExVivo_cheek/Mosaic01_1x9_FOV1100_z85_3Ch/Im_00009.tif\n",
      "S274_250507_CAREtraining_PL/SCCdogear_ExVivo_cheek/Mosaic02_4x4_FOV600_z85_3Ch/Im_00001.tif\n",
      "S274_250507_CAREtraining_PL/SCCdogear_ExVivo_cheek/Mosaic02_4x4_FOV600_z85_3Ch/Im_00002.tif\n",
      "S274_250507_CAREtraining_PL/SCCdogear_ExVivo_cheek/Mosaic02_4x4_FOV600_z85_3Ch/Im_00003.tif\n",
      "S274_250507_CAREtraining_PL/SCCdogear_ExVivo_cheek/Mosaic02_4x4_FOV600_z85_3Ch/Im_00004.tif\n",
      "S274_250507_CAREtraining_PL/SCCdogear_ExVivo_cheek/Mosaic02_4x4_FOV600_z85_3Ch/Im_00005.tif\n",
      "S274_250507_CAREtraining_PL/SCCdogear_ExVivo_cheek/Mosaic02_4x4_FOV600_z85_3Ch/Im_00006.tif\n",
      "S274_250507_CAREtraining_PL/SCCdogear_ExVivo_cheek/Mosaic02_4x4_FOV600_z85_3Ch/Im_00007.tif\n",
      "S274_250507_CAREtraining_PL/SCCdogear_ExVivo_cheek/Mosaic02_4x4_FOV600_z85_3Ch/Im_00008.tif\n",
      "S274_250507_CAREtraining_PL/SCCdogear_ExVivo_cheek/Mosaic02_4x4_FOV600_z85_3Ch/Im_00009.tif\n",
      "S274_250507_CAREtraining_PL/SCCdogear_ExVivo_cheek/Mosaic02_4x4_FOV600_z85_3Ch/Im_00010.tif\n",
      "S274_250507_CAREtraining_PL/SCCdogear_ExVivo_cheek/Mosaic02_4x4_FOV600_z85_3Ch/Im_00011.tif\n",
      "S274_250507_CAREtraining_PL/SCCdogear_ExVivo_cheek/Mosaic02_4x4_FOV600_z85_3Ch/Im_00012.tif\n",
      "S274_250507_CAREtraining_PL/SCCdogear_ExVivo_cheek/Mosaic02_4x4_FOV600_z85_3Ch/Im_00013.tif\n",
      "S274_250507_CAREtraining_PL/SCCdogear_ExVivo_cheek/Mosaic02_4x4_FOV600_z85_3Ch/Im_00014.tif\n",
      "S274_250507_CAREtraining_PL/SCCdogear_ExVivo_cheek/Mosaic02_4x4_FOV600_z85_3Ch/Im_00015.tif\n",
      "S274_250507_CAREtraining_PL/SCCdogear_ExVivo_cheek/Mosaic02_4x4_FOV600_z85_3Ch/Im_00016.tif\n",
      "S274_250507_CAREtraining_PL/SCCdogear_ExVivo_cheek/Mosaic03_2x2_FOV600_z85_3Ch/Im_00001.tif\n",
      "S274_250507_CAREtraining_PL/SCCdogear_ExVivo_cheek/Mosaic03_2x2_FOV600_z85_3Ch/Im_00002.tif\n",
      "S274_250507_CAREtraining_PL/SCCdogear_ExVivo_cheek/Mosaic03_2x2_FOV600_z85_3Ch/Im_00003.tif\n",
      "S274_250507_CAREtraining_PL/SCCdogear_ExVivo_cheek/Mosaic03_2x2_FOV600_z85_3Ch/Im_00004.tif\n",
      "S274_250507_CAREtraining_PL/SCCdogear_ExVivo_cheek/Mosaic04_2x2_FOV600_z105_3Ch/Im_00001.tif\n",
      "S274_250507_CAREtraining_PL/SCCdogear_ExVivo_cheek/Mosaic04_2x2_FOV600_z105_3Ch/Im_00002.tif\n",
      "S274_250507_CAREtraining_PL/SCCdogear_ExVivo_cheek/Mosaic04_2x2_FOV600_z105_3Ch/Im_00003.tif\n",
      "S274_250507_CAREtraining_PL/SCCdogear_ExVivo_cheek/Mosaic04_2x2_FOV600_z105_3Ch/Im_00004.tif\n",
      "S274_250507_CAREtraining_PL/SCCdogear_ExVivo_cheek/Mosaic05_2x2_FOV600_z125_3Ch/Im_00001.tif\n",
      "S274_250507_CAREtraining_PL/SCCdogear_ExVivo_cheek/Mosaic05_2x2_FOV600_z125_3Ch/Im_00002.tif\n",
      "S274_250507_CAREtraining_PL/SCCdogear_ExVivo_cheek/Mosaic05_2x2_FOV600_z125_3Ch/Im_00003.tif\n",
      "S274_250507_CAREtraining_PL/SCCdogear_ExVivo_cheek/Mosaic05_2x2_FOV600_z125_3Ch/Im_00004.tif\n",
      "S274_250507_CAREtraining_PL/SCCdogear_ExVivo_cheek/Mosaic06_2x2_FOV600_z145_3Ch/Im_00001.tif\n",
      "S274_250507_CAREtraining_PL/SCCdogear_ExVivo_cheek/Mosaic06_2x2_FOV600_z145_3Ch/Im_00002.tif\n",
      "S274_250507_CAREtraining_PL/SCCdogear_ExVivo_cheek/Mosaic06_2x2_FOV600_z145_3Ch/Im_00003.tif\n",
      "S274_250507_CAREtraining_PL/SCCdogear_ExVivo_cheek/Mosaic06_2x2_FOV600_z145_3Ch/Im_00004.tif\n",
      "S274_250507_CAREtraining_PL/SCCdogear_ExVivo_cheek/Mosaic07_2x2_FOV600_z165_3Ch/Im_00001.tif\n",
      "S274_250507_CAREtraining_PL/SCCdogear_ExVivo_cheek/Mosaic07_2x2_FOV600_z165_3Ch/Im_00002.tif\n",
      "S274_250507_CAREtraining_PL/SCCdogear_ExVivo_cheek/Mosaic07_2x2_FOV600_z165_3Ch/Im_00003.tif\n",
      "S274_250507_CAREtraining_PL/SCCdogear_ExVivo_cheek/Mosaic07_2x2_FOV600_z165_3Ch/Im_00004.tif\n",
      "S274_250507_CAREtraining_PL/SCCdogear_ExVivo_cheek/Mosaic08_2x2_FOV600_z185_3Ch/Im_00001.tif\n",
      "S274_250507_CAREtraining_PL/SCCdogear_ExVivo_cheek/Mosaic08_2x2_FOV600_z185_3Ch/Im_00002.tif\n",
      "S274_250507_CAREtraining_PL/SCCdogear_ExVivo_cheek/Mosaic08_2x2_FOV600_z185_3Ch/Im_00003.tif\n",
      "S274_250507_CAREtraining_PL/SCCdogear_ExVivo_cheek/Mosaic08_2x2_FOV600_z185_3Ch/Im_00004.tif\n"
     ]
    }
   ],
   "source": [
    "n_base = len(INPUT_DIREC.split(os.path.sep))\n",
    "ids = []\n",
    "names = []\n",
    "for idx, filepath in file_list.items():\n",
    "    new_root = os.path.sep.join(filepath.split(os.path.sep)[n_base:])\n",
    "    ids.append(idx)\n",
    "    names.append(new_root)\n",
    "\n",
    "print(ids)\n",
    "print('\\n'.join(names))"
   ]
  },
  {
   "cell_type": "code",
   "execution_count": 13,
   "id": "37d3653c",
   "metadata": {},
   "outputs": [],
   "source": [
    "image_index = pd.DataFrame({\n",
    "    \"image\": names\n",
    "})"
   ]
  },
  {
   "cell_type": "code",
   "execution_count": 14,
   "id": "609e8114",
   "metadata": {},
   "outputs": [],
   "source": [
    "image_index = image_index.set_index([pd.Index(ids)])\n",
    "image_index.index.name = 'id'"
   ]
  },
  {
   "cell_type": "code",
   "execution_count": 15,
   "id": "513751a9",
   "metadata": {},
   "outputs": [
    {
     "data": {
      "text/html": [
       "<div>\n",
       "<style scoped>\n",
       "    .dataframe tbody tr th:only-of-type {\n",
       "        vertical-align: middle;\n",
       "    }\n",
       "\n",
       "    .dataframe tbody tr th {\n",
       "        vertical-align: top;\n",
       "    }\n",
       "\n",
       "    .dataframe thead th {\n",
       "        text-align: right;\n",
       "    }\n",
       "</style>\n",
       "<table border=\"1\" class=\"dataframe\">\n",
       "  <thead>\n",
       "    <tr style=\"text-align: right;\">\n",
       "      <th></th>\n",
       "      <th>image</th>\n",
       "    </tr>\n",
       "    <tr>\n",
       "      <th>id</th>\n",
       "      <th></th>\n",
       "    </tr>\n",
       "  </thead>\n",
       "  <tbody>\n",
       "    <tr>\n",
       "      <th>0</th>\n",
       "      <td>S268_250409_CAREtraining_PL/CAREtraining_ExViv...</td>\n",
       "    </tr>\n",
       "    <tr>\n",
       "      <th>1</th>\n",
       "      <td>S268_250409_CAREtraining_PL/CAREtraining_ExViv...</td>\n",
       "    </tr>\n",
       "    <tr>\n",
       "      <th>2</th>\n",
       "      <td>S268_250409_CAREtraining_PL/CAREtraining_ExViv...</td>\n",
       "    </tr>\n",
       "    <tr>\n",
       "      <th>3</th>\n",
       "      <td>S268_250409_CAREtraining_PL/CAREtraining_ExViv...</td>\n",
       "    </tr>\n",
       "    <tr>\n",
       "      <th>4</th>\n",
       "      <td>S268_250409_CAREtraining_PL/CAREtraining_ExViv...</td>\n",
       "    </tr>\n",
       "    <tr>\n",
       "      <th>...</th>\n",
       "      <td>...</td>\n",
       "    </tr>\n",
       "    <tr>\n",
       "      <th>76</th>\n",
       "      <td>S274_250507_CAREtraining_PL/SCCdogear_ExVivo_c...</td>\n",
       "    </tr>\n",
       "    <tr>\n",
       "      <th>77</th>\n",
       "      <td>S274_250507_CAREtraining_PL/SCCdogear_ExVivo_c...</td>\n",
       "    </tr>\n",
       "    <tr>\n",
       "      <th>78</th>\n",
       "      <td>S274_250507_CAREtraining_PL/SCCdogear_ExVivo_c...</td>\n",
       "    </tr>\n",
       "    <tr>\n",
       "      <th>79</th>\n",
       "      <td>S274_250507_CAREtraining_PL/SCCdogear_ExVivo_c...</td>\n",
       "    </tr>\n",
       "    <tr>\n",
       "      <th>80</th>\n",
       "      <td>S274_250507_CAREtraining_PL/SCCdogear_ExVivo_c...</td>\n",
       "    </tr>\n",
       "  </tbody>\n",
       "</table>\n",
       "<p>81 rows × 1 columns</p>\n",
       "</div>"
      ],
      "text/plain": [
       "                                                image\n",
       "id                                                   \n",
       "0   S268_250409_CAREtraining_PL/CAREtraining_ExViv...\n",
       "1   S268_250409_CAREtraining_PL/CAREtraining_ExViv...\n",
       "2   S268_250409_CAREtraining_PL/CAREtraining_ExViv...\n",
       "3   S268_250409_CAREtraining_PL/CAREtraining_ExViv...\n",
       "4   S268_250409_CAREtraining_PL/CAREtraining_ExViv...\n",
       "..                                                ...\n",
       "76  S274_250507_CAREtraining_PL/SCCdogear_ExVivo_c...\n",
       "77  S274_250507_CAREtraining_PL/SCCdogear_ExVivo_c...\n",
       "78  S274_250507_CAREtraining_PL/SCCdogear_ExVivo_c...\n",
       "79  S274_250507_CAREtraining_PL/SCCdogear_ExVivo_c...\n",
       "80  S274_250507_CAREtraining_PL/SCCdogear_ExVivo_c...\n",
       "\n",
       "[81 rows x 1 columns]"
      ]
     },
     "execution_count": 15,
     "metadata": {},
     "output_type": "execute_result"
    }
   ],
   "source": [
    "image_index"
   ]
  },
  {
   "cell_type": "code",
   "execution_count": 16,
   "id": "615a7141",
   "metadata": {},
   "outputs": [],
   "source": [
    "CSVPATH = os.path.join(os.getcwd(), \"datasets\", f\"raw_image_index.csv\")\n",
    "image_index.to_csv(CSVPATH)"
   ]
  },
  {
   "cell_type": "code",
   "execution_count": null,
   "id": "4c3fa58a",
   "metadata": {},
   "outputs": [],
   "source": []
  }
 ],
 "metadata": {
  "kernelspec": {
   "display_name": "care",
   "language": "python",
   "name": "python3"
  },
  "language_info": {
   "codemirror_mode": {
    "name": "ipython",
    "version": 3
   },
   "file_extension": ".py",
   "mimetype": "text/x-python",
   "name": "python",
   "nbconvert_exporter": "python",
   "pygments_lexer": "ipython3",
   "version": "3.12.0"
  }
 },
 "nbformat": 4,
 "nbformat_minor": 5
}
